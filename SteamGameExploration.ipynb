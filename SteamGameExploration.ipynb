{
 "cells": [
  {
   "cell_type": "markdown",
   "id": "9ccd7ecc",
   "metadata": {},
   "source": [
    "# Recommendation Systems using Steam Data - Preprocessing<a id='top'></a>\n",
    "\n",
    "Steam is the ultimate destination for playing, discussing, and creating games. As such, several developers and players use this platform to share their games and experiences. To optimize the experience of each user, we decided to create recommendation systems which will enhance game recommendations, predict the games success,optimize game ratings, evaluate the impact of each update and provide better insights to the developers and the company itself.\n",
    "\n",
    "\n",
    "Our work is divided in **XXXXXXXXXXXXXXXx** notebooks. The first two notebooks will be used to extract the necessary data to train and evaluate our recomendation systems. Following, we will explore and prepare the dataa to train our models. The next step is to create the recommendation systems which will then be evaluated.\n",
    "\n",
    "In this first notebook, we started by extracting the data using the Steam API as instructed in https://partner.steamgames.com/doc/webapi_overview.\n",
    "\n",
    "The structure of this notebook is as follows:\n",
    "\n",
    "[0. Import Libraries](#libraries) <br>\n",
    "[1. Select Games](#select) <br>\n",
    "&emsp; [1.1. Create Games List](#create_list) <br>\n",
    "&emsp; [1.2. Filtered Games](#filtered) <br>\n",
    "[2. Data Exploration](#explore) <br>\n",
    "&emsp; [2.1. Current List of Games](#current) <br>\n",
    "&emsp; [2.2. Find by Term](#term) <br>\n",
    "&emsp; [2.3. Find by App ID](#app_id) <br>\n",
    "[3. Extract Games Data](#extract) <br>\n",
    "&emsp; [3.1. Select Games](#select_data) <br>\n",
    "&emsp; [3.2. Extract Data](#final_extract) <br>\n"
   ]
  },
  {
   "cell_type": "markdown",
   "id": "a605336c",
   "metadata": {},
   "source": [
    "# 0. Import Libraries<a id='libraries'></a>\n",
    "[to the top](#top)  \n",
    "\n",
    "The first step is to import the necessary libraries."
   ]
  },
  {
   "cell_type": "code",
   "execution_count": 2,
   "id": "4708fd5b-0ddf-4b12-b754-2a9438e5a478",
   "metadata": {},
   "outputs": [],
   "source": [
    "import polars as pl\n",
    "from utils import *"
   ]
  },
  {
   "cell_type": "markdown",
   "id": "a6f11540",
   "metadata": {},
   "source": [
    "# 1. Select Games<a id='select'></a>\n",
    "[to the top](#top)  \n",
    "\n",
    "Before starting to extract any games data, our first step is going to be the selection of the games which data we will use."
   ]
  },
  {
   "cell_type": "markdown",
   "id": "9f413be2",
   "metadata": {},
   "source": [
    "## 1.1. Create Games List<a id='create_list'></a>\n",
    "[to the top](#top)  \n",
    "\n",
    "To select the games, we create a list from a json file created using the information in http://api.steampowered.com/ISteamApps/GetAppList/v2/."
   ]
  },
  {
   "cell_type": "code",
   "execution_count": 2,
   "id": "56b79b32-f094-4066-b19a-079356e325ff",
   "metadata": {},
   "outputs": [],
   "source": [
    "games_list = get_steam_gamesIDs()"
   ]
  },
  {
   "cell_type": "markdown",
   "id": "3242286c",
   "metadata": {},
   "source": [
    "Below, we can see that the link above provides app IDs of 198607 games."
   ]
  },
  {
   "cell_type": "code",
   "execution_count": 3,
   "id": "c0c5ff58-0ae8-4da4-9d56-4519e54b318d",
   "metadata": {},
   "outputs": [
    {
     "name": "stdout",
     "output_type": "stream",
     "text": [
      "198607\n"
     ]
    }
   ],
   "source": [
    "print(len(games_list))"
   ]
  },
  {
   "cell_type": "markdown",
   "id": "0dae5e28",
   "metadata": {},
   "source": [
    "## 1.2. Filtered Games<a id='filtered'></a>\n",
    "[to the top](#top)  \n",
    "\n",
    "As 198607 games evolve using a high computational power or requires a bigger time spam, we decided to filter the games that required specific words od that had characters that are not common in most of the european languages."
   ]
  },
  {
   "cell_type": "code",
   "execution_count": 4,
   "id": "2f985949-dff5-4d9a-a497-20c9bf58de38",
   "metadata": {},
   "outputs": [],
   "source": [
    "filtered_games = clean_games_list(games_list)"
   ]
  },
  {
   "cell_type": "markdown",
   "id": "27399167",
   "metadata": {},
   "source": [
    "Below, we can see that the size of the dataset was reduced to 152312 games."
   ]
  },
  {
   "cell_type": "code",
   "execution_count": 5,
   "id": "07969e5b-de96-4a24-ae36-d340de90d01e",
   "metadata": {},
   "outputs": [
    {
     "name": "stdout",
     "output_type": "stream",
     "text": [
      "152312\n"
     ]
    }
   ],
   "source": [
    "print(len(filtered_games))"
   ]
  },
  {
   "cell_type": "markdown",
   "id": "c20771b0",
   "metadata": {},
   "source": [
    "## 2. Data Exploration<a id='explore'></a>\n",
    "[to the top](#top)  \n",
    "\n",
    "To know a litle more about the data we are going to extract, we decided to do a small initial data exploration."
   ]
  },
  {
   "cell_type": "markdown",
   "id": "178e0707",
   "metadata": {},
   "source": [
    "## 2.1. Current List of Games<a id='current'></a>\n",
    "[to the top](#top)  \n",
    "\n",
    "Below, we can see the last values of the list that we created which include the games ID and name."
   ]
  },
  {
   "cell_type": "code",
   "execution_count": 6,
   "id": "aa3a315b-a420-41f2-9656-bac6cb0014b0",
   "metadata": {},
   "outputs": [
    {
     "data": {
      "text/plain": [
       "[{'appid': 1978590, 'name': 'Anger Foot'},\n",
       " {'appid': 2892660, 'name': \"DON'T EXIST\"},\n",
       " {'appid': 1534840, 'name': 'Hyper Light Breaker'},\n",
       " {'appid': 1243850, 'name': 'This Bed We Made'},\n",
       " {'appid': 701160, 'name': 'Kingdom Two Crowns'},\n",
       " {'appid': 564230, 'name': 'Fire Pro Wrestling World'},\n",
       " {'appid': 2307350, 'name': 'Into the Radius 2'},\n",
       " {'appid': 1494560, 'name': 'Rogue Voltage'},\n",
       " {'appid': 981750, 'name': 'Crystar'},\n",
       " {'appid': 1113010, 'name': 'Chornobyl Liquidators'}]"
      ]
     },
     "execution_count": 6,
     "metadata": {},
     "output_type": "execute_result"
    }
   ],
   "source": [
    "filtered_games[-10:]"
   ]
  },
  {
   "cell_type": "markdown",
   "id": "423ef612",
   "metadata": {},
   "source": [
    "## 2.2. Find by Term<a id='term'></a>\n",
    "[to the top](#top)  \n",
    "\n",
    "After, we decided to create a function that let's us search for any term in the games name."
   ]
  },
  {
   "cell_type": "code",
   "execution_count": 7,
   "id": "092c3b86-90a4-47f8-aa41-18dfcdae5b4b",
   "metadata": {},
   "outputs": [
    {
     "data": {
      "text/plain": [
       "[{'appid': 1344950, 'name': 'Lone King'},\n",
       " {'appid': 1344970, 'name': 'Castle Heck'},\n",
       " {'appid': 1344980, 'name': 'GUNPIG: Firepower For Hire'},\n",
       " {'appid': 1344990, 'name': \"Zefyr: A Thief's Melody\"},\n",
       " {'appid': 1345030, 'name': 'Bomber Games'}]"
      ]
     },
     "execution_count": 7,
     "metadata": {},
     "output_type": "execute_result"
    }
   ],
   "source": [
    "search = find_games_by_term(filtered_games, \" \")\n",
    "search[:5]"
   ]
  },
  {
   "cell_type": "markdown",
   "id": "07e0497e",
   "metadata": {},
   "source": [
    "## 2.3. Find by App ID<a id='app_id'></a>\n",
    "[to the top](#top)  \n",
    "\n",
    "Following, we created another function that can find the games using the App ID."
   ]
  },
  {
   "cell_type": "code",
   "execution_count": 8,
   "id": "d363d3bb-5ab4-462d-9ff4-e589c6555528",
   "metadata": {},
   "outputs": [
    {
     "data": {
      "text/plain": [
       "'Counter-Strike'"
      ]
     },
     "execution_count": 8,
     "metadata": {},
     "output_type": "execute_result"
    }
   ],
   "source": [
    "appid = 10\n",
    "find_game_name(filtered_games, appid)"
   ]
  }
 ],
 "metadata": {
  "kernelspec": {
   "display_name": "Python 3 (ipykernel)",
   "language": "python",
   "name": "python3"
  },
  "language_info": {
   "codemirror_mode": {
    "name": "ipython",
    "version": 3
   },
   "file_extension": ".py",
   "mimetype": "text/x-python",
   "name": "python",
   "nbconvert_exporter": "python",
   "pygments_lexer": "ipython3",
   "version": "3.12.2"
  }
 },
 "nbformat": 4,
 "nbformat_minor": 5
}
