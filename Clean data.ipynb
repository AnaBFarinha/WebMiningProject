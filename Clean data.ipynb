{
 "cells": [
  {
   "cell_type": "code",
   "execution_count": null,
   "id": "9d1df487-7224-4858-bc4b-8cf36f4f6656",
   "metadata": {},
   "outputs": [],
   "source": [
    "import os\n",
    "import re\n",
    "from collections import defaultdict\n",
    "\n",
    "# Directory containing the .parquet files\n",
    "directory = 'path_to_directory'\n",
    "\n",
    "# Regular expression to extract appid and count from filenames\n",
    "pattern = re.compile(r\"(\\d+)_reviews_(\\d+)\\.parquet\")\n",
    "\n",
    "# Dictionary to store the highest count for each appid\n",
    "file_dict = defaultdict(lambda: (0, \"\"))\n",
    "\n",
    "# Step 1: Check all .parquet files and store the file with the highest count for each appid\n",
    "for filename in os.listdir(directory):\n",
    "    if filename.endswith(\".parquet\"):\n",
    "        match = pattern.match(filename)\n",
    "        if match:\n",
    "            appid, count = match.groups()\n",
    "            count = int(count)\n",
    "            if count > 250 and count > file_dict[appid][0]:\n",
    "                file_dict[appid] = (count, filename)\n",
    "\n",
    "# Step 2: Delete all .parquet files that do not have the highest count or count ≤ 250\n",
    "for filename in os.listdir(directory):\n",
    "    if filename.endswith(\".parquet\"):\n",
    "        match = pattern.match(filename)\n",
    "        if match:\n",
    "            appid, count = match.groups()\n",
    "            count = int(count)\n",
    "            # Delete file if it does not have the highest count or if count ≤ 250\n",
    "            if filename != file_dict[appid][1]:\n",
    "                os.remove(os.path.join(directory, filename))"
   ]
  }
 ],
 "metadata": {
  "kernelspec": {
   "display_name": "Python 3 (ipykernel)",
   "language": "python",
   "name": "python3"
  },
  "language_info": {
   "codemirror_mode": {
    "name": "ipython",
    "version": 3
   },
   "file_extension": ".py",
   "mimetype": "text/x-python",
   "name": "python",
   "nbconvert_exporter": "python",
   "pygments_lexer": "ipython3",
   "version": "3.12.2"
  }
 },
 "nbformat": 4,
 "nbformat_minor": 5
}
