{
 "cells": [
  {
   "cell_type": "code",
   "execution_count": 21,
   "id": "b361b8b1-d419-4771-823d-04d57f68c297",
   "metadata": {},
   "outputs": [],
   "source": [
    "from selenium import webdriver\n",
    "from selenium.webdriver.common.by import By\n",
    "from selenium.webdriver.chrome.service import Service\n",
    "from webdriver_manager.chrome import ChromeDriverManager\n",
    "import time\n",
    "import requests\n",
    "import re\n",
    "import json\n",
    "import polars as pl\n",
    "from helper_functions import save_data_to_json"
   ]
  },
  {
   "cell_type": "code",
   "execution_count": 15,
   "id": "14b86e76-c400-483e-bf16-bfa7ce8238ef",
   "metadata": {},
   "outputs": [],
   "source": [
    "def get_steam_gamesIDs():\n",
    "    url = f\"http://api.steampowered.com/ISteamApps/GetAppList/v2/\"\n",
    "    response = requests.get(url)\n",
    "    data = response.json()\n",
    "    data['applist']['apps'] = [{**app, 'appid': str(app['appid'])} for app in data['applist']['apps']]\n",
    "    return data['applist'][\"apps\"]  # This is a list of dictionaries with 'appid' and 'name'"
   ]
  },
  {
   "cell_type": "code",
   "execution_count": 16,
   "id": "c43991e4-9535-4a60-81e2-e653cbc66ab1",
   "metadata": {},
   "outputs": [
    {
     "name": "stdout",
     "output_type": "stream",
     "text": [
      "198677\n"
     ]
    }
   ],
   "source": [
    "games_list = get_steam_gamesIDs()\n",
    "print(len(games_list))"
   ]
  },
  {
   "cell_type": "code",
   "execution_count": 17,
   "id": "65c1d793-f11c-4c2c-86d5-8aaca85c59ca",
   "metadata": {},
   "outputs": [],
   "source": [
    "def clean_games_list(games_list):\n",
    "    # List of keywords to exclude\n",
    "    excluded = ['test', 'client', 'server', 'soundtrack', 'demo']\n",
    "    \n",
    "    # RegEx pattern for checking European characters\n",
    "    european_chars_pattern = re.compile(r'^[a-zA-Z0-9 \\-\\'!@#$%^&*()_+={}[\\]|\\\\:;\"<>,.?/~`€£±§]+$')\n",
    "    \n",
    "    # Filter the list by removing dictionaries whose 'name' is empty,\n",
    "    # contains 'test', 'client', 'server', 'soundtrack', or non-European characters.\n",
    "    filtered_games = [\n",
    "        game for game in games_list \n",
    "        if game['name'] and all(exclude not in game['name'].lower() for exclude in excluded)\n",
    "        and european_chars_pattern.match(game['name'])\n",
    "    ]\n",
    "    return filtered_games"
   ]
  },
  {
   "cell_type": "code",
   "execution_count": 18,
   "id": "c477cf0f-ad33-4198-aadb-127b335f8434",
   "metadata": {},
   "outputs": [
    {
     "name": "stdout",
     "output_type": "stream",
     "text": [
      "152351\n"
     ]
    }
   ],
   "source": [
    "filtered_games = clean_games_list(games_list)\n",
    "print(len(filtered_games))"
   ]
  },
  {
   "cell_type": "code",
   "execution_count": 19,
   "id": "558e953b-6c23-4de5-9ded-1c39a4d91b17",
   "metadata": {},
   "outputs": [],
   "source": [
    "filtered_games = sorted(filtered_games, key=lambda x: x['appid'])"
   ]
  },
  {
   "cell_type": "code",
   "execution_count": 20,
   "id": "549283ac-33a0-4fc8-8e1f-b325e7975fe8",
   "metadata": {},
   "outputs": [
    {
     "data": {
      "text/plain": [
       "'data/jsons/SteamGames.json'"
      ]
     },
     "execution_count": 20,
     "metadata": {},
     "output_type": "execute_result"
    }
   ],
   "source": [
    "file_path = 'data/jsons/SteamGames.json'\n",
    "#save_data_to_json(filtered_games, file_path)"
   ]
  },
  {
   "cell_type": "code",
   "execution_count": 9,
   "id": "1d822143-7217-496a-a5cf-b7f8b745e315",
   "metadata": {},
   "outputs": [],
   "source": [
    "def scrape_steam_topsellers():\n",
    "    driver = webdriver.Chrome(service=Service(ChromeDriverManager().install()))\n",
    "\n",
    "    url = 'https://store.steampowered.com/search/?category1=998&filter=topsellers&ndl=1'\n",
    "\n",
    "    driver.get(url)\n",
    "    \n",
    "    time.sleep(3)\n",
    "    \n",
    "    last_height = driver.execute_script(\"return document.body.scrollHeight\")\n",
    "    while True:\n",
    "        driver.execute_script(\"window.scrollTo(0, document.body.scrollHeight);\")\n",
    "        \n",
    "        time.sleep(0.5)\n",
    "        \n",
    "        new_height = driver.execute_script(\"return document.body.scrollHeight\")\n",
    "        if new_height == last_height:\n",
    "            break\n",
    "        last_height = new_height\n",
    "    \n",
    "    game_links = driver.find_elements(By.CSS_SELECTOR, 'a.search_result_row')\n",
    "    \n",
    "    appids = []\n",
    "    for link in game_links:\n",
    "        href = link.get_attribute('href')\n",
    "        parts = href.split('/')\n",
    "        if 'app' in parts:\n",
    "            appid_index = parts.index('app') + 1\n",
    "            appid = parts[appid_index]\n",
    "            appids.append(appid)\n",
    "    \n",
    "    driver.quit()\n",
    "\n",
    "    # Path to the JSON file\n",
    "    steam_games_path = 'data/jsons/SteamGames.json'\n",
    "\n",
    "    # Load the SteamGames.json file\n",
    "    with open(steam_games_path, 'r') as file:\n",
    "        steam_games = json.load(file)\n",
    "\n",
    "    # Convert the list of dictionaries to a Polars DataFrame\n",
    "    steam_games_df = pl.DataFrame(steam_games)\n",
    "    \n",
    "    # Convert the DataFrame to a dictionary for fast lookups\n",
    "    appid_to_name = steam_games_df.select(['appid', 'name']).to_dict(as_series=False)\n",
    "    \n",
    "    # Create a lookup dictionary\n",
    "    lookup = dict(zip(appid_to_name['appid'], appid_to_name['name']))\n",
    "    \n",
    "    # Create the output list\n",
    "    topseller_games = [{\"appid\": appid, \"name\": lookup[appid]} for appid in appids if appid in lookup]    \n",
    "    return topseller_games"
   ]
  },
  {
   "cell_type": "code",
   "execution_count": 10,
   "id": "d19a7903-608a-4174-ab8c-0c5c18c748d7",
   "metadata": {},
   "outputs": [
    {
     "data": {
      "text/plain": [
       "5228"
      ]
     },
     "execution_count": 10,
     "metadata": {},
     "output_type": "execute_result"
    }
   ],
   "source": [
    "# topseller_games = scrape_steam_topsellers()\n",
    "# len(topseller_games)"
   ]
  },
  {
   "cell_type": "code",
   "execution_count": 11,
   "id": "075a7aba",
   "metadata": {},
   "outputs": [
    {
     "data": {
      "text/plain": [
       "'data/jsons/SteamTopSellers.json'"
      ]
     },
     "execution_count": 11,
     "metadata": {},
     "output_type": "execute_result"
    }
   ],
   "source": [
    "# file_path = 'data/jsons/SteamTopSellers.json'\n",
    "# save_data_to_json(topseller_games, file_path)"
   ]
  },
  {
   "cell_type": "code",
   "execution_count": 12,
   "id": "9a08c1c8-da8e-43d4-9e4c-9ac054315650",
   "metadata": {},
   "outputs": [],
   "source": [
    "def scrape_steam_mostplayed():\n",
    "    driver = webdriver.Chrome(service=Service(ChromeDriverManager().install()))\n",
    "\n",
    "    url = 'https://store.steampowered.com/charts/mostplayed'\n",
    "    driver.get(url)\n",
    "    time.sleep(2)  # Give extra time for any late content to load\n",
    "\n",
    "    # Scroll to the bottom of the page to ensure all content is loaded\n",
    "    last_height = driver.execute_script(\"return document.body.scrollHeight\")\n",
    "    while True:\n",
    "        driver.execute_script(\"window.scrollTo(0, document.body.scrollHeight);\")\n",
    "        time.sleep(0.5)\n",
    "        new_height = driver.execute_script(\"return document.body.scrollHeight\")\n",
    "        if new_height == last_height:\n",
    "            break\n",
    "        last_height = new_height\n",
    "\n",
    "    games_data = []\n",
    "\n",
    "    # Find the only table on the page\n",
    "    table = driver.find_element(By.TAG_NAME, 'table')\n",
    "\n",
    "    # Iterate through the table rows\n",
    "    rows = table.find_elements(By.TAG_NAME, 'tr')\n",
    "\n",
    "    for row in rows[1:]:  # Skip the header row\n",
    "        columns = row.find_elements(By.TAG_NAME, 'td')\n",
    "\n",
    "        if len(columns) < 6:\n",
    "            continue\n",
    "\n",
    "        rank = columns[1].text\n",
    "        app_link_element = columns[2].find_element(By.TAG_NAME, 'a')\n",
    "        app_link = app_link_element.get_attribute('href')\n",
    "        name_element = app_link_element.find_element(By.XPATH, \".//div[last()]\")\n",
    "        name = name_element.text\n",
    "        max_players_today = columns[4].text\n",
    "\n",
    "        app_id = app_link.split('/')[4]\n",
    "\n",
    "        game_info = {\n",
    "            'rank': rank,\n",
    "            'appid': app_id,\n",
    "            'name': name,\n",
    "            'max_players_today': max_players_today\n",
    "        }\n",
    "        games_data.append(game_info)\n",
    "\n",
    "    driver.quit()\n",
    "\n",
    "    return games_data"
   ]
  },
  {
   "cell_type": "code",
   "execution_count": 13,
   "id": "7a1cf12d-60c6-4175-94fc-2e3175cfe6cc",
   "metadata": {},
   "outputs": [
    {
     "data": {
      "text/plain": [
       "100"
      ]
     },
     "execution_count": 13,
     "metadata": {},
     "output_type": "execute_result"
    }
   ],
   "source": [
    "# mostplayed_games = scrape_steam_mostplayed()\n",
    "# len(mostplayed_games)"
   ]
  },
  {
   "cell_type": "code",
   "execution_count": 14,
   "id": "24525a61-91ce-4c67-9e2a-8f1e17a6f3af",
   "metadata": {},
   "outputs": [
    {
     "data": {
      "text/plain": [
       "'data/jsons/SteamMostPlayed.json'"
      ]
     },
     "execution_count": 14,
     "metadata": {},
     "output_type": "execute_result"
    }
   ],
   "source": [
    "# file_path = 'data/jsons/SteamMostPlayed.json'\n",
    "# save_data_to_json(mostplayed_games, file_path)"
   ]
  },
  {
   "cell_type": "code",
   "execution_count": 33,
   "id": "7a40c300-bca5-454d-bde0-0a51051bd53e",
   "metadata": {},
   "outputs": [],
   "source": [
    "def scrape_steam_monthlytopgames():\n",
    "    driver = webdriver.Chrome(service=Service(ChromeDriverManager().install()))\n",
    "\n",
    "    urls = [\"https://store.steampowered.com/charts/topnewreleases/top_january_2024\",\n",
    "            \"https://store.steampowered.com/charts/topnewreleases/top_february_2024\",\n",
    "            \"https://store.steampowered.com/charts/topnewreleases/top_march_2024\"]\n",
    "    month = [\"January\", \"February\", \"March\"]\n",
    "    \n",
    "    appids = []\n",
    "    \n",
    "    for i in range(len(urls)):\n",
    "        driver.get(urls[i])\n",
    "        time.sleep(2)  # Give extra time for any late content to load\n",
    "    \n",
    "        # Scroll to the bottom of the page to ensure all content is loaded\n",
    "        last_height = driver.execute_script(\"return document.body.scrollHeight\")\n",
    "        while True:\n",
    "            driver.execute_script(\"window.scrollTo(0, document.body.scrollHeight);\")\n",
    "            time.sleep(0.5)\n",
    "            new_height = driver.execute_script(\"return document.body.scrollHeight\")\n",
    "            if new_height == last_height:\n",
    "                break\n",
    "            last_height = new_height\n",
    "\n",
    "        for i in range(1,21):\n",
    "            \n",
    "            a_tag = driver.find_element(By.XPATH, xpath)\n",
    "            href = a_tag.get_attribute('href')\n",
    "            appid = href.split('/')[4]\n",
    "            appids.append(appid)\n",
    "    \n",
    "    # Load the SteamGames.json file\n",
    "    with open(steam_games_path, 'r') as file:\n",
    "        steam_games = json.load(file)\n",
    "\n",
    "    # Convert the list of dictionaries to a Polars DataFrame\n",
    "    steam_games_df = pl.DataFrame(steam_games)\n",
    "    \n",
    "    # Convert the DataFrame to a dictionary for fast lookups\n",
    "    appid_to_name = steam_games_df.select(['appid', 'name']).to_dict(as_series=False)\n",
    "    \n",
    "    # Create a lookup dictionary\n",
    "    lookup = dict(zip(appid_to_name['appid'], appid_to_name['name']))\n",
    "    \n",
    "    # Create the output list\n",
    "    games_data = [{\"appid\": appid, \"name\": lookup[appid], \"month\": month[i]} for appid in appids if appid in lookup] \n",
    "\n",
    "    driver.quit()\n",
    "\n",
    "    return games_data"
   ]
  },
  {
   "cell_type": "code",
   "execution_count": 34,
   "id": "9657018d-3a44-481e-8fe2-00bde5a79f4d",
   "metadata": {},
   "outputs": [
    {
     "ename": "NoSuchElementException",
     "evalue": "Message: no such element: Unable to locate element: {\"method\":\"xpath\",\"selector\":\"/html/body/div[1]/div[7]/div[6]/div[3]/div[3]/div/div/div/div/div/div/div/div[1]/div[2]/div[3]/div/div[2]/div[19]/div/div/div/div/div[1]/div/a\"}\n  (Session info: chrome=124.0.6367.119); For documentation on this error, please visit: https://www.selenium.dev/documentation/webdriver/troubleshooting/errors#no-such-element-exception\nStacktrace:\n\tGetHandleVerifier [0x0078C113+48259]\n\t(No symbol) [0x0071CA41]\n\t(No symbol) [0x00610A17]\n\t(No symbol) [0x00650BED]\n\t(No symbol) [0x00650C9B]\n\t(No symbol) [0x0068BC12]\n\t(No symbol) [0x00670DE4]\n\t(No symbol) [0x00689B9C]\n\t(No symbol) [0x00670B36]\n\t(No symbol) [0x0064570D]\n\t(No symbol) [0x006462CD]\n\tGetHandleVerifier [0x00A465A3+2908435]\n\tGetHandleVerifier [0x00A83BBB+3159851]\n\tGetHandleVerifier [0x008250CB+674875]\n\tGetHandleVerifier [0x0082B28C+699900]\n\t(No symbol) [0x00726244]\n\t(No symbol) [0x00722298]\n\t(No symbol) [0x0072242C]\n\t(No symbol) [0x00714BB0]\n\tBaseThreadInitThunk [0x756B7BA9+25]\n\tRtlInitializeExceptionChain [0x7734BE3B+107]\n\tRtlClearBits [0x7734BDBF+191]\n",
     "output_type": "error",
     "traceback": [
      "\u001b[1;31m---------------------------------------------------------------------------\u001b[0m",
      "\u001b[1;31mNoSuchElementException\u001b[0m                    Traceback (most recent call last)",
      "Cell \u001b[1;32mIn[34], line 1\u001b[0m\n\u001b[1;32m----> 1\u001b[0m monthlytopgames \u001b[38;5;241m=\u001b[39m \u001b[43mscrape_steam_monthlytopgames\u001b[49m\u001b[43m(\u001b[49m\u001b[43m)\u001b[49m\n\u001b[0;32m      2\u001b[0m \u001b[38;5;28mlen\u001b[39m(monthlytopgames)\n",
      "Cell \u001b[1;32mIn[33], line 27\u001b[0m, in \u001b[0;36mscrape_steam_monthlytopgames\u001b[1;34m()\u001b[0m\n\u001b[0;32m     25\u001b[0m \u001b[38;5;28;01mfor\u001b[39;00m i \u001b[38;5;129;01min\u001b[39;00m \u001b[38;5;28mrange\u001b[39m(\u001b[38;5;241m1\u001b[39m,\u001b[38;5;241m21\u001b[39m):\n\u001b[0;32m     26\u001b[0m     xpath \u001b[38;5;241m=\u001b[39m \u001b[38;5;124mf\u001b[39m\u001b[38;5;124m\"\u001b[39m\u001b[38;5;124m/html/body/div[1]/div[7]/div[6]/div[3]/div[3]/div/div/div/div/div/div/div/div[1]/div[2]/div[3]/div/div[2]/div[\u001b[39m\u001b[38;5;132;01m{\u001b[39;00mi\u001b[38;5;132;01m}\u001b[39;00m\u001b[38;5;124m]/div/div/div/div/div[1]/div/a\u001b[39m\u001b[38;5;124m\"\u001b[39m\n\u001b[1;32m---> 27\u001b[0m     a_tag \u001b[38;5;241m=\u001b[39m \u001b[43mdriver\u001b[49m\u001b[38;5;241;43m.\u001b[39;49m\u001b[43mfind_element\u001b[49m\u001b[43m(\u001b[49m\u001b[43mBy\u001b[49m\u001b[38;5;241;43m.\u001b[39;49m\u001b[43mXPATH\u001b[49m\u001b[43m,\u001b[49m\u001b[43m \u001b[49m\u001b[43mxpath\u001b[49m\u001b[43m)\u001b[49m\n\u001b[0;32m     28\u001b[0m     href \u001b[38;5;241m=\u001b[39m a_tag\u001b[38;5;241m.\u001b[39mget_attribute(\u001b[38;5;124m'\u001b[39m\u001b[38;5;124mhref\u001b[39m\u001b[38;5;124m'\u001b[39m)\n\u001b[0;32m     29\u001b[0m     appid \u001b[38;5;241m=\u001b[39m href\u001b[38;5;241m.\u001b[39msplit(\u001b[38;5;124m'\u001b[39m\u001b[38;5;124m/\u001b[39m\u001b[38;5;124m'\u001b[39m)[\u001b[38;5;241m4\u001b[39m]\n",
      "File \u001b[1;32m~\\AppData\\Local\\Programs\\Python\\Python312\\Lib\\site-packages\\selenium\\webdriver\\remote\\webdriver.py:741\u001b[0m, in \u001b[0;36mWebDriver.find_element\u001b[1;34m(self, by, value)\u001b[0m\n\u001b[0;32m    738\u001b[0m     by \u001b[38;5;241m=\u001b[39m By\u001b[38;5;241m.\u001b[39mCSS_SELECTOR\n\u001b[0;32m    739\u001b[0m     value \u001b[38;5;241m=\u001b[39m \u001b[38;5;124mf\u001b[39m\u001b[38;5;124m'\u001b[39m\u001b[38;5;124m[name=\u001b[39m\u001b[38;5;124m\"\u001b[39m\u001b[38;5;132;01m{\u001b[39;00mvalue\u001b[38;5;132;01m}\u001b[39;00m\u001b[38;5;124m\"\u001b[39m\u001b[38;5;124m]\u001b[39m\u001b[38;5;124m'\u001b[39m\n\u001b[1;32m--> 741\u001b[0m \u001b[38;5;28;01mreturn\u001b[39;00m \u001b[38;5;28;43mself\u001b[39;49m\u001b[38;5;241;43m.\u001b[39;49m\u001b[43mexecute\u001b[49m\u001b[43m(\u001b[49m\u001b[43mCommand\u001b[49m\u001b[38;5;241;43m.\u001b[39;49m\u001b[43mFIND_ELEMENT\u001b[49m\u001b[43m,\u001b[49m\u001b[43m \u001b[49m\u001b[43m{\u001b[49m\u001b[38;5;124;43m\"\u001b[39;49m\u001b[38;5;124;43musing\u001b[39;49m\u001b[38;5;124;43m\"\u001b[39;49m\u001b[43m:\u001b[49m\u001b[43m \u001b[49m\u001b[43mby\u001b[49m\u001b[43m,\u001b[49m\u001b[43m \u001b[49m\u001b[38;5;124;43m\"\u001b[39;49m\u001b[38;5;124;43mvalue\u001b[39;49m\u001b[38;5;124;43m\"\u001b[39;49m\u001b[43m:\u001b[49m\u001b[43m \u001b[49m\u001b[43mvalue\u001b[49m\u001b[43m}\u001b[49m\u001b[43m)\u001b[49m[\u001b[38;5;124m\"\u001b[39m\u001b[38;5;124mvalue\u001b[39m\u001b[38;5;124m\"\u001b[39m]\n",
      "File \u001b[1;32m~\\AppData\\Local\\Programs\\Python\\Python312\\Lib\\site-packages\\selenium\\webdriver\\remote\\webdriver.py:347\u001b[0m, in \u001b[0;36mWebDriver.execute\u001b[1;34m(self, driver_command, params)\u001b[0m\n\u001b[0;32m    345\u001b[0m response \u001b[38;5;241m=\u001b[39m \u001b[38;5;28mself\u001b[39m\u001b[38;5;241m.\u001b[39mcommand_executor\u001b[38;5;241m.\u001b[39mexecute(driver_command, params)\n\u001b[0;32m    346\u001b[0m \u001b[38;5;28;01mif\u001b[39;00m response:\n\u001b[1;32m--> 347\u001b[0m     \u001b[38;5;28;43mself\u001b[39;49m\u001b[38;5;241;43m.\u001b[39;49m\u001b[43merror_handler\u001b[49m\u001b[38;5;241;43m.\u001b[39;49m\u001b[43mcheck_response\u001b[49m\u001b[43m(\u001b[49m\u001b[43mresponse\u001b[49m\u001b[43m)\u001b[49m\n\u001b[0;32m    348\u001b[0m     response[\u001b[38;5;124m\"\u001b[39m\u001b[38;5;124mvalue\u001b[39m\u001b[38;5;124m\"\u001b[39m] \u001b[38;5;241m=\u001b[39m \u001b[38;5;28mself\u001b[39m\u001b[38;5;241m.\u001b[39m_unwrap_value(response\u001b[38;5;241m.\u001b[39mget(\u001b[38;5;124m\"\u001b[39m\u001b[38;5;124mvalue\u001b[39m\u001b[38;5;124m\"\u001b[39m, \u001b[38;5;28;01mNone\u001b[39;00m))\n\u001b[0;32m    349\u001b[0m     \u001b[38;5;28;01mreturn\u001b[39;00m response\n",
      "File \u001b[1;32m~\\AppData\\Local\\Programs\\Python\\Python312\\Lib\\site-packages\\selenium\\webdriver\\remote\\errorhandler.py:229\u001b[0m, in \u001b[0;36mErrorHandler.check_response\u001b[1;34m(self, response)\u001b[0m\n\u001b[0;32m    227\u001b[0m         alert_text \u001b[38;5;241m=\u001b[39m value[\u001b[38;5;124m\"\u001b[39m\u001b[38;5;124malert\u001b[39m\u001b[38;5;124m\"\u001b[39m]\u001b[38;5;241m.\u001b[39mget(\u001b[38;5;124m\"\u001b[39m\u001b[38;5;124mtext\u001b[39m\u001b[38;5;124m\"\u001b[39m)\n\u001b[0;32m    228\u001b[0m     \u001b[38;5;28;01mraise\u001b[39;00m exception_class(message, screen, stacktrace, alert_text)  \u001b[38;5;66;03m# type: ignore[call-arg]  # mypy is not smart enough here\u001b[39;00m\n\u001b[1;32m--> 229\u001b[0m \u001b[38;5;28;01mraise\u001b[39;00m exception_class(message, screen, stacktrace)\n",
      "\u001b[1;31mNoSuchElementException\u001b[0m: Message: no such element: Unable to locate element: {\"method\":\"xpath\",\"selector\":\"/html/body/div[1]/div[7]/div[6]/div[3]/div[3]/div/div/div/div/div/div/div/div[1]/div[2]/div[3]/div/div[2]/div[19]/div/div/div/div/div[1]/div/a\"}\n  (Session info: chrome=124.0.6367.119); For documentation on this error, please visit: https://www.selenium.dev/documentation/webdriver/troubleshooting/errors#no-such-element-exception\nStacktrace:\n\tGetHandleVerifier [0x0078C113+48259]\n\t(No symbol) [0x0071CA41]\n\t(No symbol) [0x00610A17]\n\t(No symbol) [0x00650BED]\n\t(No symbol) [0x00650C9B]\n\t(No symbol) [0x0068BC12]\n\t(No symbol) [0x00670DE4]\n\t(No symbol) [0x00689B9C]\n\t(No symbol) [0x00670B36]\n\t(No symbol) [0x0064570D]\n\t(No symbol) [0x006462CD]\n\tGetHandleVerifier [0x00A465A3+2908435]\n\tGetHandleVerifier [0x00A83BBB+3159851]\n\tGetHandleVerifier [0x008250CB+674875]\n\tGetHandleVerifier [0x0082B28C+699900]\n\t(No symbol) [0x00726244]\n\t(No symbol) [0x00722298]\n\t(No symbol) [0x0072242C]\n\t(No symbol) [0x00714BB0]\n\tBaseThreadInitThunk [0x756B7BA9+25]\n\tRtlInitializeExceptionChain [0x7734BE3B+107]\n\tRtlClearBits [0x7734BDBF+191]\n"
     ]
    }
   ],
   "source": [
    "monthlytopgames = scrape_steam_monthlytopgames()\n",
    "len(monthlytopgames)"
   ]
  },
  {
   "cell_type": "code",
   "execution_count": null,
   "id": "19c1dccd-c282-4b6b-a1d4-b8be870b485e",
   "metadata": {},
   "outputs": [],
   "source": [
    "file_path = 'data/jsons/SteamMonthlyTopGames.json'\n",
    "save_data_to_json(monthlytopgames, file_path)"
   ]
  }
 ],
 "metadata": {
  "kernelspec": {
   "display_name": "Python 3 (ipykernel)",
   "language": "python",
   "name": "python3"
  },
  "language_info": {
   "codemirror_mode": {
    "name": "ipython",
    "version": 3
   },
   "file_extension": ".py",
   "mimetype": "text/x-python",
   "name": "python",
   "nbconvert_exporter": "python",
   "pygments_lexer": "ipython3",
   "version": "3.12.2"
  }
 },
 "nbformat": 4,
 "nbformat_minor": 5
}
