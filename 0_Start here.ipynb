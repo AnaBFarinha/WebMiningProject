{
 "cells": [
  {
   "cell_type": "markdown",
   "id": "e8cc4c51",
   "metadata": {},
   "source": [
    "# Recommendation Systems using Steam Data<a id='top'></a>\n",
    "\n",
    "Steam is the ultimate destination for playing, discussing, and creating games. As such, several developers and players use this platform to share their games and experiences. To optimize the experience of each user, we decided to create recommendation systems which will enhance game recommendations, predict the games success,optimize game ratings, evaluate the impact of each update and provide better insights to the developers and the company itself.\n",
    "\n",
    "This project utilizes web mining techniques to extract valuable insights from web data. The datasets used in our analysis are available in: ?????\n",
    "\n",
    "Additionally, this project is composed by several notebooks. Below, we can see the name of each notebook and a small description:\n",
    "* **1.1_Data Acquisition Games**: Use of Selenium Web Crawler to extract a list of game IDs and their respective name.\n",
    "* **1.2_Data Acquisition Game Details**: Use Steams' API to extract data about the most played and top seller games.\n",
    "* **1.3_Data Acquisition Reviews**: Use Steams' API to extract reviews of the selected games.\n",
    "* **2.1_Data Preparation**: ????\n",
    "* **2.2_Preprocessing**: ????\n",
    "* **3.1_Data Exploration**: Exploratory Data Analysis about our data on Top Sellers and Most Played Games.\n",
    "* **3.2_Parquet**: Concatination of parquet files and their Exploratory Data Analysis.\n",
    "* **4_Model**: ????\n",
    "* **5_Evaluation**: ????\n"
   ]
  },
  {
   "cell_type": "code",
   "execution_count": 1,
   "id": "a6937e29-27b9-4a68-aedf-1fa96a884f7c",
   "metadata": {},
   "outputs": [],
   "source": [
    "from helper_functions import install_requirements, download_and_extract_zip_from_gdrive"
   ]
  },
  {
   "cell_type": "code",
   "execution_count": 2,
   "id": "00ce955c-7380-4d50-855b-e4ed07b55ed8",
   "metadata": {},
   "outputs": [
    {
     "name": "stdout",
     "output_type": "stream",
     "text": [
      "Failed to install packages from requirements.txt\n"
     ]
    }
   ],
   "source": [
    "install_requirements()"
   ]
  },
  {
   "cell_type": "markdown",
   "id": "4b0233b8-c426-4b56-af71-13610a7fe47f",
   "metadata": {},
   "source": [
    "Download data"
   ]
  },
  {
   "cell_type": "code",
   "execution_count": 6,
   "id": "4f79a616-e61c-41cb-8a72-dedabd893f3c",
   "metadata": {},
   "outputs": [
    {
     "ename": "ValueError",
     "evalue": "Invalid Google Drive URL",
     "output_type": "error",
     "traceback": [
      "\u001b[1;31m---------------------------------------------------------------------------\u001b[0m",
      "\u001b[1;31mValueError\u001b[0m                                Traceback (most recent call last)",
      "Cell \u001b[1;32mIn[6], line 3\u001b[0m\n\u001b[0;32m      1\u001b[0m gdrive_url \u001b[38;5;241m=\u001b[39m \u001b[38;5;124m\"\u001b[39m\u001b[38;5;124mhttps://drive.google.com/drive/folders/1y-5MQ-iiv55tGsTjtAmgdhpvThdtsDLK?usp=sharing\u001b[39m\u001b[38;5;124m\"\u001b[39m\n\u001b[0;32m      2\u001b[0m extract_to \u001b[38;5;241m=\u001b[39m \u001b[38;5;124m\"\u001b[39m\u001b[38;5;124mexport data\u001b[39m\u001b[38;5;124m\"\u001b[39m\n\u001b[1;32m----> 3\u001b[0m \u001b[43mdownload_and_extract_zip_from_gdrive\u001b[49m\u001b[43m(\u001b[49m\u001b[43mgdrive_url\u001b[49m\u001b[43m,\u001b[49m\u001b[43m \u001b[49m\u001b[43mextract_to\u001b[49m\u001b[43m)\u001b[49m\n",
      "File \u001b[1;32mc:\\Users\\ivano\\OneDrive\\Universität Mannheim\\Projekte\\Web Mining\\Repo\\WebMiningProject\\helper_functions.py:207\u001b[0m, in \u001b[0;36mdownload_and_extract_zip_from_gdrive\u001b[1;34m(gdrive_url, extract_to)\u001b[0m\n\u001b[0;32m    204\u001b[0m         \u001b[38;5;28;01mraise\u001b[39;00m \u001b[38;5;167;01mValueError\u001b[39;00m(\u001b[38;5;124m\"\u001b[39m\u001b[38;5;124mInvalid Google Drive URL\u001b[39m\u001b[38;5;124m\"\u001b[39m)\n\u001b[0;32m    206\u001b[0m \u001b[38;5;66;03m# Create the direct download URL\u001b[39;00m\n\u001b[1;32m--> 207\u001b[0m file_id \u001b[38;5;241m=\u001b[39m \u001b[43mget_gdrive_file_id\u001b[49m\u001b[43m(\u001b[49m\u001b[43mgdrive_url\u001b[49m\u001b[43m)\u001b[49m\n\u001b[0;32m    208\u001b[0m download_url \u001b[38;5;241m=\u001b[39m \u001b[38;5;124mf\u001b[39m\u001b[38;5;124m\"\u001b[39m\u001b[38;5;124mhttps://drive.google.com/uc?export=download&id=\u001b[39m\u001b[38;5;132;01m{\u001b[39;00mfile_id\u001b[38;5;132;01m}\u001b[39;00m\u001b[38;5;124m\"\u001b[39m\n\u001b[0;32m    210\u001b[0m \u001b[38;5;66;03m# Clear the target directory\u001b[39;00m\n",
      "File \u001b[1;32mc:\\Users\\ivano\\OneDrive\\Universität Mannheim\\Projekte\\Web Mining\\Repo\\WebMiningProject\\helper_functions.py:204\u001b[0m, in \u001b[0;36mdownload_and_extract_zip_from_gdrive.<locals>.get_gdrive_file_id\u001b[1;34m(url)\u001b[0m\n\u001b[0;32m    202\u001b[0m     \u001b[38;5;28;01mreturn\u001b[39;00m url\u001b[38;5;241m.\u001b[39msplit(\u001b[38;5;124m\"\u001b[39m\u001b[38;5;124m/d/\u001b[39m\u001b[38;5;124m\"\u001b[39m)[\u001b[38;5;241m1\u001b[39m]\u001b[38;5;241m.\u001b[39msplit(\u001b[38;5;124m\"\u001b[39m\u001b[38;5;124m/\u001b[39m\u001b[38;5;124m\"\u001b[39m)[\u001b[38;5;241m0\u001b[39m]\n\u001b[0;32m    203\u001b[0m \u001b[38;5;28;01melse\u001b[39;00m:\n\u001b[1;32m--> 204\u001b[0m     \u001b[38;5;28;01mraise\u001b[39;00m \u001b[38;5;167;01mValueError\u001b[39;00m(\u001b[38;5;124m\"\u001b[39m\u001b[38;5;124mInvalid Google Drive URL\u001b[39m\u001b[38;5;124m\"\u001b[39m)\n",
      "\u001b[1;31mValueError\u001b[0m: Invalid Google Drive URL"
     ]
    }
   ],
   "source": [
    "gdrive_url = \"https://drive.google.com/drive/folders/1y-5MQ-iiv55tGsTjtAmgdhpvThdtsDLK?usp=sharing\"\n",
    "extract_to = \"export data\"\n",
    "download_and_extract_zip_from_gdrive(gdrive_url, extract_to)"
   ]
  },
  {
   "cell_type": "code",
   "execution_count": null,
   "id": "0521cb9e-a15f-4d55-b944-d2f3e4f72ddf",
   "metadata": {},
   "outputs": [],
   "source": [
    "gdrive_url = \"https://drive.google.com/drive/u/1/folders/1y-5MQ-iiv55tGsTjtAmgdhpvThdtsDLK\"\n",
    "extract_to = \"export data\"\n",
    "download_and_extract_zip_from_gdrive(gdrive_url, extract_to)"
   ]
  },
  {
   "cell_type": "code",
   "execution_count": null,
   "id": "c878406e-c1f2-4a92-8be5-a1b6e8e42ee7",
   "metadata": {},
   "outputs": [],
   "source": []
  }
 ],
 "metadata": {
  "kernelspec": {
   "display_name": "Python 3 (ipykernel)",
   "language": "python",
   "name": "python3"
  },
  "language_info": {
   "codemirror_mode": {
    "name": "ipython",
    "version": 3
   },
   "file_extension": ".py",
   "mimetype": "text/x-python",
   "name": "python",
   "nbconvert_exporter": "python",
   "pygments_lexer": "ipython3",
   "version": "3.12.3"
  }
 },
 "nbformat": 4,
 "nbformat_minor": 5
}
