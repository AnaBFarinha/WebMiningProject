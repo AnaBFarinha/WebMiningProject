{
 "cells": [
  {
   "cell_type": "code",
   "execution_count": null,
   "id": "78a322ea-ea70-42eb-83ce-173b383540e5",
   "metadata": {},
   "outputs": [],
   "source": [
    "How to get Data"
   ]
  },
  {
   "cell_type": "code",
   "execution_count": null,
   "id": "23c796a5-6509-4bf0-9b96-2ee78dd1520c",
   "metadata": {},
   "outputs": [],
   "source": [
    "Description of all files"
   ]
  },
  {
   "cell_type": "code",
   "execution_count": null,
   "id": "ceb4228e-323a-46a3-bb9a-36790180f0b2",
   "metadata": {},
   "outputs": [],
   "source": []
  },
  {
   "cell_type": "code",
   "execution_count": null,
   "id": "19942816-93d7-490b-aa1a-916acbb19bdc",
   "metadata": {},
   "outputs": [],
   "source": []
  }
 ],
 "metadata": {
  "kernelspec": {
   "display_name": "Python 3 (ipykernel)",
   "language": "python",
   "name": "python3"
  },
  "language_info": {
   "codemirror_mode": {
    "name": "ipython",
    "version": 3
   },
   "file_extension": ".py",
   "mimetype": "text/x-python",
   "name": "python",
   "nbconvert_exporter": "python",
   "pygments_lexer": "ipython3",
   "version": "3.12.2"
  }
 },
 "nbformat": 4,
 "nbformat_minor": 5
}
