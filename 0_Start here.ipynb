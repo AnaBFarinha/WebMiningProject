{
 "cells": [
  {
   "cell_type": "markdown",
   "id": "e8cc4c51",
   "metadata": {},
   "source": [
    "# Recommendation Systems using Steam Data<a id='top'></a>\n",
    "\n",
    "Steam is the ultimate destination for playing, discussing, and creating games. As such, several developers and players use this platform to share their games and experiences. To optimize the experience of each user, we decided to create recommendation systems which will enhance game recommendations, predict the games success,optimize game ratings, evaluate the impact of each update and provide better insights to the developers and the company itself.\n",
    "\n",
    "This project utilizes web mining techniques to extract valuable insights from web data. The datasets used in our analysis are available in: ?????\n",
    "\n",
    "Additionally, this project is composed by several notebooks. Below, we can see the name of each notebook and a small description:\n",
    "* **1.1_Data Acquisition Games**: Use of Selenium Web Crawler to extract a list of game IDs and their respective name.\n",
    "* **1.2_Data Acquisition Game Details**: Use Steams' API to extract data about the most played and top seller games.\n",
    "* **1.3_Data Acquisition Reviews**: Use Steams' API to extract reviews of the selected games.\n",
    "* **2.1_Data Exploration**: Exploratory Data Analysis about our data on Top Sellers and Most Played Games.\n",
    "* **2.2_Parquet**: Concatination of parquet files and their Exploratory Data Analysis.\n",
    "* **2.3_Data Selection**: Separation of reviews data it into two groups - one that has games with a high amount of reviews and another one that contains the remaining games.\n",
    "* **3.1_Data Preparation Game Details**: Data preparation of the game details dataset by converting each variable to the correct type.\n",
    "* **3.2_Data Preparation Reviews**: Prepare reviews data by transforming variables to correct datatype, cleaning the reviews variable and excluding reviews that have less than 20 characters.\n",
    "* **4_Model**: ????\n",
    "* **5_Evaluation**: ????\n"
   ]
  },
  {
   "cell_type": "markdown",
   "id": "2f1b1737",
   "metadata": {},
   "source": [
    "Install requirements\n",
    "\n",
    "```sh\n",
    "pip install -r requirements.txt"
   ]
  },
  {
   "cell_type": "markdown",
   "id": "4b0233b8-c426-4b56-af71-13610a7fe47f",
   "metadata": {},
   "source": [
    "Download data (parquets, parquets_preprocessed, model)\n",
    "\n",
    "https://drive.google.com/drive/folders/1YmZepcpLSYYzPQ4R0j4o8P60Pg6CgBiq?usp=sharing"
   ]
  }
 ],
 "metadata": {
  "kernelspec": {
   "display_name": "Python 3 (ipykernel)",
   "language": "python",
   "name": "python3"
  },
  "language_info": {
   "codemirror_mode": {
    "name": "ipython",
    "version": 3
   },
   "file_extension": ".py",
   "mimetype": "text/x-python",
   "name": "python",
   "nbconvert_exporter": "python",
   "pygments_lexer": "ipython3",
   "version": "3.12.2"
  }
 },
 "nbformat": 4,
 "nbformat_minor": 5
}
