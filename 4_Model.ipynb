{
 "cells": [
  {
   "cell_type": "code",
   "execution_count": 10,
   "metadata": {},
   "outputs": [],
   "source": [
    "from model import UserBasedCF, ItemBasedCF, MatrixFactorizationCF\n",
    "from helper_functions import load_data, load_config"
   ]
  },
  {
   "cell_type": "code",
   "execution_count": 2,
   "metadata": {},
   "outputs": [],
   "source": [
    "# Train the models on the training data\n",
    "def train_model(reviews_dir, game_details_path, selection_file, selection_name=\"\"):\n",
    "   \n",
    "    train_data, _ = load_data(reviews_dir, game_details_path, selection_file)\n",
    "    \n",
    "    # Load models\n",
    "    model_dir = 'data/model'\n",
    "    \n",
    "    user_based_model = UserBasedCF()\n",
    "    user_based_model.fit(train_data)\n",
    "    user_based_model.save(f'{model_dir}/user_based_cf_model{selection_name}.pkl')\n",
    "    \n",
    "    item_based_model = ItemBasedCF()\n",
    "    item_based_model.fit(train_data)\n",
    "    item_based_model.save(f'{model_dir}/item_based_cf_model{selection_name}.pkl')\n",
    "    \n",
    "    matrix_factorization_model = MatrixFactorizationCF()\n",
    "    matrix_factorization_model.fit(train_data)\n",
    "    matrix_factorization_model.save(f'{model_dir}/matrix_factorization_cf_model{selection_name}.pkl')"
   ]
  },
  {
   "cell_type": "code",
   "execution_count": 11,
   "metadata": {},
   "outputs": [
    {
     "ename": "SchemaError",
     "evalue": "type String is incompatible with expected type Null",
     "output_type": "error",
     "traceback": [
      "\u001b[1;31m---------------------------------------------------------------------------\u001b[0m",
      "\u001b[1;31mSchemaError\u001b[0m                               Traceback (most recent call last)",
      "Cell \u001b[1;32mIn[11], line 3\u001b[0m\n\u001b[0;32m      1\u001b[0m config \u001b[38;5;241m=\u001b[39m load_config()\n\u001b[0;32m      2\u001b[0m \u001b[38;5;28;01mfor\u001b[39;00m variation, params \u001b[38;5;129;01min\u001b[39;00m config\u001b[38;5;241m.\u001b[39mitems():\n\u001b[1;32m----> 3\u001b[0m     \u001b[43mtrain_model\u001b[49m\u001b[43m(\u001b[49m\n\u001b[0;32m      4\u001b[0m \u001b[43m        \u001b[49m\u001b[43mparams\u001b[49m\u001b[43m[\u001b[49m\u001b[38;5;124;43m'\u001b[39;49m\u001b[38;5;124;43mreviews_dir\u001b[39;49m\u001b[38;5;124;43m'\u001b[39;49m\u001b[43m]\u001b[49m\u001b[43m,\u001b[49m\n\u001b[0;32m      5\u001b[0m \u001b[43m        \u001b[49m\u001b[43mparams\u001b[49m\u001b[43m[\u001b[49m\u001b[38;5;124;43m'\u001b[39;49m\u001b[38;5;124;43mgame_details_path\u001b[39;49m\u001b[38;5;124;43m'\u001b[39;49m\u001b[43m]\u001b[49m\u001b[43m,\u001b[49m\n\u001b[0;32m      6\u001b[0m \u001b[43m        \u001b[49m\u001b[43mparams\u001b[49m\u001b[43m[\u001b[49m\u001b[38;5;124;43m'\u001b[39;49m\u001b[38;5;124;43mselection_file\u001b[39;49m\u001b[38;5;124;43m'\u001b[39;49m\u001b[43m]\u001b[49m\u001b[43m,\u001b[49m\n\u001b[0;32m      7\u001b[0m \u001b[43m        \u001b[49m\u001b[43mparams\u001b[49m\u001b[43m[\u001b[49m\u001b[38;5;124;43m'\u001b[39;49m\u001b[38;5;124;43mselection_name\u001b[39;49m\u001b[38;5;124;43m'\u001b[39;49m\u001b[43m]\u001b[49m\u001b[43m)\u001b[49m\n",
      "Cell \u001b[1;32mIn[2], line 4\u001b[0m, in \u001b[0;36mtrain_model\u001b[1;34m(reviews_dir, game_details_path, selection_file, selection_name)\u001b[0m\n\u001b[0;32m      2\u001b[0m \u001b[38;5;28;01mdef\u001b[39;00m \u001b[38;5;21mtrain_model\u001b[39m(reviews_dir, game_details_path, selection_file, selection_name\u001b[38;5;241m=\u001b[39m\u001b[38;5;124m\"\u001b[39m\u001b[38;5;124m\"\u001b[39m):\n\u001b[1;32m----> 4\u001b[0m     train_data, _ \u001b[38;5;241m=\u001b[39m \u001b[43mload_data\u001b[49m\u001b[43m(\u001b[49m\u001b[43mreviews_dir\u001b[49m\u001b[43m,\u001b[49m\u001b[43m \u001b[49m\u001b[43mgame_details_path\u001b[49m\u001b[43m,\u001b[49m\u001b[43m \u001b[49m\u001b[43mselection_file\u001b[49m\u001b[43m)\u001b[49m\n\u001b[0;32m      6\u001b[0m     \u001b[38;5;66;03m# Load models\u001b[39;00m\n\u001b[0;32m      7\u001b[0m     model_dir \u001b[38;5;241m=\u001b[39m \u001b[38;5;124m'\u001b[39m\u001b[38;5;124mdata/model\u001b[39m\u001b[38;5;124m'\u001b[39m\n",
      "File \u001b[1;32mc:\\Users\\ivano\\OneDrive\\Universität Mannheim\\Projekte\\Web Mining\\Repo\\WebMiningProject\\helper_functions.py:239\u001b[0m, in \u001b[0;36mload_data\u001b[1;34m(reviews_dir, game_details_path, selection_file)\u001b[0m\n\u001b[0;32m    238\u001b[0m \u001b[38;5;28;01mdef\u001b[39;00m \u001b[38;5;21mload_data\u001b[39m(reviews_dir, game_details_path, selection_file):\n\u001b[1;32m--> 239\u001b[0m     reviews \u001b[38;5;241m=\u001b[39m \u001b[43mload_parquets\u001b[49m\u001b[43m(\u001b[49m\u001b[43mreviews_dir\u001b[49m\u001b[43m,\u001b[49m\u001b[43m \u001b[49m\u001b[43mselection_file\u001b[49m\u001b[43m)\u001b[49m\n\u001b[0;32m    240\u001b[0m     game_details \u001b[38;5;241m=\u001b[39m load_json(game_details_path)\n\u001b[0;32m    241\u001b[0m     \u001b[38;5;66;03m# Integrate game details with reviews\u001b[39;00m\n",
      "File \u001b[1;32mc:\\Users\\ivano\\OneDrive\\Universität Mannheim\\Projekte\\Web Mining\\Repo\\WebMiningProject\\helper_functions.py:95\u001b[0m, in \u001b[0;36mload_parquets\u001b[1;34m(parquet_dir, selection_file)\u001b[0m\n\u001b[0;32m     92\u001b[0m unified_dfs \u001b[38;5;241m=\u001b[39m unify_columns(dfs)\n\u001b[0;32m     94\u001b[0m \u001b[38;5;66;03m# Concatenate dataframes\u001b[39;00m\n\u001b[1;32m---> 95\u001b[0m concatenated_df \u001b[38;5;241m=\u001b[39m \u001b[43mpl\u001b[49m\u001b[38;5;241;43m.\u001b[39;49m\u001b[43mconcat\u001b[49m\u001b[43m(\u001b[49m\u001b[43munified_dfs\u001b[49m\u001b[43m)\u001b[49m\n\u001b[0;32m     97\u001b[0m \u001b[38;5;66;03m# Replace null values in boolean columns with False\u001b[39;00m\n\u001b[0;32m     98\u001b[0m \u001b[38;5;28;01mfor\u001b[39;00m col \u001b[38;5;129;01min\u001b[39;00m concatenated_df\u001b[38;5;241m.\u001b[39mcolumns:\n",
      "File \u001b[1;32mc:\\Users\\ivano\\AppData\\Local\\Programs\\Python\\Python312\\Lib\\site-packages\\polars\\functions\\eager.py:184\u001b[0m, in \u001b[0;36mconcat\u001b[1;34m(items, how, rechunk, parallel)\u001b[0m\n\u001b[0;32m    182\u001b[0m \u001b[38;5;28;01mif\u001b[39;00m \u001b[38;5;28misinstance\u001b[39m(first, pl\u001b[38;5;241m.\u001b[39mDataFrame):\n\u001b[0;32m    183\u001b[0m     \u001b[38;5;28;01mif\u001b[39;00m how \u001b[38;5;241m==\u001b[39m \u001b[38;5;124m\"\u001b[39m\u001b[38;5;124mvertical\u001b[39m\u001b[38;5;124m\"\u001b[39m:\n\u001b[1;32m--> 184\u001b[0m         out \u001b[38;5;241m=\u001b[39m wrap_df(\u001b[43mplr\u001b[49m\u001b[38;5;241;43m.\u001b[39;49m\u001b[43mconcat_df\u001b[49m\u001b[43m(\u001b[49m\u001b[43melems\u001b[49m\u001b[43m)\u001b[49m)\n\u001b[0;32m    185\u001b[0m     \u001b[38;5;28;01melif\u001b[39;00m how \u001b[38;5;241m==\u001b[39m \u001b[38;5;124m\"\u001b[39m\u001b[38;5;124mvertical_relaxed\u001b[39m\u001b[38;5;124m\"\u001b[39m:\n\u001b[0;32m    186\u001b[0m         out \u001b[38;5;241m=\u001b[39m wrap_ldf(\n\u001b[0;32m    187\u001b[0m             plr\u001b[38;5;241m.\u001b[39mconcat_lf(\n\u001b[0;32m    188\u001b[0m                 [df\u001b[38;5;241m.\u001b[39mlazy() \u001b[38;5;28;01mfor\u001b[39;00m df \u001b[38;5;129;01min\u001b[39;00m elems],\n\u001b[1;32m   (...)\u001b[0m\n\u001b[0;32m    192\u001b[0m             )\n\u001b[0;32m    193\u001b[0m         )\u001b[38;5;241m.\u001b[39mcollect(no_optimization\u001b[38;5;241m=\u001b[39m\u001b[38;5;28;01mTrue\u001b[39;00m)\n",
      "\u001b[1;31mSchemaError\u001b[0m: type String is incompatible with expected type Null"
     ]
    }
   ],
   "source": [
    "config = load_config()\n",
    "for variation, params in config.items():\n",
    "    train_model(\n",
    "        params['reviews_dir'],\n",
    "        params['game_details_path'],\n",
    "        params['selection_file'],\n",
    "        params['selection_name'])"
   ]
  }
 ],
 "metadata": {
  "kernelspec": {
   "display_name": "Python 3 (ipykernel)",
   "language": "python",
   "name": "python3"
  },
  "language_info": {
   "codemirror_mode": {
    "name": "ipython",
    "version": 3
   },
   "file_extension": ".py",
   "mimetype": "text/x-python",
   "name": "python",
   "nbconvert_exporter": "python",
   "pygments_lexer": "ipython3",
   "version": "3.12.3"
  }
 },
 "nbformat": 4,
 "nbformat_minor": 4
}
