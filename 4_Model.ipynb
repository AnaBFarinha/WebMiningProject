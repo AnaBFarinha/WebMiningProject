{
 "cells": [
  {
   "cell_type": "code",
   "execution_count": null,
   "metadata": {},
   "outputs": [],
   "source": [
    "import polars as pl\n",
    "import glob\n",
    "import os\n",
    "import json\n",
    "from model import UserBasedCF, ItemBasedCF, MatrixFactorizationCF\n",
    "from sklearn.model_selection import train_test_split"
   ]
  },
  {
   "cell_type": "code",
   "execution_count": null,
   "metadata": {},
   "outputs": [],
   "source": [
    "# Directory paths\n",
    "parquet_dir = 'data/parquets'\n",
    "json_path = 'data/game_details/SteamMostPlayed_game_details.json'\n",
    "model_dir = 'data/model'\n",
    "selection_file = 'data/selection.txt'  # Path to the selection file (if any)"
   ]
  },
  {
   "cell_type": "code",
   "execution_count": null,
   "metadata": {},
   "outputs": [],
   "source": [
    "# Load data\n",
    "reviews = load_parquets(parquet_dir, selection_file)\n",
    "game_details = load_json(json_path)"
   ]
  },
  {
   "cell_type": "code",
   "execution_count": null,
   "metadata": {},
   "outputs": [],
   "source": [
    "# Integrate game details with reviews\n",
    "game_details = game_details.with_column(pl.col('appid').cast(pl.Utf8))\n",
    "reviews = reviews.join(game_details, on='appid', how='inner')\n",
    "\n",
    "# Split the data into train and test sets\n",
    "train_data, test_data = train_test_split(reviews.to_pandas(), test_size=0.2, random_state=42)"
   ]
  },
  {
   "cell_type": "code",
   "execution_count": null,
   "metadata": {},
   "outputs": [],
   "source": [
    "# Train the models on the training data\n",
    "user_based_model = UserBasedCF()\n",
    "user_based_model.fit(train_data)\n",
    "user_based_model.save(f'{model_dir}/user_based_cf_model.pkl')"
   ]
  },
  {
   "cell_type": "code",
   "execution_count": null,
   "metadata": {},
   "outputs": [],
   "source": [
    "item_based_model = ItemBasedCF()\n",
    "item_based_model.fit(train_data)\n",
    "item_based_model.save(f'{model_dir}/item_based_cf_model.pkl')"
   ]
  },
  {
   "cell_type": "code",
   "execution_count": null,
   "metadata": {},
   "outputs": [],
   "source": [
    "matrix_factorization_model = MatrixFactorizationCF()\n",
    "matrix_factorization_model.fit(train_data)\n",
    "matrix_factorization_model.save(f'{model_dir}/matrix_factorization_cf_model.pkl')"
   ]
  },
  {
   "cell_type": "code",
   "execution_count": null,
   "metadata": {},
   "outputs": [],
   "source": []
  }
 ],
 "metadata": {
  "kernelspec": {
   "display_name": "Python 3 (ipykernel)",
   "language": "python",
   "name": "python3"
  },
  "language_info": {
   "codemirror_mode": {
    "name": "ipython",
    "version": 3
   },
   "file_extension": ".py",
   "mimetype": "text/x-python",
   "name": "python",
   "nbconvert_exporter": "python",
   "pygments_lexer": "ipython3",
   "version": "3.12.2"
  }
 },
 "nbformat": 4,
 "nbformat_minor": 4
}
