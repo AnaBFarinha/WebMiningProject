{
 "cells": [
  {
   "cell_type": "code",
   "execution_count": null,
   "metadata": {},
   "outputs": [],
   "source": [
    "import polars as pl\n",
    "from model import UserBasedCF, ItemBasedCF, MatrixFactorizationCF"
   ]
  },
  {
   "cell_type": "code",
   "execution_count": null,
   "metadata": {},
   "outputs": [],
   "source": [
    "# Train the models on the training data\n",
    "def train_model(parquet_dir, game_details_path, selection_file, selection_name=\"\")\n",
    "   \n",
    "    train_data, _ = load_data(parquet_dir, game_details_path, selection_file)\n",
    "    \n",
    "    # Load models\n",
    "    model_dir = 'data/model'\n",
    "    \n",
    "    user_based_model = UserBasedCF()\n",
    "    user_based_model.fit(train_data)\n",
    "    user_based_model.save(f'{model_dir}/user_based_cf_model{selection_name}.pkl')\n",
    "    \n",
    "    item_based_model = ItemBasedCF()\n",
    "    item_based_model.fit(train_data)\n",
    "    item_based_model.save(f'{model_dir}/item_based_cf_model{selection_name}.pkl')\n",
    "    \n",
    "    matrix_factorization_model = MatrixFactorizationCF()\n",
    "    matrix_factorization_model.fit(train_data)\n",
    "    matrix_factorization_model.save(f'{model_dir}/matrix_factorization_cf_model{selection_name}.pkl')"
   ]
  },
  {
   "cell_type": "code",
   "execution_count": null,
   "metadata": {},
   "outputs": [],
   "source": [
    "config = load_config()\n",
    "for variation, params in config.items():\n",
    "    train_model(\n",
    "        params['parquet_dir'],\n",
    "        params['game_details_path'],\n",
    "        params['selection_file'],\n",
    "        params['selection_name'])"
   ]
  }
 ],
 "metadata": {
  "kernelspec": {
   "display_name": "Python 3 (ipykernel)",
   "language": "python",
   "name": "python3"
  },
  "language_info": {
   "codemirror_mode": {
    "name": "ipython",
    "version": 3
   },
   "file_extension": ".py",
   "mimetype": "text/x-python",
   "name": "python",
   "nbconvert_exporter": "python",
   "pygments_lexer": "ipython3",
   "version": "3.12.2"
  }
 },
 "nbformat": 4,
 "nbformat_minor": 4
}
