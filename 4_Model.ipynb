{
 "cells": [
  {
   "cell_type": "markdown",
   "metadata": {},
   "source": [
    "# Model <a id='top'></a>\n",
    "\n",
    "In this notebook, we start training our recommendation systems. Firstly we create classes, one for each type of recommendation system that we are going to use. Following, we start training different models using different combinations of the data we extrcted and prepared.\n",
    "\n",
    "The structure of this notebook is as follows:\n",
    "\n",
    "[0. Import Libraries](#libraries) <br>\n",
    "[1. Define Necessary Functions](#functions) <br>\n",
    "[2. Model Training ](#train) <br>"
   ]
  },
  {
   "cell_type": "markdown",
   "metadata": {},
   "source": [
    "# 0. Import libraries <a id='libraries'></a>\n",
    "[to the top](#top)\n",
    "\n",
    "Import the necessary libraries."
   ]
  },
  {
   "cell_type": "code",
   "execution_count": null,
   "metadata": {},
   "outputs": [],
   "source": [
    "from model import UserBasedCF, ItemBasedCF, MatrixFactorizationCF\n",
    "from helper_functions import load_data, load_config, format_timedelta\n",
    "import time\n",
    "from datetime import timedelta"
   ]
  },
  {
   "cell_type": "markdown",
   "metadata": {},
   "source": [
    "# 1. Define Necessary Functions <a id='functions'></a>\n",
    "[to the top](#top)\n",
    "\n",
    "The train_model function is responsible for training three collaborative filtering models (User-Based CF, Item-Based CF, and Matrix Factorization CF) on the provided training data, and then saving the trained models to disk. On the other hand, the classes UserBasedCF, ItemBasedCF, and MatrixFactorizationCF implement the logic and algorithms for each respective collaborative filtering method, including model fitting, prediction, saving, and loading. Together, these functions and classes facilitate the training and usage of collaborative filtering models for generating personalized recommendations based on user-item interactions in the provided dataset."
   ]
  },
  {
   "cell_type": "code",
   "execution_count": null,
   "metadata": {},
   "outputs": [],
   "source": [
    "def train_model(reviews_dir, game_details_path, selection_file, selection_name=\"\"):\n",
    "    start_time = time.time()\n",
    "    \n",
    "    print(f\"Loading data for selection: {selection_name}\")\n",
    "    train_data, _ = load_data(reviews_dir, game_details_path, selection_file)\n",
    "    data_loading_time = time.time()\n",
    "    print(f\"Data loaded in {format_timedelta(timedelta(seconds=data_loading_time - start_time))}\")\n",
    "    print(\"-\" * 40)\n",
    "    \n",
    "    # Load models\n",
    "    model_dir = 'data/model'\n",
    "    \n",
    "    print(f\"Training User-Based Collaborative Filtering model for selection: {selection_name}\")\n",
    "    user_based_model = UserBasedCF()\n",
    "    user_based_model.fit(train_data)\n",
    "    user_based_model.save(f'{model_dir}/{selection_name}_user_based_cf_model.pkl')\n",
    "    user_based_training_time = time.time()\n",
    "    print(f\"User-Based CF model trained in {format_timedelta(timedelta(seconds=user_based_training_time - data_loading_time))}\")\n",
    "    print(\"-\" * 40)\n",
    "    \n",
    "    print(f\"Training Item-Based Collaborative Filtering model for selection: {selection_name}\")\n",
    "    item_based_model = ItemBasedCF()\n",
    "    item_based_model.fit(train_data)\n",
    "    item_based_model.save(f'{model_dir}/{selection_name}_item_based_cf_model.pkl')\n",
    "    item_based_training_time = time.time()\n",
    "    print(f\"Item-Based CF model trained in {format_timedelta(timedelta(seconds=item_based_training_time - user_based_training_time))}\")\n",
    "    print(\"-\" * 40)\n",
    "    \n",
    "    print(f\"Training Matrix Factorization model for selection: {selection_name}\")\n",
    "    matrix_factorization_model = MatrixFactorizationCF()\n",
    "    matrix_factorization_model.fit(train_data)\n",
    "    matrix_factorization_model.save(f'{model_dir}/{selection_name}_matrix_factorization_cf_model.pkl')\n",
    "    matrix_factorization_training_time = time.time()\n",
    "    print(f\"Matrix Factorization model trained in {format_timedelta(timedelta(seconds=matrix_factorization_training_time - item_based_training_time))}\")\n",
    "    print(\"-\" * 40)\n",
    "    \n",
    "    total_time = matrix_factorization_training_time - start_time\n",
    "    print(f\"Total training time for selection {selection_name}: {format_timedelta(timedelta(seconds=total_time))}\")\n",
    "    print(\"=\" * 40)"
   ]
  },
  {
   "cell_type": "markdown",
   "metadata": {},
   "source": [
    "# 2. Model Training <a id='train'></a>\n",
    "[to the top](#top)\n",
    "\n",
    "The code loads configuration parameters from a file and iterates over each variation. Therefore, the cell bellow trains several variations of recommendation systems using different combinations of data."
   ]
  },
  {
   "cell_type": "code",
   "execution_count": null,
   "metadata": {},
   "outputs": [],
   "source": [
    "config = load_config()\n",
    "for variation, params in config.items():\n",
    "    train_model(\n",
    "        params['reviews_dir'],\n",
    "        params['game_details_path'],\n",
    "        params['selection_file'],\n",
    "        params['selection_name'])"
   ]
  }
 ],
 "metadata": {
  "kernelspec": {
   "display_name": "Python 3 (ipykernel)",
   "language": "python",
   "name": "python3"
  },
  "language_info": {
   "codemirror_mode": {
    "name": "ipython",
    "version": 3
   },
   "file_extension": ".py",
   "mimetype": "text/x-python",
   "name": "python",
   "nbconvert_exporter": "python",
   "pygments_lexer": "ipython3",
   "version": "3.12.2"
  }
 },
 "nbformat": 4,
 "nbformat_minor": 4
}
