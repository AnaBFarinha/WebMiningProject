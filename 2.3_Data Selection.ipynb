{
 "cells": [
  {
   "cell_type": "code",
   "execution_count": 1,
   "id": "2f64e11a-fb18-4981-ae82-f2f5940de041",
   "metadata": {},
   "outputs": [],
   "source": [
    "import polars as pl\n",
    "from helper_functions import get_parquets_data_info, save_appids_to_txt"
   ]
  },
  {
   "cell_type": "code",
   "execution_count": 2,
   "id": "c8febe4c",
   "metadata": {},
   "outputs": [],
   "source": [
    "parquet_folder_path = 'data/parquets'\n",
    "parquet_preprocessed_folder_path = 'data/parquets_preprocessed'"
   ]
  },
  {
   "cell_type": "code",
   "execution_count": 3,
   "id": "d1d5d469",
   "metadata": {},
   "outputs": [],
   "source": [
    "df_parquets = get_parquets_data_info(parquet_folder_path)\n",
    "df_parquets_preprocessed = get_parquets_data_info(parquet_preprocessed_folder_path)"
   ]
  },
  {
   "cell_type": "code",
   "execution_count": 4,
   "id": "496b262b",
   "metadata": {},
   "outputs": [
    {
     "data": {
      "text/html": [
       "<div><style>\n",
       ".dataframe > thead > tr,\n",
       ".dataframe > tbody > tr {\n",
       "  text-align: right;\n",
       "  white-space: pre-wrap;\n",
       "}\n",
       "</style>\n",
       "<small>shape: (5, 4)</small><table border=\"1\" class=\"dataframe\"><thead><tr><th>file_name</th><th>appid</th><th>review_count</th><th>name</th></tr><tr><td>str</td><td>str</td><td>i64</td><td>str</td></tr></thead><tbody><tr><td>&quot;1000760_reviews_490.parquet&quot;</td><td>&quot;1000760&quot;</td><td>490</td><td>&quot;Foregone&quot;</td></tr><tr><td>&quot;1011190_reviews_547.parquet&quot;</td><td>&quot;1011190&quot;</td><td>547</td><td>&quot;SIMULACRA 2&quot;</td></tr><tr><td>&quot;1012110_reviews_447.parquet&quot;</td><td>&quot;1012110&quot;</td><td>447</td><td>&quot;Military Conflict: Vietnam&quot;</td></tr><tr><td>&quot;1027820_reviews_260.parquet&quot;</td><td>&quot;1027820&quot;</td><td>260</td><td>&quot;Hand Simulator: Horror&quot;</td></tr><tr><td>&quot;104600_reviews_422.parquet&quot;</td><td>&quot;104600&quot;</td><td>422</td><td>&quot;Portal 2 - The Final Hours&quot;</td></tr></tbody></table></div>"
      ],
      "text/plain": [
       "shape: (5, 4)\n",
       "┌─────────────────────────────┬─────────┬──────────────┬────────────────────────────┐\n",
       "│ file_name                   ┆ appid   ┆ review_count ┆ name                       │\n",
       "│ ---                         ┆ ---     ┆ ---          ┆ ---                        │\n",
       "│ str                         ┆ str     ┆ i64          ┆ str                        │\n",
       "╞═════════════════════════════╪═════════╪══════════════╪════════════════════════════╡\n",
       "│ 1000760_reviews_490.parquet ┆ 1000760 ┆ 490          ┆ Foregone                   │\n",
       "│ 1011190_reviews_547.parquet ┆ 1011190 ┆ 547          ┆ SIMULACRA 2                │\n",
       "│ 1012110_reviews_447.parquet ┆ 1012110 ┆ 447          ┆ Military Conflict: Vietnam │\n",
       "│ 1027820_reviews_260.parquet ┆ 1027820 ┆ 260          ┆ Hand Simulator: Horror     │\n",
       "│ 104600_reviews_422.parquet  ┆ 104600  ┆ 422          ┆ Portal 2 - The Final Hours │\n",
       "└─────────────────────────────┴─────────┴──────────────┴────────────────────────────┘"
      ]
     },
     "execution_count": 4,
     "metadata": {},
     "output_type": "execute_result"
    }
   ],
   "source": [
    "df_parquets.head()"
   ]
  },
  {
   "cell_type": "code",
   "execution_count": 5,
   "id": "6235e674",
   "metadata": {},
   "outputs": [
    {
     "data": {
      "text/html": [
       "<div><style>\n",
       ".dataframe > thead > tr,\n",
       ".dataframe > tbody > tr {\n",
       "  text-align: right;\n",
       "  white-space: pre-wrap;\n",
       "}\n",
       "</style>\n",
       "<small>shape: (5, 4)</small><table border=\"1\" class=\"dataframe\"><thead><tr><th>file_name</th><th>appid</th><th>review_count</th><th>name</th></tr><tr><td>str</td><td>str</td><td>i64</td><td>str</td></tr></thead><tbody><tr><td>&quot;1000760_reviews_490_preprocess…</td><td>&quot;1000760&quot;</td><td>490</td><td>&quot;Foregone&quot;</td></tr><tr><td>&quot;1011190_reviews_547_preprocess…</td><td>&quot;1011190&quot;</td><td>547</td><td>&quot;SIMULACRA 2&quot;</td></tr><tr><td>&quot;1012110_reviews_447_preprocess…</td><td>&quot;1012110&quot;</td><td>447</td><td>&quot;Military Conflict: Vietnam&quot;</td></tr><tr><td>&quot;1027820_reviews_260_preprocess…</td><td>&quot;1027820&quot;</td><td>260</td><td>&quot;Hand Simulator: Horror&quot;</td></tr><tr><td>&quot;104600_reviews_422_preprocesse…</td><td>&quot;104600&quot;</td><td>422</td><td>&quot;Portal 2 - The Final Hours&quot;</td></tr></tbody></table></div>"
      ],
      "text/plain": [
       "shape: (5, 4)\n",
       "┌─────────────────────────────────┬─────────┬──────────────┬────────────────────────────┐\n",
       "│ file_name                       ┆ appid   ┆ review_count ┆ name                       │\n",
       "│ ---                             ┆ ---     ┆ ---          ┆ ---                        │\n",
       "│ str                             ┆ str     ┆ i64          ┆ str                        │\n",
       "╞═════════════════════════════════╪═════════╪══════════════╪════════════════════════════╡\n",
       "│ 1000760_reviews_490_preprocess… ┆ 1000760 ┆ 490          ┆ Foregone                   │\n",
       "│ 1011190_reviews_547_preprocess… ┆ 1011190 ┆ 547          ┆ SIMULACRA 2                │\n",
       "│ 1012110_reviews_447_preprocess… ┆ 1012110 ┆ 447          ┆ Military Conflict: Vietnam │\n",
       "│ 1027820_reviews_260_preprocess… ┆ 1027820 ┆ 260          ┆ Hand Simulator: Horror     │\n",
       "│ 104600_reviews_422_preprocesse… ┆ 104600  ┆ 422          ┆ Portal 2 - The Final Hours │\n",
       "└─────────────────────────────────┴─────────┴──────────────┴────────────────────────────┘"
      ]
     },
     "execution_count": 5,
     "metadata": {},
     "output_type": "execute_result"
    }
   ],
   "source": [
    "df_parquets_preprocessed.head()"
   ]
  },
  {
   "cell_type": "code",
   "execution_count": 6,
   "id": "97ae6015",
   "metadata": {},
   "outputs": [
    {
     "name": "stdout",
     "output_type": "stream",
     "text": [
      "high:23\n",
      "low:487\n"
     ]
    }
   ],
   "source": [
    "threshold = 50000\n",
    "\n",
    "high_review_df = df_parquets.filter(pl.col(\"review_count\") > threshold)\n",
    "high_review_appid_list = high_review_df.select(\"appid\").to_series().to_list()\n",
    "print(f\"high:{len(high_review_appid_list)}\")\n",
    "\n",
    "# Save the list of appids to a text file\n",
    "save_appids_to_txt(high_review_appid_list, 'data/high_review_games.txt')\n",
    "\n",
    "low_review_df = df_parquets.filter(pl.col(\"review_count\") < threshold)\n",
    "low_review_appid_list = low_review_df.select(\"appid\").to_series().to_list()\n",
    "print(f\"low:{len(low_review_appid_list)}\")\n",
    "\n",
    "# Save the list of appids to a text file\n",
    "save_appids_to_txt(low_review_appid_list, 'data/low_review_games.txt')"
   ]
  }
 ],
 "metadata": {
  "kernelspec": {
   "display_name": "Python 3 (ipykernel)",
   "language": "python",
   "name": "python3"
  },
  "language_info": {
   "codemirror_mode": {
    "name": "ipython",
    "version": 3
   },
   "file_extension": ".py",
   "mimetype": "text/x-python",
   "name": "python",
   "nbconvert_exporter": "python",
   "pygments_lexer": "ipython3",
   "version": "3.12.3"
  }
 },
 "nbformat": 4,
 "nbformat_minor": 5
}
