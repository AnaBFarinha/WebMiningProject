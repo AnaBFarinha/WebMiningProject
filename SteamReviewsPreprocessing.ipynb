{
 "cells": [
  {
   "cell_type": "code",
   "execution_count": 7,
   "metadata": {},
   "outputs": [
    {
     "name": "stderr",
     "output_type": "stream",
     "text": [
      "C:\\Users\\ivano\\AppData\\Local\\Temp\\ipykernel_20368\\1786033052.py:15: DeprecationWarning: `apply` is deprecated. It has been renamed to `map_elements`.\n",
      "  col('author').apply(lambda x: x.get('steamid', None), return_dtype=pl.Int64).alias('steamid'),\n",
      "C:\\Users\\ivano\\AppData\\Local\\Temp\\ipykernel_20368\\1786033052.py:16: DeprecationWarning: `apply` is deprecated. It has been renamed to `map_elements`.\n",
      "  col('author').apply(lambda x: x.get('num_games_owned', None), return_dtype=pl.Int64).alias('num_games_owned'),\n",
      "C:\\Users\\ivano\\AppData\\Local\\Temp\\ipykernel_20368\\1786033052.py:17: DeprecationWarning: `apply` is deprecated. It has been renamed to `map_elements`.\n",
      "  col('author').apply(lambda x: x.get('num_reviews', None), return_dtype=pl.Int64).alias('num_reviews'),\n",
      "C:\\Users\\ivano\\AppData\\Local\\Temp\\ipykernel_20368\\1786033052.py:18: DeprecationWarning: `apply` is deprecated. It has been renamed to `map_elements`.\n",
      "  col('author').apply(lambda x: x.get('playtime_forever', None), return_dtype=pl.Int64).alias('playtime_forever'),\n",
      "C:\\Users\\ivano\\AppData\\Local\\Temp\\ipykernel_20368\\1786033052.py:19: DeprecationWarning: `apply` is deprecated. It has been renamed to `map_elements`.\n",
      "  col('author').apply(lambda x: x.get('playtime_last_two_weeks', None), return_dtype=pl.Int64).alias('playtime_last_two_weeks'),\n",
      "C:\\Users\\ivano\\AppData\\Local\\Temp\\ipykernel_20368\\1786033052.py:20: DeprecationWarning: `apply` is deprecated. It has been renamed to `map_elements`.\n",
      "  col('author').apply(lambda x: x.get('playtime_at_review', None), return_dtype=pl.Int64).alias('playtime_at_review'),\n",
      "C:\\Users\\ivano\\AppData\\Local\\Temp\\ipykernel_20368\\1786033052.py:21: DeprecationWarning: `apply` is deprecated. It has been renamed to `map_elements`.\n",
      "  col('author').apply(lambda x: x.get('last_played', None), return_dtype=pl.Int64).alias('last_played')\n"
     ]
    },
    {
     "data": {
      "text/html": [
       "<div><style>\n",
       ".dataframe > thead > tr,\n",
       ".dataframe > tbody > tr {\n",
       "  text-align: right;\n",
       "  white-space: pre-wrap;\n",
       "}\n",
       "</style>\n",
       "<small>shape: (5, 20)</small><table border=\"1\" class=\"dataframe\"><thead><tr><th>recommendationid</th><th>author</th><th>review</th><th>timestamp_created</th><th>timestamp_updated</th><th>voted_up</th><th>votes_up</th><th>votes_funny</th><th>weighted_vote_score</th><th>comment_count</th><th>steam_purchase</th><th>received_for_free</th><th>written_during_early_access</th><th>steamid</th><th>num_games_owned</th><th>num_reviews</th><th>playtime_forever</th><th>playtime_last_two_weeks</th><th>playtime_at_review</th><th>last_played</th></tr><tr><td>str</td><td>struct[7]</td><td>str</td><td>i64</td><td>i64</td><td>bool</td><td>i64</td><td>i64</td><td>str</td><td>i64</td><td>bool</td><td>bool</td><td>bool</td><td>i64</td><td>i64</td><td>i64</td><td>i64</td><td>i64</td><td>i64</td><td>i64</td></tr></thead><tbody><tr><td>&quot;165227028&quot;</td><td>{&quot;76561198288133878&quot;,67,10,5425,3555,5304,1715536388}</td><td>&quot;Steam cloud is pure garbage, y…</td><td>1715529140</td><td>1715529140</td><td>false</td><td>0</td><td>0</td><td>&quot;0&quot;</td><td>0</td><td>true</td><td>false</td><td>true</td><td>null</td><td>67</td><td>10</td><td>5425</td><td>3555</td><td>5304</td><td>1715536388</td></tr><tr><td>&quot;165211622&quot;</td><td>{&quot;76561197997256824&quot;,0,15,4189,208,4189,1715454118}</td><td>&quot;run around circles pick skills…</td><td>1715514411</td><td>1715514411</td><td>true</td><td>0</td><td>0</td><td>&quot;0&quot;</td><td>0</td><td>true</td><td>false</td><td>true</td><td>null</td><td>0</td><td>15</td><td>4189</td><td>208</td><td>4189</td><td>1715454118</td></tr><tr><td>&quot;165201893&quot;</td><td>{&quot;76561198068009149&quot;,0,15,1040,324,1040,1715502585}</td><td>&quot;Really really great game!\r\n",
       "Kee…</td><td>1715502804</td><td>1715502804</td><td>true</td><td>0</td><td>0</td><td>&quot;0&quot;</td><td>0</td><td>true</td><td>false</td><td>true</td><td>null</td><td>0</td><td>15</td><td>1040</td><td>324</td><td>1040</td><td>1715502585</td></tr><tr><td>&quot;165169449&quot;</td><td>{&quot;76561199012523565&quot;,24,1,4165,532,4139,1715461586}</td><td>&quot;If you&#x27;re not looking for the …</td><td>1715461412</td><td>1715461412</td><td>true</td><td>1</td><td>0</td><td>&quot;0.523809552192687988&quot;</td><td>0</td><td>true</td><td>false</td><td>true</td><td>null</td><td>24</td><td>1</td><td>4165</td><td>532</td><td>4139</td><td>1715461586</td></tr><tr><td>&quot;165133298&quot;</td><td>{&quot;76561198100409874&quot;,97,36,1685,1685,1413,1715461828}</td><td>&quot;This game is highly addictive&quot;</td><td>1715428156</td><td>1715428156</td><td>true</td><td>0</td><td>0</td><td>&quot;0&quot;</td><td>0</td><td>true</td><td>false</td><td>true</td><td>null</td><td>97</td><td>36</td><td>1685</td><td>1685</td><td>1413</td><td>1715461828</td></tr></tbody></table></div>"
      ],
      "text/plain": [
       "shape: (5, 20)\n",
       "┌───────────┬───────────┬───────────┬───────────┬───┬───────────┬───────────┬───────────┬──────────┐\n",
       "│ recommend ┆ author    ┆ review    ┆ timestamp ┆ … ┆ playtime_ ┆ playtime_ ┆ playtime_ ┆ last_pla │\n",
       "│ ationid   ┆ ---       ┆ ---       ┆ _created  ┆   ┆ forever   ┆ last_two_ ┆ at_review ┆ yed      │\n",
       "│ ---       ┆ struct[7] ┆ str       ┆ ---       ┆   ┆ ---       ┆ weeks     ┆ ---       ┆ ---      │\n",
       "│ str       ┆           ┆           ┆ i64       ┆   ┆ i64       ┆ ---       ┆ i64       ┆ i64      │\n",
       "│           ┆           ┆           ┆           ┆   ┆           ┆ i64       ┆           ┆          │\n",
       "╞═══════════╪═══════════╪═══════════╪═══════════╪═══╪═══════════╪═══════════╪═══════════╪══════════╡\n",
       "│ 165227028 ┆ {\"7656119 ┆ Steam     ┆ 171552914 ┆ … ┆ 5425      ┆ 3555      ┆ 5304      ┆ 17155363 │\n",
       "│           ┆ 828813387 ┆ cloud is  ┆ 0         ┆   ┆           ┆           ┆           ┆ 88       │\n",
       "│           ┆ 8\",67,10, ┆ pure      ┆           ┆   ┆           ┆           ┆           ┆          │\n",
       "│           ┆ 542…      ┆ garbage,  ┆           ┆   ┆           ┆           ┆           ┆          │\n",
       "│           ┆           ┆ y…        ┆           ┆   ┆           ┆           ┆           ┆          │\n",
       "│ 165211622 ┆ {\"7656119 ┆ run       ┆ 171551441 ┆ … ┆ 4189      ┆ 208       ┆ 4189      ┆ 17154541 │\n",
       "│           ┆ 799725682 ┆ around    ┆ 1         ┆   ┆           ┆           ┆           ┆ 18       │\n",
       "│           ┆ 4\",0,15,4 ┆ circles   ┆           ┆   ┆           ┆           ┆           ┆          │\n",
       "│           ┆ 189…      ┆ pick      ┆           ┆   ┆           ┆           ┆           ┆          │\n",
       "│           ┆           ┆ skills…   ┆           ┆   ┆           ┆           ┆           ┆          │\n",
       "│ 165201893 ┆ {\"7656119 ┆ Really    ┆ 171550280 ┆ … ┆ 1040      ┆ 324       ┆ 1040      ┆ 17155025 │\n",
       "│           ┆ 806800914 ┆ really    ┆ 4         ┆   ┆           ┆           ┆           ┆ 85       │\n",
       "│           ┆ 9\",0,15,1 ┆ great     ┆           ┆   ┆           ┆           ┆           ┆          │\n",
       "│           ┆ 040…      ┆ game!\n",
       "     ┆           ┆   ┆           ┆           ┆           ┆          │\n",
       "│           ┆           ┆ Kee…      ┆           ┆   ┆           ┆           ┆           ┆          │\n",
       "│ 165169449 ┆ {\"7656119 ┆ If you're ┆ 171546141 ┆ … ┆ 4165      ┆ 532       ┆ 4139      ┆ 17154615 │\n",
       "│           ┆ 901252356 ┆ not       ┆ 2         ┆   ┆           ┆           ┆           ┆ 86       │\n",
       "│           ┆ 5\",24,1,4 ┆ looking   ┆           ┆   ┆           ┆           ┆           ┆          │\n",
       "│           ┆ 165…      ┆ for the … ┆           ┆   ┆           ┆           ┆           ┆          │\n",
       "│ 165133298 ┆ {\"7656119 ┆ This game ┆ 171542815 ┆ … ┆ 1685      ┆ 1685      ┆ 1413      ┆ 17154618 │\n",
       "│           ┆ 810040987 ┆ is highly ┆ 6         ┆   ┆           ┆           ┆           ┆ 28       │\n",
       "│           ┆ 4\",97,36, ┆ addictive ┆           ┆   ┆           ┆           ┆           ┆          │\n",
       "│           ┆ 168…      ┆           ┆           ┆   ┆           ┆           ┆           ┆          │\n",
       "└───────────┴───────────┴───────────┴───────────┴───┴───────────┴───────────┴───────────┴──────────┘"
      ]
     },
     "execution_count": 7,
     "metadata": {},
     "output_type": "execute_result"
    }
   ],
   "source": [
    "import polars as pl\n",
    "from polars import col, lit\n",
    "\n",
    "# Specify the path to the .parquet file\n",
    "file_path = r\"data\\\\parquets\\\\2066020_reviews_8125.parquet\"\n",
    "\n",
    "# Read the .parquet file into a Polars DataFrame\n",
    "df = pl.read_parquet(file_path)\n",
    "\n",
    "# Remove the columns that are not needed\n",
    "df = df.drop([\"language\", \"steam_china_location\", \"hidden_in_steam_china\"])\n",
    "\n",
    "# Add new columns to the DataFrame based on the 'author' column and remove the 'author' column\n",
    "df = df.with_columns([\n",
    "    col('author').apply(lambda x: x.get('steamid', None), return_dtype=pl.Int64).alias('steamid'),\n",
    "    col('author').apply(lambda x: x.get('num_games_owned', None), return_dtype=pl.Int64).alias('num_games_owned'),\n",
    "    col('author').apply(lambda x: x.get('num_reviews', None), return_dtype=pl.Int64).alias('num_reviews'),\n",
    "    col('author').apply(lambda x: x.get('playtime_forever', None), return_dtype=pl.Int64).alias('playtime_forever'),\n",
    "    col('author').apply(lambda x: x.get('playtime_last_two_weeks', None), return_dtype=pl.Int64).alias('playtime_last_two_weeks'),\n",
    "    col('author').apply(lambda x: x.get('playtime_at_review', None), return_dtype=pl.Int64).alias('playtime_at_review'),\n",
    "    col('author').apply(lambda x: x.get('last_played', None), return_dtype=pl.Int64).alias('last_played')\n",
    "])\n",
    "\n",
    "df = df.drop(\"author\")\n",
    "\n",
    "# Print the updated DataFrame\n",
    "df.head()\n"
   ]
  }
 ],
 "metadata": {
  "kernelspec": {
   "display_name": "Python 3",
   "language": "python",
   "name": "python3"
  },
  "language_info": {
   "codemirror_mode": {
    "name": "ipython",
    "version": 3
   },
   "file_extension": ".py",
   "mimetype": "text/x-python",
   "name": "python",
   "nbconvert_exporter": "python",
   "pygments_lexer": "ipython3",
   "version": "3.12.3"
  }
 },
 "nbformat": 4,
 "nbformat_minor": 2
}
