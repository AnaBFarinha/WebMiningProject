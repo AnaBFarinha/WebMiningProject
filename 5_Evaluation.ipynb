{
 "cells": [
  {
   "cell_type": "code",
   "execution_count": null,
   "id": "3f38356c-9382-46ee-8fcf-b03c911c4184",
   "metadata": {},
   "outputs": [],
   "source": [
    "import numpy as np\n",
    "from sklearn.metrics import mean_squared_error, mean_absolute_error, precision_score, recall_score, f1_score\n",
    "import polars as pl\n",
    "from model import UserBasedCF, ItemBasedCF, MatrixFactorizationCF\n",
    "import matplotlib.pyplot as plt"
   ]
  },
  {
   "cell_type": "code",
   "execution_count": null,
   "id": "43c478c8-5452-4aac-bb63-edecbd031c2d",
   "metadata": {},
   "outputs": [],
   "source": [
    "# Function to evaluate the model\n",
    "def evaluate_model(model, test_data):\n",
    "    y_true = []\n",
    "    y_pred = []\n",
    "\n",
    "    for row in test_data.itertuples():\n",
    "        user_id = row.user_id\n",
    "        game_id = row.game_id\n",
    "        actual_rating = row.rating\n",
    "\n",
    "        prediction = model.predict(user_id, game_id)\n",
    "        y_true.append(actual_rating)\n",
    "        y_pred.append(prediction)\n",
    "\n",
    "    y_true = np.array(y_true)\n",
    "    y_pred = np.array(y_pred)\n",
    "\n",
    "    # Mean Absolute Error\n",
    "    mae = mean_absolute_error(y_true, y_pred)\n",
    "\n",
    "    # Root Mean Squared Error\n",
    "    rmse = np.sqrt(mean_squared_error(y_true, y_pred))\n",
    "\n",
    "    # Precision, Recall, F1-score (assuming threshold for relevant rating is > 3)\n",
    "    y_true_binary = (y_true > 3).astype(int)\n",
    "    y_pred_binary = (y_pred > 3).astype(int)\n",
    "\n",
    "    precision = precision_score(y_true_binary, y_pred_binary, zero_division=0)\n",
    "    recall = recall_score(y_true_binary, y_pred_binary, zero_division=0)\n",
    "    f1 = f1_score(y_true_binary, y_pred_binary, zero_division=0)\n",
    "\n",
    "    return {'MAE': mae, 'RMSE': rmse, 'Precision': precision, 'Recall': recall, 'F1-score': f1}"
   ]
  },
  {
   "cell_type": "code",
   "execution_count": null,
   "id": "66670161-2a6a-430a-9e12-7d9874f9a2f8",
   "metadata": {},
   "outputs": [],
   "source": [
    "def plot_evaluation_results(results, model_name):\n",
    "    labels, values = zip(*results.items())\n",
    "    x = np.arange(len(labels))\n",
    "    plt.bar(x, values, color='b')\n",
    "    plt.xticks(x, labels)\n",
    "    plt.ylabel('Score')\n",
    "    plt.title(f'{model_name} Evaluation')\n",
    "    plt.show()"
   ]
  },
  {
   "cell_type": "code",
   "execution_count": null,
   "id": "38f408a2-1155-4fc2-8ffb-8b2cbc13680f",
   "metadata": {},
   "outputs": [],
   "source": [
    "# Directory paths\n",
    "parquet_dir = 'data/parquets'\n",
    "json_path = 'data/game_details/SteamMostPlayed_game_details.json'\n",
    "selection_file = None\n",
    "\n",
    "_, test_data = load_data(parquet_dir, json_path, selection_file)"
   ]
  },
  {
   "cell_type": "code",
   "execution_count": null,
   "id": "e774bea1-3289-48d9-b591-42f78fb6d5b1",
   "metadata": {},
   "outputs": [],
   "source": [
    "# Load models\n",
    "model_dir = 'data/model'\n",
    "\n",
    "user_based_model = UserBasedCF.load(f'{model_dir}/user_based_cf_model.pkl')\n",
    "item_based_model = ItemBasedCF.load(f'{model_dir}/item_based_cf_model.pkl')\n",
    "matrix_factorization_model = MatrixFactorizationCF.load(f'{model_dir}/matrix_factorization_cf_model.pkl')"
   ]
  },
  {
   "cell_type": "code",
   "execution_count": null,
   "id": "018282f9-b018-4abf-9336-14e628c5bb9e",
   "metadata": {},
   "outputs": [],
   "source": [
    "# Evaluate models\n",
    "user_based_results = evaluate_model(user_based_model, test_data)\n",
    "item_based_results = evaluate_model(item_based_model, test_data)\n",
    "matrix_factorization_results = evaluate_model(matrix_factorization_model, test_data)\n",
    "\n",
    "print(\"User-Based CF Evaluation Results:\", user_based_results)\n",
    "print(\"Item-Based CF Evaluation Results:\", item_based_results)\n",
    "print(\"Matrix Factorization CF Evaluation Results:\", matrix_factorization_results)"
   ]
  },
  {
   "cell_type": "code",
   "execution_count": null,
   "id": "e80f6589-2b6c-436d-8b90-02de776febb1",
   "metadata": {},
   "outputs": [],
   "source": [
    "# Plot results\n",
    "plot_evaluation_results(user_based_results, 'User-Based CF')\n",
    "plot_evaluation_results(item_based_results, 'Item-Based CF')\n",
    "plot_evaluation_results(matrix_factorization_results, 'Matrix Factorization CF')"
   ]
  }
 ],
 "metadata": {
  "kernelspec": {
   "display_name": "Python 3 (ipykernel)",
   "language": "python",
   "name": "python3"
  },
  "language_info": {
   "codemirror_mode": {
    "name": "ipython",
    "version": 3
   },
   "file_extension": ".py",
   "mimetype": "text/x-python",
   "name": "python",
   "nbconvert_exporter": "python",
   "pygments_lexer": "ipython3",
   "version": "3.12.2"
  }
 },
 "nbformat": 4,
 "nbformat_minor": 5
}
