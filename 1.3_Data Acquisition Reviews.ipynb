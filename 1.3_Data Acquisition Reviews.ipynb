{
 "cells": [
  {
   "cell_type": "markdown",
   "id": "692c2c41",
   "metadata": {},
   "source": [
    "# Data Acquisition - Game Reviews <a id='top'></a>\n",
    "\n",
    "In this last notebook of data extraction, we create a dataset with a focus on the game reviews. To do so, we started by extracting data using the Steam API. In this notebook, data related with the each games is going to be extracted. The final columns of our dataset are:\n",
    "* **recommendationid** (string): Unique identifier for the recommendation.\n",
    "* **author** (object): Contains information about the author of the recommendation.\n",
    "  * **steamid** (string): Author's Steam ID.\n",
    "  * **num_games_owned** (integer): Number of games the author owns on Steam.\n",
    "  * **num_reviews** (integer): Number of reviews written by the author.\n",
    "  * **playtime_forever** (integer): Total playtime of the author on Steam in minutes.\n",
    "  * **playtime_last_two_weeks** (integer): Playtime by the author in the last two weeks in minutes.\n",
    "  * **playtime_at_review** (integer): The author's playtime on the game at the time of writing the review (in minutes).\n",
    "  * **last_played** (integer): Unix timestamp of the last time the author played the game.\n",
    "* **language** (string): Language of the review (e.g., \"english\").\n",
    "* **review** (string): The actual review content.\n",
    "* **timestamp_created** (integer): Unix timestamp of when the review was created.\n",
    "* **timestamp_updated** (integer): Unix timestamp of when the review was last updated.\n",
    "* **voted_up** (boolean): Whether the author upvoted their own review.\n",
    "* **votes_up** (integer): Number of upvotes the review has received.\n",
    "* **votes_funny** (integer): Number of times the review was marked as funny.\n",
    "* **weighted_vote_score** (string): A score representing the overall rating of the review.\n",
    "* **comment_count** (integer): Number of comments on the review.\n",
    "* **steam_purchase** (boolean): Whether the author purchased the game on Steam.\n",
    "* **received_for_free** (boolean): Whether the author received the game for free.\n",
    "* **written_during_early_access** (boolean): Whether the review was written during the game's Early Access period.\n",
    "* **hidden_in_steam_china** (boolean): Whether the review is hidden on the Steam China store.\n",
    "* **steam_china_location** (string): User's location for the Steam China store.\n",
    "\n",
    "\n",
    "The structure of this notebook is as follows:\n",
    "\n",
    "[0. Import Libraries](#libraries) <br>\n",
    "[1. Define Functions for Data Extraction](#functions) <br>\n",
    "[2. Import Games Basic Data](#import_games) <br>\n",
    "&emsp; [2.1. Import Topsellers](#topseller) <br>\n",
    "&emsp; [2.2. Import Steam Most Played Games](#most_played) <br>\n",
    "&emsp; [2.3. Import Steam Monthly Top Games](#monthly) <br>\n",
    "[3. Extract Data](#extract) <br>\n",
    "&emsp; [3.1. Check Current Data](#current_data) <br>\n",
    "&emsp; [3.2. Extract Data](#extract_data) <br>\n"
   ]
  },
  {
   "cell_type": "markdown",
   "id": "594e02dd",
   "metadata": {},
   "source": [
    "# 0. Import Libraries<a id='libraries'></a>\n",
    "[to the top](#top)  \n",
    "\n",
    "The first step is to import the necessary libraries."
   ]
  },
  {
   "cell_type": "code",
   "execution_count": null,
   "id": "4436439d-3707-497c-83a3-e32241b893f8",
   "metadata": {},
   "outputs": [],
   "source": [
    "import polars as pl\n",
    "import os\n",
    "import time\n",
    "from urllib.parse import quote\n",
    "import requests"
   ]
  },
  {
   "cell_type": "markdown",
   "id": "906cc823",
   "metadata": {},
   "source": [
    "# 1. Define Functions for Data Extraction<a id='functions'></a>\n",
    "[to the top](#top)  \n",
    "\n",
    "Following, we define the necessary functions to extract the reviews of the selected games."
   ]
  },
  {
   "cell_type": "markdown",
   "id": "dc35be2c",
   "metadata": {},
   "source": [
    "The following function fetches recent reviews for a Steam application based on its app ID. "
   ]
  },
  {
   "cell_type": "code",
   "execution_count": null,
   "id": "f34df2f6-61b9-4ffb-b9b3-c744cf42e40c",
   "metadata": {},
   "outputs": [],
   "source": [
    "def get_steam_reviews(app_id, cursor='*'):\n",
    "    url = f\"https://store.steampowered.com/appreviews/{app_id}?json=1&filter=recent&language=english&cursor={cursor}&num_per_page=100\"\n",
    "    response = requests.get(url)\n",
    "    if response.status_code == 200:\n",
    "        data = response.json()\n",
    "        if data['success'] == 1:\n",
    "            return data\n",
    "        else:\n",
    "            print(f\"Failed to get valid reviews for app ID {app_id}.\")\n",
    "            print(data)\n",
    "            return data\n",
    "    else:\n",
    "        print(f\"Failed to get reviews for app ID {app_id}. Status code: {response.status_code}\")\n",
    "        return None"
   ]
  },
  {
   "cell_type": "markdown",
   "id": "0011bc86",
   "metadata": {},
   "source": [
    "Following, the reviews of each game are saved in individual parquet files with the following format: {appID}\\_reviews\\_{numberOfReviews}. Additionally, this function as a safenet that is composed by a cursor that keeps track of where the function left off when fetching reviews from the Steam API. It ensures that the function can retrieve reviews in batches, starting from where it last stopped, until all reviews have been fetched. This helps manage large amounts of data efficiently."
   ]
  },
  {
   "cell_type": "code",
   "execution_count": null,
   "id": "d584d85f-79dc-4d23-83a5-8fd02bba7e17",
   "metadata": {},
   "outputs": [],
   "source": [
    "def fetch_all_reviews(app_id):\n",
    "\n",
    "    cursor = '*'\n",
    "    all_reviews = []\n",
    "    \n",
    "    while True:\n",
    "        data = get_steam_reviews(app_id, cursor)\n",
    "        if data is None or data['query_summary']['num_reviews'] == 0:\n",
    "            break\n",
    "        \n",
    "        # Collect reviews\n",
    "        reviews = data['reviews']\n",
    "        all_reviews.extend(reviews)\n",
    "        \n",
    "        # Update cursor\n",
    "        cursor = quote(data['cursor'])\n",
    "    \n",
    "    # Create a DataFrame from reviews\n",
    "    reviews_df = pl.DataFrame(all_reviews)\n",
    "    num_entries = len(reviews_df)\n",
    "\n",
    "    # Specify the directory and file name for the parquet file\n",
    "    directory = \"data\\\\parquets\"\n",
    "    file_name = f\"{app_id}_reviews_{num_entries}.parquet\"\n",
    "    file_path = os.path.join(directory, file_name)\n",
    "    \n",
    "    # Save to parquet\n",
    "    reviews_df.write_parquet(file_path)\n",
    "\n",
    "    return num_entries"
   ]
  },
  {
   "cell_type": "markdown",
   "id": "18e466cd-b9ea-40d3-8956-59a90ebe02ed",
   "metadata": {},
   "source": [
    "Bellow, the reviews are extracted used the defined functions. Each time we run the cell, we have to decided which game's reviews we are going to fetch."
   ]
  },
  {
   "cell_type": "code",
   "execution_count": null,
   "id": "dc1aedd3-dc44-4306-b19a-fba1ef5919b7",
   "metadata": {},
   "outputs": [],
   "source": [
    "# start_time = time.time()\n",
    "# num_entries = fetch_all_reviews(553850)\n",
    "# elapsed_time = time.time() - start_time\n",
    "\n",
    "# print(f\"Execution time was {elapsed_time:.2f} seconds.\")\n",
    "# print(f\"Number of entries: {num_entries}\")"
   ]
  },
  {
   "cell_type": "markdown",
   "id": "e70e58e8",
   "metadata": {},
   "source": [
    "# 2. Import Games Basic Data<a id='import_games'></a>\n",
    "[to the top](#top)  \n",
    "\n",
    "Our next step is to confirm which reviews from which games in our JSON files were downloaded."
   ]
  },
  {
   "cell_type": "markdown",
   "id": "f918c7ec",
   "metadata": {},
   "source": [
    "## 2.1. Import Topsellers<a id='topseller'></a>\n",
    "[to the top](#top)  \n",
    "\n",
    "The first JSON file we imported was related to the Steam Top Seller games and has information about each games name and ID."
   ]
  },
  {
   "cell_type": "code",
   "execution_count": null,
   "id": "d5a4ec8d-7b01-445b-b451-e8a453d2b45b",
   "metadata": {},
   "outputs": [],
   "source": [
    "topseller = [x for x in list(pl.read_json('data/SteamTopSellers.json'))[0]]\n",
    "topseller[:5] "
   ]
  },
  {
   "cell_type": "markdown",
   "id": "33fa6f04",
   "metadata": {},
   "source": [
    "## 2.2. Import Steam Most Played Games<a id='most_played'></a>\n",
    "[to the top](#top)  \n",
    "\n",
    "The second JSON file we imported was related to the Most Played games at the moment of the data extraction and has information about each games rank, unique identifier, title, and peak current player count within the last 24 hours relative to the data extraction time."
   ]
  },
  {
   "cell_type": "code",
   "execution_count": null,
   "id": "100c3f81-790c-419b-9ecb-a385ffe86914",
   "metadata": {},
   "outputs": [],
   "source": [
    "mostplayed = [x for x in list(pl.read_json('data/SteamMostPlayed.json'))[0]]\n",
    "mostplayed[:5] "
   ]
  },
  {
   "cell_type": "markdown",
   "id": "4a83d14a",
   "metadata": {},
   "source": [
    "## 2.3. Import Steam Monthly Top Games<a id='monthly'></a>\n",
    "[to the top](#top)  \n",
    "\n",
    "The last JSON file we imported was related to the Most Played games of the first three months of 2024 and has information about each games rank, unique identifier, title, and peak current player count within the last 24 hours relative to the data extraction time."
   ]
  },
  {
   "cell_type": "code",
   "execution_count": null,
   "id": "994576d4-3eba-44ba-a6ca-159545d5d92f",
   "metadata": {},
   "outputs": [],
   "source": [
    "monthlytopgames = [x for x in list(pl.read_json('data/SteamMonthlyTopGames.json'))[0]]\n",
    "monthlytopgames[:5] "
   ]
  },
  {
   "cell_type": "markdown",
   "id": "1694639b",
   "metadata": {},
   "source": [
    "# 3. Extract Data<a id='extract'></a>\n",
    "[to the top](#top)  \n",
    "\n",
    "After selecting which games we want data on, it is time to start extracting the data."
   ]
  },
  {
   "cell_type": "markdown",
   "id": "a3428d5e",
   "metadata": {},
   "source": [
    "## 3.1. Check Current Data<a id='current_data'></a>\n",
    "[to the top](#top)  \n",
    "\n",
    "As extracting data is a long process, we decided to created a way to check which games we already have data on and extract data on the ones that we do not have yet. To do so, we create a list of the APP IDs of the games that we already extracted data on."
   ]
  },
  {
   "cell_type": "code",
   "execution_count": null,
   "id": "029e0dce-e2b6-4997-8c1d-916707cb5d47",
   "metadata": {},
   "outputs": [],
   "source": [
    "folder_path = 'data\\\\parquets'\n",
    "downloaded = []\n",
    "for filename in os.listdir(folder_path):\n",
    "    if filename.endswith('.parquet'):\n",
    "        game = filename.split('_')[0]\n",
    "        downloaded.append(game)\n",
    "len(downloaded)"
   ]
  },
  {
   "cell_type": "markdown",
   "id": "c21d2239",
   "metadata": {},
   "source": [
    "## 3.2. Extract Data<a id='extract_data'></a>\n",
    "[to the top](#top)  \n",
    "\n",
    "Below, we check if we already have data on each game, first for top sellers, then for the most played games and lastly for the monthly most played games. If we do not, we proceed to extract it. It also checks how long does it take to extract the last batch of data."
   ]
  },
  {
   "cell_type": "code",
   "execution_count": null,
   "id": "a3daea45",
   "metadata": {},
   "outputs": [],
   "source": [
    "# for game in topseller:\n",
    "#     if game in downloaded:\n",
    "#         continue\n",
    "#     start_time = time.time()\n",
    "#     num_entries = fetch_all_reviews(game)\n",
    "#     elapsed_time = time.time() - start_time\n",
    "\n",
    "#     # Conversion of time from seconds to hours, minutes, and seconds\n",
    "#     hours, remainder = divmod(elapsed_time, 3600)\n",
    "#     minutes, seconds = divmod(remainder, 60)\n",
    "\n",
    "#     print(f\"\"\"AppID: {game}\n",
    "#     Duration: {int(hours)} hours, {int(minutes)} minutes, {seconds:.2f} seconds\n",
    "#     Count: {num_entries}\n",
    "#     ####################\"\"\")"
   ]
  },
  {
   "cell_type": "code",
   "execution_count": null,
   "id": "a58398ef-e177-4dae-bbd3-21bb0b91e023",
   "metadata": {},
   "outputs": [],
   "source": [
    "for game in mostplayed:\n",
    "    if game in downloaded:\n",
    "        continue\n",
    "    start_time = time.time()\n",
    "    num_entries = fetch_all_reviews(game)\n",
    "    elapsed_time = time.time() - start_time\n",
    "\n",
    "    # Conversion of time from seconds to hours, minutes, and seconds\n",
    "    hours, remainder = divmod(elapsed_time, 3600)\n",
    "    minutes, seconds = divmod(remainder, 60)\n",
    "\n",
    "    print(f\"\"\"AppID: {game}\n",
    "    Duration: {int(hours)} hours, {int(minutes)} minutes, {seconds:.2f} seconds\n",
    "    Count: {num_entries}\n",
    "    ####################\"\"\")"
   ]
  },
  {
   "cell_type": "code",
   "execution_count": null,
   "id": "e49c76ce-1441-4ad2-ab61-c20970fa73a5",
   "metadata": {},
   "outputs": [],
   "source": [
    "for game in monthlytopgames:\n",
    "    if game in downloaded:\n",
    "        continue\n",
    "    start_time = time.time()\n",
    "    num_entries = fetch_all_reviews(game)\n",
    "    elapsed_time = time.time() - start_time\n",
    "\n",
    "    # Conversion of time from seconds to hours, minutes, and seconds\n",
    "    hours, remainder = divmod(elapsed_time, 3600)\n",
    "    minutes, seconds = divmod(remainder, 60)\n",
    "\n",
    "    print(f\"\"\"AppID: {game}\n",
    "    Duration: {int(hours)} hours, {int(minutes)} minutes, {seconds:.2f} seconds\n",
    "    Count: {num_entries}\n",
    "    ####################\"\"\")"
   ]
  }
 ],
 "metadata": {
  "kernelspec": {
   "display_name": "Python 3 (ipykernel)",
   "language": "python",
   "name": "python3"
  },
  "language_info": {
   "codemirror_mode": {
    "name": "ipython",
    "version": 3
   },
   "file_extension": ".py",
   "mimetype": "text/x-python",
   "name": "python",
   "nbconvert_exporter": "python",
   "pygments_lexer": "ipython3",
   "version": "3.12.2"
  }
 },
 "nbformat": 4,
 "nbformat_minor": 5
}
