{
 "cells": [
  {
   "cell_type": "markdown",
   "id": "deedc81d",
   "metadata": {},
   "source": [
    "# Data Acquisition - Game Details <a id='top'></a>\n",
    "\n",
    "In this next notebook of data acquisition, we start extracting more data about the selected games:\n",
    "\n",
    "* **game_name**: Stores the name of the game.\n",
    "* **app_id**: Represents the unique application ID associated with the game.\n",
    "* **data**: This is a dictionary containing various data about the game.\n",
    "* **required_age**: Stores the age required to play the game, defaulting to 0 if not provided.\n",
    "* **is_free**: Indicates whether the game is free or not, defaulting to `False`.\n",
    "* **detailed_description**: Contains a detailed description of the game.\n",
    "* **supported_languages**: A list of languages supported by the game, parsed from a string in the data.\n",
    "* **developers**: Stores the developers of the game.\n",
    "* **publishers**: Represents the publishers of the game.\n",
    "* **price**: The price of the game, either 0 if it's free or retrieved from the `price_overview` section in the data.\n",
    "* **platforms**: A list of platforms on which the game is available.\n",
    "* **metacritic_score**: The Metacritic score of the game.\n",
    "* **categories**: Categories or tags associated with the game.\n",
    "* **genres**: Genres the game belongs to.\n",
    "* **release_date**: The release date of the game.\n",
    "* **content_descriptors**: Descriptors for the game's content.\n",
    "* **usk_rating**: The USK (Entertainment Software Self-Regulation) rating of the game.\n",
    "* **number_of_reviews**: The total number of reviews or recommendations for the game.\n",
    "\n",
    "\n",
    "**Attention:** This notebook has a high running time.\n",
    "\n",
    "The structure of this notebook is as follows:\n",
    "\n",
    "[0. Import libraries](#libraries) <br>\n",
    "[1. Build a Safenet](#safenet) <br>\n",
    "[2. Format Games Data](#format) <br>\n",
    "[3. Extract Data](#extract) <br>"
   ]
  },
  {
   "cell_type": "markdown",
   "id": "3914c972",
   "metadata": {},
   "source": [
    "# 0. Import libraries <a id='libraries'></a>\n",
    "[to the top](#top)\n",
    "\n",
    "Import the necessary libraries."
   ]
  },
  {
   "cell_type": "code",
   "execution_count": 1,
   "id": "18b480c8-c769-4a74-b52c-aea3e459bc0d",
   "metadata": {},
   "outputs": [
    {
     "ename": "ModuleNotFoundError",
     "evalue": "No module named 'utils'",
     "output_type": "error",
     "traceback": [
      "\u001b[1;31m---------------------------------------------------------------------------\u001b[0m",
      "\u001b[1;31mModuleNotFoundError\u001b[0m                       Traceback (most recent call last)",
      "Cell \u001b[1;32mIn[1], line 2\u001b[0m\n\u001b[0;32m      1\u001b[0m \u001b[38;5;28;01mimport\u001b[39;00m \u001b[38;5;21;01mpolars\u001b[39;00m \u001b[38;5;28;01mas\u001b[39;00m \u001b[38;5;21;01mpl\u001b[39;00m\n\u001b[1;32m----> 2\u001b[0m \u001b[38;5;28;01mfrom\u001b[39;00m \u001b[38;5;21;01mutils\u001b[39;00m \u001b[38;5;28;01mimport\u001b[39;00m save_data_to_json\n\u001b[0;32m      3\u001b[0m \u001b[38;5;28;01mimport\u001b[39;00m \u001b[38;5;21;01mtime\u001b[39;00m\n\u001b[0;32m      4\u001b[0m \u001b[38;5;28;01mimport\u001b[39;00m \u001b[38;5;21;01mrequests\u001b[39;00m\n",
      "\u001b[1;31mModuleNotFoundError\u001b[0m: No module named 'utils'"
     ]
    }
   ],
   "source": [
    "import polars as pl\n",
    "from helper_functions import save_data_to_json\n",
    "import time\n",
    "import requests"
   ]
  },
  {
   "cell_type": "markdown",
   "id": "261e8a01-41f5-4768-ae1d-cbfb338b0e3d",
   "metadata": {},
   "source": [
    "# 1. Build a Safenet<a id='safenet'></a>\n",
    "\n",
    "Before we start extracting the data, we thought this was going to be a long process so we wanted to prevent any harm that may come. To do so, we decided to create a safenet that let's us continue where the computer left of before the algortihm went down. Now, we are ready to start extracting data."
   ]
  },
  {
   "cell_type": "code",
   "execution_count": null,
   "id": "39119fea",
   "metadata": {},
   "outputs": [],
   "source": [
    "def get_nested(dictionary, keys, default=None):\n",
    "    \"\"\"Safely retrieves a nested value from a dictionary given a list of keys.\"\"\"\n",
    "    for key in keys:\n",
    "        dictionary = dictionary.get(key) if dictionary is not None else None\n",
    "        if dictionary is None:\n",
    "            return default\n",
    "    return dictionary"
   ]
  },
  {
   "cell_type": "markdown",
   "id": "e105c812",
   "metadata": {},
   "source": [
    "# 2. Format Games Data<a id='format'></a>\n",
    "[to the top](#top)\n",
    "\n",
    "Before starting the extrcation process, we decided to create a function to format and extract the necessary variables from the information related to the game."
   ]
  },
  {
   "cell_type": "code",
   "execution_count": null,
   "id": "328ef8cf-903f-450d-a364-66b6078ae1f4",
   "metadata": {},
   "outputs": [],
   "source": [
    "def format_game_data(game_info, game_name, app_id):\n",
    "    \"\"\"Formats and extracts the necessary fields from the game info data, including the appid, using safe dictionary access\n",
    "    for top-level data and handling nested data where applicable.\"\"\"\n",
    "    data = game_info.get('data', {})\n",
    "    return {\n",
    "        \"name\": game_name,\n",
    "        \"appid\": app_id,\n",
    "        \"required_age\": data.get(\"required_age\", 0),\n",
    "        \"is_free\": data.get(\"is_free\", False),\n",
    "        \"detailed_description\": data.get(\"detailed_description\", \"\"),\n",
    "        \"supported_languages\": [lang.split('<')[0] for lang in data.get(\"supported_languages\", \"\").split(',')],\n",
    "        \"developers\": data.get(\"developers\", []),\n",
    "        \"publishers\": data.get(\"publishers\", []),\n",
    "        \"price\": 0 if data.get(\"is_free\", False) else get_nested(data, [\"price_overview\", \"final\"], 0) / 100,\n",
    "        \"platforms\": [key for key, value in data.get(\"platforms\", {}).items() if value],\n",
    "        \"metacritic_score\": get_nested(data, [\"metacritic\", \"score\"], None),\n",
    "        \"categories\": [category[\"description\"] for category in data.get(\"categories\", [])],\n",
    "        \"genres\": [genre[\"description\"] for genre in data.get(\"genres\", [])],\n",
    "        \"release_date\": get_nested(data, [\"release_date\", \"date\"], \"\"),\n",
    "        \"content_descriptors\": data.get(\"content_descriptors\", {}).get(\"notes\", \"\"),\n",
    "        \"usk_rating\": get_nested(data, [\"ratings\", \"usk\", \"rating\"], None),\n",
    "        \"number_of_reviews\": get_nested(data, [\"recommendations\", \"total\"], 0)  # Use get_nested to safely access nested data\n",
    "    }"
   ]
  },
  {
   "cell_type": "markdown",
   "id": "e2e789c7",
   "metadata": {},
   "source": [
    "# 3. Extract Data <a id='extract'></a>\n",
    "[to the top](#top)\n",
    "\n",
    "Below its a function that extracts information about the selected games."
   ]
  },
  {
   "cell_type": "code",
   "execution_count": null,
   "id": "bc372295-d539-4d21-b071-14a09fcc0d11",
   "metadata": {},
   "outputs": [],
   "source": [
    "def fetch_game_details(game_list, file_path):\n",
    "    \"\"\"Fetches information for each game in the list and updates the game dictionaries with the data.\"\"\"\n",
    "    base_url = \"https://store.steampowered.com/api/appdetails\"\n",
    "    games_details = []  # List to store all processed games details\n",
    "    processed_count = 0\n",
    "\n",
    "    while game_list:  # Process until the list is empty\n",
    "        game = game_list.pop(0)  # Remove and return the first game from the list\n",
    "        app_id = game['appid']\n",
    "        game_name = game[\"name\"]\n",
    "\n",
    "        # Construct the URL for the API request\n",
    "        params = {'appids': app_id}\n",
    "\n",
    "        # Make the API request\n",
    "        try:\n",
    "            response = requests.get(base_url, params=params)\n",
    "            response.raise_for_status()  # Raises an HTTPError for bad responses\n",
    "            data = response.json()\n",
    "            game_info = data[str(app_id)]\n",
    "            \n",
    "            if game_info['success']:\n",
    "                games_details.append(format_game_data(game_info, game_name, app_id))\n",
    "                processed_count += 1\n",
    "\n",
    "                if processed_count % 10 == 0:\n",
    "                    print(f\"Processed {processed_count} games so far.\")\n",
    "\n",
    "        except requests.RequestException as e:\n",
    "            print(f\"Failed to fetch data for {game_name}: {str(e)}\")\n",
    "            exit()\n",
    "\n",
    "        time.sleep(1)\n",
    "\n",
    "    save_data_to_json(games_details, file_path)"
   ]
  },
  {
   "cell_type": "markdown",
   "id": "6813af6c",
   "metadata": {},
   "source": [
    "In the next cell, we extract more information about the Top Sellers games on Steam"
   ]
  },
  {
   "cell_type": "code",
   "execution_count": null,
   "id": "767fdacc-0747-4fcb-8ab7-74f9cf0b7187",
   "metadata": {},
   "outputs": [],
   "source": [
    "topseller = pl.read_json('data/jsons/SteamTopSellers.json').to_dicts()\n",
    "file_path = \"data/game_details/SteamTopSellers_game_details.json\"\n",
    "\n",
    "fetch_game_details(topseller, file_path)"
   ]
  },
  {
   "cell_type": "markdown",
   "id": "0f773e36",
   "metadata": {},
   "source": [
    "After, we extract the same information but related with the Most Palyed Games on Steam (on the data we extracted our data)."
   ]
  },
  {
   "cell_type": "code",
   "execution_count": null,
   "id": "779ddc89-bd63-4381-9850-b7493601c40a",
   "metadata": {},
   "outputs": [],
   "source": [
    "mostplayed = pl.read_json('data/jsons/SteamMostPlayed.json').to_dicts()\n",
    "file_path = \"data/game_details/SteamMostPlayed_game_details.json\"\n",
    "\n",
    "fetch_game_details(mostplayed, file_path)"
   ]
  }
 ],
 "metadata": {
  "kernelspec": {
   "display_name": "Python 3 (ipykernel)",
   "language": "python",
   "name": "python3"
  },
  "language_info": {
   "codemirror_mode": {
    "name": "ipython",
    "version": 3
   },
   "file_extension": ".py",
   "mimetype": "text/x-python",
   "name": "python",
   "nbconvert_exporter": "python",
   "pygments_lexer": "ipython3",
   "version": "3.12.3"
  }
 },
 "nbformat": 4,
 "nbformat_minor": 5
}
