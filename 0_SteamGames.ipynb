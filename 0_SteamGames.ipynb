{
 "cells": [
  {
   "cell_type": "code",
   "execution_count": 1,
   "id": "4708fd5b-0ddf-4b12-b754-2a9438e5a478",
   "metadata": {},
   "outputs": [],
   "source": [
    "import requests\n",
    "import polars as pl\n",
    "import re\n",
    "import json\n",
    "import os\n",
    "import time"
   ]
  },
  {
   "cell_type": "code",
   "execution_count": 2,
   "id": "c9ced547-99ec-4f3d-9cd7-6ef03d470290",
   "metadata": {},
   "outputs": [],
   "source": [
    "def get_steam_gamesIDs():\n",
    "    url = f\"http://api.steampowered.com/ISteamApps/GetAppList/v2/\"\n",
    "    response = requests.get(url)\n",
    "    data = response.json()\n",
    "    return data['applist']['apps']  # This is a list of dictionaries with 'appid' and 'name'"
   ]
  },
  {
   "cell_type": "code",
   "execution_count": 3,
   "id": "56b79b32-f094-4066-b19a-079356e325ff",
   "metadata": {},
   "outputs": [],
   "source": [
    "games_list = get_steam_gamesIDs()"
   ]
  },
  {
   "cell_type": "code",
   "execution_count": 4,
   "id": "c0c5ff58-0ae8-4da4-9d56-4519e54b318d",
   "metadata": {},
   "outputs": [
    {
     "name": "stdout",
     "output_type": "stream",
     "text": [
      "198471\n"
     ]
    }
   ],
   "source": [
    "print(len(games_list))"
   ]
  },
  {
   "cell_type": "code",
   "execution_count": 5,
   "id": "08ab1024-c640-4353-a933-b064fa28edbf",
   "metadata": {},
   "outputs": [],
   "source": [
    "def clean_app_list(games_list):\n",
    "    # List of keywords to exclude\n",
    "    excluded = ['test', 'client', 'server', 'soundtrack', 'demo']\n",
    "    \n",
    "    # RegEx pattern for checking European characters\n",
    "    european_chars_pattern = re.compile(r'^[a-zA-Z0-9 \\-\\'!@#$%^&*()_+={}[\\]|\\\\:;\"<>,.?/~`€£±§]+$')\n",
    "    \n",
    "    # Filter the list by removing dictionaries whose 'name' is empty,\n",
    "    # contains 'test', 'client', 'server', 'soundtrack', or non-European characters.\n",
    "    filtered_games = [\n",
    "        app for app in games_list \n",
    "        if app['name'] and all(exclude not in app['name'].lower() for exclude in excluded)\n",
    "        and european_chars_pattern.match(app['name'])\n",
    "    ]\n",
    "    return filtered_games"
   ]
  },
  {
   "cell_type": "code",
   "execution_count": 6,
   "id": "2f985949-dff5-4d9a-a497-20c9bf58de38",
   "metadata": {},
   "outputs": [],
   "source": [
    "filtered_games = clean_app_list(games_list)"
   ]
  },
  {
   "cell_type": "code",
   "execution_count": 7,
   "id": "07969e5b-de96-4a24-ae36-d340de90d01e",
   "metadata": {},
   "outputs": [
    {
     "name": "stdout",
     "output_type": "stream",
     "text": [
      "152215\n"
     ]
    }
   ],
   "source": [
    "print(len(filtered_games))"
   ]
  },
  {
   "cell_type": "code",
   "execution_count": 8,
   "id": "aa3a315b-a420-41f2-9656-bac6cb0014b0",
   "metadata": {},
   "outputs": [
    {
     "data": {
      "text/plain": [
       "[{'appid': 2760970, 'name': 'Crop and Claw'},\n",
       " {'appid': 2810890, 'name': 'Height Lab'},\n",
       " {'appid': 661130, 'name': 'ChilloutVR'},\n",
       " {'appid': 1512190, 'name': 'Hunternet Starfighter'},\n",
       " {'appid': 2749930, 'name': 'LIO'},\n",
       " {'appid': 1540570, 'name': 'Fractal Block World'},\n",
       " {'appid': 2973540, 'name': '3D PUZZLE - Hospital 2'},\n",
       " {'appid': 2965660, 'name': 'PILGRIM'},\n",
       " {'appid': 2352640, 'name': 'You Are Peter Shorts'},\n",
       " {'appid': 1190970, 'name': 'House Flipper 2'}]"
      ]
     },
     "execution_count": 8,
     "metadata": {},
     "output_type": "execute_result"
    }
   ],
   "source": [
    "filtered_games[-10:]"
   ]
  },
  {
   "cell_type": "code",
   "execution_count": 9,
   "id": "c4d13953-65c7-47fd-9b29-dbeae08a75b5",
   "metadata": {},
   "outputs": [],
   "source": [
    "def find_apps_by_term(apps, term):\n",
    "    # Überprüfe, ob der Begriff im 'name' jedes Dictionaries enthalten ist. Ignoriere dabei Groß- und Kleinschreibung.\n",
    "    matching_apps = [app for app in apps if term.lower() in app['name'].lower()]\n",
    "    return matching_apps"
   ]
  },
  {
   "cell_type": "code",
   "execution_count": 10,
   "id": "092c3b86-90a4-47f8-aa41-18dfcdae5b4b",
   "metadata": {},
   "outputs": [
    {
     "data": {
      "text/plain": [
       "[{'appid': 2744840, 'name': 'Road Toad'},\n",
       " {'appid': 2744860, 'name': 'Coloring Pixels - Space 2 Pack'},\n",
       " {'appid': 2744900, 'name': 'Detective Kiwi'},\n",
       " {'appid': 2744930, 'name': 'Flee or Be'},\n",
       " {'appid': 2744970, 'name': 'Friendly Snowball'}]"
      ]
     },
     "execution_count": 10,
     "metadata": {},
     "output_type": "execute_result"
    }
   ],
   "source": [
    "search = find_apps_by_term(filtered_games, \" \")\n",
    "search[:5]"
   ]
  },
  {
   "cell_type": "code",
   "execution_count": 11,
   "id": "5998a6c8-5524-41ad-8f9a-518ed53a63c2",
   "metadata": {},
   "outputs": [],
   "source": [
    "def find_game_name(games, appid):\n",
    "    for game in games:\n",
    "        if game['appid'] == appid:\n",
    "            return game['name']\n",
    "    return \"Spiel mit dieser AppID nicht gefunden.\""
   ]
  },
  {
   "cell_type": "code",
   "execution_count": 12,
   "id": "d363d3bb-5ab4-462d-9ff4-e589c6555528",
   "metadata": {},
   "outputs": [
    {
     "data": {
      "text/plain": [
       "'Counter-Strike'"
      ]
     },
     "execution_count": 12,
     "metadata": {},
     "output_type": "execute_result"
    }
   ],
   "source": [
    "appid = 10\n",
    "find_game_name(filtered_games, appid)"
   ]
  },
  {
   "cell_type": "code",
   "execution_count": 13,
   "id": "b1a0b80e-60c3-4e7c-970b-b04dcda2e339",
   "metadata": {},
   "outputs": [],
   "source": [
    "def save_progress(game_list, games_details, filename='data\\\\game_progress.json'):\n",
    "    \"\"\"Saves the current processing state including unprocessed games and details of processed games.\"\"\"\n",
    "    data_to_save = {\n",
    "        'remaining_games': game_list,\n",
    "        'processed_details': games_details\n",
    "    }\n",
    "    with open(filename, 'w') as f:\n",
    "        json.dump(data_to_save, f)"
   ]
  },
  {
   "cell_type": "code",
   "execution_count": 14,
   "id": "78b7e60a-640e-4fd9-a132-c51562891332",
   "metadata": {},
   "outputs": [],
   "source": [
    "def load_progress(filename='data\\\\game_progress.json'):\n",
    "    \"\"\"Loads the saved processing state if it exists, including both unprocessed and processed games.\"\"\"\n",
    "    if os.path.exists(filename):\n",
    "        with open(filename, 'r') as f:\n",
    "            return json.load(f)\n",
    "    return None"
   ]
  },
  {
   "cell_type": "code",
   "execution_count": 15,
   "id": "0d89974b-294d-4479-9062-6ea60e1fb17f",
   "metadata": {},
   "outputs": [],
   "source": [
    "def get_nested(dictionary, keys, default=None):\n",
    "    \"\"\"Safely retrieves a nested value from a dictionary given a list of keys.\"\"\"\n",
    "    for key in keys:\n",
    "        dictionary = dictionary.get(key) if dictionary is not None else None\n",
    "        if dictionary is None:\n",
    "            return default\n",
    "    return dictionary"
   ]
  },
  {
   "cell_type": "code",
   "execution_count": 16,
   "id": "f195c4e1-5b5e-4f73-bb3a-ab10a992cfa5",
   "metadata": {},
   "outputs": [],
   "source": [
    "def format_game_data(game_info, game_name, app_id):\n",
    "    \"\"\"Formats and extracts the necessary fields from the game info data, including the appid, using safe dictionary access for top-level data and handling nested data where applicable.\"\"\"\n",
    "    data = game_info.get('data', {})\n",
    "    return {\n",
    "        \"name\": game_name,\n",
    "        \"appid\": app_id,\n",
    "        \"required_age\": data.get(\"required_age\", 0),\n",
    "        \"is_free\": data.get(\"is_free\", False),\n",
    "        \"detailed_description\": data.get(\"detailed_description\", \"\"),\n",
    "        \"supported_languages\": [lang.split('<')[0] for lang in data.get(\"supported_languages\", \"\").split(',')],\n",
    "        \"developers\": data.get(\"developers\", []),\n",
    "        \"publishers\": data.get(\"publishers\", []),\n",
    "        \"price\": 0 if data.get(\"is_free\", False) else get_nested(data, [\"price_overview\", \"final\"], 0) / 100,\n",
    "        \"platforms\": [key for key, value in data.get(\"platforms\", {}).items() if value],\n",
    "        \"metacritic_score\": get_nested(data, [\"metacritic\", \"score\"], None),\n",
    "        \"categories\": [category[\"description\"] for category in data.get(\"categories\", [])],\n",
    "        \"genres\": [genre[\"description\"] for genre in data.get(\"genres\", [])],\n",
    "        \"release_date\": get_nested(data, [\"release_date\", \"date\"], \"\"),\n",
    "        \"content_descriptors\": data.get(\"content_descriptors\", {}).get(\"notes\", \"\"),\n",
    "        \"usk_rating\": get_nested(data, [\"ratings\", \"usk\", \"rating\"], None),\n",
    "        \"number_of_reviews\": get_nested(data, [\"recommendations\", \"total\"], 0)  # Use get_nested to safely access nested data\n",
    "    }\n"
   ]
  },
  {
   "cell_type": "code",
   "execution_count": 17,
   "id": "6a9802e0-2a37-4d4f-95ab-03931058b050",
   "metadata": {},
   "outputs": [],
   "source": [
    "def fetch_recommendations(game_list):\n",
    "    \"\"\"Fetches information for each game in the list and updates the game dictionaries with the data.\"\"\"\n",
    "    base_url = \"https://store.steampowered.com/api/appdetails\"\n",
    "    games_details = []  # List to store all processed games details\n",
    "    processed_count = 0\n",
    "\n",
    "    while game_list:  # Process until the list is empty\n",
    "        game = game_list.pop(0)  # Remove and return the first game from the list\n",
    "        app_id = game['appid']\n",
    "        \n",
    "        # Construct the URL for the API request\n",
    "        params = {'appids': app_id}\n",
    "\n",
    "        # Make the API request\n",
    "        try:\n",
    "            response = requests.get(base_url, params=params)\n",
    "            response.raise_for_status()  # Raises an HTTPError for bad responses\n",
    "            data = response.json()\n",
    "            game_info = data[str(app_id)]\n",
    "            game_name = data.get('name')\n",
    "            if game_info['success']:\n",
    "                games_details.append(format_game_data(game_info, game_name, app_id))\n",
    "                processed_count += 1\n",
    "\n",
    "                if processed_count % 10 == 0:\n",
    "                    print(f\"Processed {processed_count} games so far.\")\n",
    "\n",
    "        except requests.RequestException as e:\n",
    "            print(f\"Failed to fetch data for {game_name}: {str(e)}\")\n",
    "            exit()\n",
    "\n",
    "        # Save progress periodically to avoid data loss\n",
    "        if processed_count % 10 == 0:\n",
    "            save_progress(game_list, games_details)\n",
    "            time.sleep(10)\n",
    "\n",
    "    # Save final progress\n",
    "    save_progress(game_list, games_details)"
   ]
  },
  {
   "cell_type": "code",
   "execution_count": 18,
   "id": "e8e3895d-06ab-414f-acb6-3b61af07a1a2",
   "metadata": {},
   "outputs": [],
   "source": [
    "topseller = pl.read_json('data/SteamTopSellers.json').to_dicts()"
   ]
  },
  {
   "cell_type": "code",
   "execution_count": 19,
   "id": "eeae67b6-3464-487c-8735-66cab6ce91dc",
   "metadata": {},
   "outputs": [
    {
     "name": "stdout",
     "output_type": "stream",
     "text": [
      "Processed 10 games so far.\n",
      "Processed 20 games so far.\n",
      "Processed 30 games so far.\n",
      "Processed 40 games so far.\n",
      "Processed 50 games so far.\n",
      "Processed 60 games so far.\n",
      "Processed 70 games so far.\n",
      "Processed 80 games so far.\n",
      "Processed 90 games so far.\n",
      "Processed 100 games so far.\n",
      "Processed 110 games so far.\n",
      "Processed 120 games so far.\n",
      "Processed 130 games so far.\n",
      "Processed 140 games so far.\n",
      "Processed 150 games so far.\n",
      "Processed 160 games so far.\n",
      "Processed 170 games so far.\n",
      "Processed 180 games so far.\n",
      "Processed 190 games so far.\n",
      "Processed 200 games so far.\n",
      "Failed to fetch data for None: 429 Client Error: Too Many Requests for url: https://store.steampowered.com/api/appdetails?appids=553540\n",
      "Failed to fetch data for None: 429 Client Error: Too Many Requests for url: https://store.steampowered.com/api/appdetails?appids=1443200\n",
      "Failed to fetch data for None: 429 Client Error: Too Many Requests for url: https://store.steampowered.com/api/appdetails?appids=814540\n",
      "Failed to fetch data for None: 429 Client Error: Too Many Requests for url: https://store.steampowered.com/api/appdetails?appids=202970\n",
      "Failed to fetch data for None: 429 Client Error: Too Many Requests for url: https://store.steampowered.com/api/appdetails?appids=303210\n",
      "Failed to fetch data for None: 429 Client Error: Too Many Requests for url: https://store.steampowered.com/api/appdetails?appids=2114300\n",
      "Failed to fetch data for None: 429 Client Error: Too Many Requests for url: https://store.steampowered.com/api/appdetails?appids=245620\n",
      "Failed to fetch data for None: 429 Client Error: Too Many Requests for url: https://store.steampowered.com/api/appdetails?appids=1497360\n",
      "Failed to fetch data for None: 429 Client Error: Too Many Requests for url: https://store.steampowered.com/api/appdetails?appids=2002570\n",
      "Failed to fetch data for None: 429 Client Error: Too Many Requests for url: https://store.steampowered.com/api/appdetails?appids=824270\n",
      "Failed to fetch data for None: 429 Client Error: Too Many Requests for url: https://store.steampowered.com/api/appdetails?appids=2120900\n",
      "Failed to fetch data for None: 429 Client Error: Too Many Requests for url: https://store.steampowered.com/api/appdetails?appids=1571440\n",
      "Failed to fetch data for None: 429 Client Error: Too Many Requests for url: https://store.steampowered.com/api/appdetails?appids=1251930\n",
      "Failed to fetch data for None: 429 Client Error: Too Many Requests for url: https://store.steampowered.com/api/appdetails?appids=1397920\n",
      "Failed to fetch data for None: 429 Client Error: Too Many Requests for url: https://store.steampowered.com/api/appdetails?appids=240\n",
      "Failed to fetch data for None: 429 Client Error: Too Many Requests for url: https://store.steampowered.com/api/appdetails?appids=1230530\n",
      "Failed to fetch data for None: 429 Client Error: Too Many Requests for url: https://store.steampowered.com/api/appdetails?appids=1272320\n",
      "Failed to fetch data for None: 429 Client Error: Too Many Requests for url: https://store.steampowered.com/api/appdetails?appids=618850\n",
      "Failed to fetch data for None: 429 Client Error: Too Many Requests for url: https://store.steampowered.com/api/appdetails?appids=613880\n",
      "Failed to fetch data for None: 429 Client Error: Too Many Requests for url: https://store.steampowered.com/api/appdetails?appids=215280\n",
      "Failed to fetch data for None: 429 Client Error: Too Many Requests for url: https://store.steampowered.com/api/appdetails?appids=1481080\n",
      "Failed to fetch data for None: 429 Client Error: Too Many Requests for url: https://store.steampowered.com/api/appdetails?appids=821880\n",
      "Failed to fetch data for None: 429 Client Error: Too Many Requests for url: https://store.steampowered.com/api/appdetails?appids=1032430\n",
      "Failed to fetch data for None: 429 Client Error: Too Many Requests for url: https://store.steampowered.com/api/appdetails?appids=2628420\n",
      "Failed to fetch data for None: 429 Client Error: Too Many Requests for url: https://store.steampowered.com/api/appdetails?appids=1205970\n",
      "Failed to fetch data for None: 429 Client Error: Too Many Requests for url: https://store.steampowered.com/api/appdetails?appids=2495050\n",
      "Failed to fetch data for None: 429 Client Error: Too Many Requests for url: https://store.steampowered.com/api/appdetails?appids=544730\n",
      "Failed to fetch data for None: 429 Client Error: Too Many Requests for url: https://store.steampowered.com/api/appdetails?appids=489630\n",
      "Failed to fetch data for None: 429 Client Error: Too Many Requests for url: https://store.steampowered.com/api/appdetails?appids=1122690\n",
      "Failed to fetch data for None: 429 Client Error: Too Many Requests for url: https://store.steampowered.com/api/appdetails?appids=821250\n",
      "Failed to fetch data for None: 429 Client Error: Too Many Requests for url: https://store.steampowered.com/api/appdetails?appids=1403440\n",
      "Failed to fetch data for None: 429 Client Error: Too Many Requests for url: https://store.steampowered.com/api/appdetails?appids=1486630\n",
      "Failed to fetch data for None: 429 Client Error: Too Many Requests for url: https://store.steampowered.com/api/appdetails?appids=635940\n",
      "Failed to fetch data for None: 429 Client Error: Too Many Requests for url: https://store.steampowered.com/api/appdetails?appids=7520\n",
      "Failed to fetch data for None: 429 Client Error: Too Many Requests for url: https://store.steampowered.com/api/appdetails?appids=2067780\n",
      "Failed to fetch data for None: 429 Client Error: Too Many Requests for url: https://store.steampowered.com/api/appdetails?appids=1491670\n",
      "Failed to fetch data for None: 429 Client Error: Too Many Requests for url: https://store.steampowered.com/api/appdetails?appids=9350\n",
      "Failed to fetch data for None: 429 Client Error: Too Many Requests for url: https://store.steampowered.com/api/appdetails?appids=1931950\n",
      "Failed to fetch data for None: 429 Client Error: Too Many Requests for url: https://store.steampowered.com/api/appdetails?appids=1029630\n",
      "Failed to fetch data for None: 429 Client Error: Too Many Requests for url: https://store.steampowered.com/api/appdetails?appids=42700\n",
      "Failed to fetch data for None: 429 Client Error: Too Many Requests for url: https://store.steampowered.com/api/appdetails?appids=907650\n",
      "Failed to fetch data for None: 429 Client Error: Too Many Requests for url: https://store.steampowered.com/api/appdetails?appids=977950\n",
      "Failed to fetch data for None: 429 Client Error: Too Many Requests for url: https://store.steampowered.com/api/appdetails?appids=437920\n",
      "Failed to fetch data for None: 429 Client Error: Too Many Requests for url: https://store.steampowered.com/api/appdetails?appids=312660\n",
      "Failed to fetch data for None: 429 Client Error: Too Many Requests for url: https://store.steampowered.com/api/appdetails?appids=2180600\n",
      "Failed to fetch data for None: 429 Client Error: Too Many Requests for url: https://store.steampowered.com/api/appdetails?appids=1159420\n",
      "Failed to fetch data for None: 429 Client Error: Too Many Requests for url: https://store.steampowered.com/api/appdetails?appids=1419170\n",
      "Failed to fetch data for None: 429 Client Error: Too Many Requests for url: https://store.steampowered.com/api/appdetails?appids=893850\n",
      "Failed to fetch data for None: 429 Client Error: Too Many Requests for url: https://store.steampowered.com/api/appdetails?appids=12710\n",
      "Failed to fetch data for None: 429 Client Error: Too Many Requests for url: https://store.steampowered.com/api/appdetails?appids=1633370\n",
      "Failed to fetch data for None: 429 Client Error: Too Many Requests for url: https://store.steampowered.com/api/appdetails?appids=2131680\n",
      "Failed to fetch data for None: 429 Client Error: Too Many Requests for url: https://store.steampowered.com/api/appdetails?appids=482400\n",
      "Failed to fetch data for None: 429 Client Error: Too Many Requests for url: https://store.steampowered.com/api/appdetails?appids=848350\n",
      "Failed to fetch data for None: 429 Client Error: Too Many Requests for url: https://store.steampowered.com/api/appdetails?appids=1159420\n",
      "Failed to fetch data for None: 429 Client Error: Too Many Requests for url: https://store.steampowered.com/api/appdetails?appids=1333200\n",
      "Failed to fetch data for None: 429 Client Error: Too Many Requests for url: https://store.steampowered.com/api/appdetails?appids=1696810\n",
      "Failed to fetch data for None: 429 Client Error: Too Many Requests for url: https://store.steampowered.com/api/appdetails?appids=12710\n",
      "Failed to fetch data for None: 429 Client Error: Too Many Requests for url: https://store.steampowered.com/api/appdetails?appids=1227650\n",
      "Failed to fetch data for None: 429 Client Error: Too Many Requests for url: https://store.steampowered.com/api/appdetails?appids=2138710\n",
      "Failed to fetch data for None: 429 Client Error: Too Many Requests for url: https://store.steampowered.com/api/appdetails?appids=420440\n",
      "Failed to fetch data for None: 429 Client Error: Too Many Requests for url: https://store.steampowered.com/api/appdetails?appids=287450\n",
      "Failed to fetch data for None: 429 Client Error: Too Many Requests for url: https://store.steampowered.com/api/appdetails?appids=1410000\n",
      "Failed to fetch data for None: 429 Client Error: Too Many Requests for url: https://store.steampowered.com/api/appdetails?appids=1556200\n",
      "Failed to fetch data for None: 429 Client Error: Too Many Requests for url: https://store.steampowered.com/api/appdetails?appids=339230\n",
      "Failed to fetch data for None: 429 Client Error: Too Many Requests for url: https://store.steampowered.com/api/appdetails?appids=399810\n",
      "Failed to fetch data for None: 429 Client Error: Too Many Requests for url: https://store.steampowered.com/api/appdetails?appids=528230\n",
      "Failed to fetch data for None: 429 Client Error: Too Many Requests for url: https://store.steampowered.com/api/appdetails?appids=898590\n",
      "Failed to fetch data for None: 429 Client Error: Too Many Requests for url: https://store.steampowered.com/api/appdetails?appids=242860\n",
      "Failed to fetch data for None: 429 Client Error: Too Many Requests for url: https://store.steampowered.com/api/appdetails?appids=2460920\n",
      "Failed to fetch data for None: 429 Client Error: Too Many Requests for url: https://store.steampowered.com/api/appdetails?appids=2026000\n",
      "Failed to fetch data for None: 429 Client Error: Too Many Requests for url: https://store.steampowered.com/api/appdetails?appids=2237970\n",
      "Failed to fetch data for None: 429 Client Error: Too Many Requests for url: https://store.steampowered.com/api/appdetails?appids=285190\n",
      "Failed to fetch data for None: 429 Client Error: Too Many Requests for url: https://store.steampowered.com/api/appdetails?appids=10090\n",
      "Failed to fetch data for None: 429 Client Error: Too Many Requests for url: https://store.steampowered.com/api/appdetails?appids=1218210\n",
      "Failed to fetch data for None: 429 Client Error: Too Many Requests for url: https://store.steampowered.com/api/appdetails?appids=553540\n",
      "Failed to fetch data for None: 429 Client Error: Too Many Requests for url: https://store.steampowered.com/api/appdetails?appids=1584680\n",
      "Failed to fetch data for None: 429 Client Error: Too Many Requests for url: https://store.steampowered.com/api/appdetails?appids=310950\n",
      "Failed to fetch data for None: 429 Client Error: Too Many Requests for url: https://store.steampowered.com/api/appdetails?appids=1371720\n",
      "Failed to fetch data for None: 429 Client Error: Too Many Requests for url: https://store.steampowered.com/api/appdetails?appids=251150\n",
      "Failed to fetch data for None: 429 Client Error: Too Many Requests for url: https://store.steampowered.com/api/appdetails?appids=2216770\n",
      "Failed to fetch data for None: 429 Client Error: Too Many Requests for url: https://store.steampowered.com/api/appdetails?appids=2114300\n",
      "Failed to fetch data for None: 429 Client Error: Too Many Requests for url: https://store.steampowered.com/api/appdetails?appids=604540\n",
      "Failed to fetch data for None: 429 Client Error: Too Many Requests for url: https://store.steampowered.com/api/appdetails?appids=1622710\n",
      "Failed to fetch data for None: 429 Client Error: Too Many Requests for url: https://store.steampowered.com/api/appdetails?appids=502520\n",
      "Failed to fetch data for None: 429 Client Error: Too Many Requests for url: https://store.steampowered.com/api/appdetails?appids=17410\n",
      "Failed to fetch data for None: 429 Client Error: Too Many Requests for url: https://store.steampowered.com/api/appdetails?appids=1702140\n",
      "Failed to fetch data for None: 429 Client Error: Too Many Requests for url: https://store.steampowered.com/api/appdetails?appids=914750\n",
      "Failed to fetch data for None: 429 Client Error: Too Many Requests for url: https://store.steampowered.com/api/appdetails?appids=1251930\n",
      "Failed to fetch data for None: 429 Client Error: Too Many Requests for url: https://store.steampowered.com/api/appdetails?appids=609320\n",
      "Failed to fetch data for None: 429 Client Error: Too Many Requests for url: https://store.steampowered.com/api/appdetails?appids=1497360\n",
      "Failed to fetch data for None: 429 Client Error: Too Many Requests for url: https://store.steampowered.com/api/appdetails?appids=420110\n",
      "Failed to fetch data for None: 429 Client Error: Too Many Requests for url: https://store.steampowered.com/api/appdetails?appids=1353230\n",
      "Failed to fetch data for None: 429 Client Error: Too Many Requests for url: https://store.steampowered.com/api/appdetails?appids=2823080\n",
      "Failed to fetch data for None: 429 Client Error: Too Many Requests for url: https://store.steampowered.com/api/appdetails?appids=704030\n",
      "Failed to fetch data for None: 429 Client Error: Too Many Requests for url: https://store.steampowered.com/api/appdetails?appids=618850\n",
      "Failed to fetch data for None: 429 Client Error: Too Many Requests for url: https://store.steampowered.com/api/appdetails?appids=361420\n",
      "Failed to fetch data for None: 429 Client Error: Too Many Requests for url: https://store.steampowered.com/api/appdetails?appids=2120900\n",
      "Failed to fetch data for None: 429 Client Error: Too Many Requests for url: https://store.steampowered.com/api/appdetails?appids=967050\n",
      "Failed to fetch data for None: 429 Client Error: Too Many Requests for url: https://store.steampowered.com/api/appdetails?appids=297860\n",
      "Failed to fetch data for None: 429 Client Error: Too Many Requests for url: https://store.steampowered.com/api/appdetails?appids=1230530\n",
      "Failed to fetch data for None: 429 Client Error: Too Many Requests for url: https://store.steampowered.com/api/appdetails?appids=2231450\n",
      "Failed to fetch data for None: 429 Client Error: Too Many Requests for url: https://store.steampowered.com/api/appdetails?appids=362890\n",
      "Failed to fetch data for None: 429 Client Error: Too Many Requests for url: https://store.steampowered.com/api/appdetails?appids=2231450\n",
      "Failed to fetch data for None: 429 Client Error: Too Many Requests for url: https://store.steampowered.com/api/appdetails?appids=362890\n",
      "Failed to fetch data for None: 429 Client Error: Too Many Requests for url: https://store.steampowered.com/api/appdetails?appids=1369670\n",
      "Failed to fetch data for None: 429 Client Error: Too Many Requests for url: https://store.steampowered.com/api/appdetails?appids=1732420\n",
      "Failed to fetch data for None: 429 Client Error: Too Many Requests for url: https://store.steampowered.com/api/appdetails?appids=1360390\n",
      "Failed to fetch data for None: 429 Client Error: Too Many Requests for url: https://store.steampowered.com/api/appdetails?appids=866190\n",
      "Failed to fetch data for None: 429 Client Error: Too Many Requests for url: https://store.steampowered.com/api/appdetails?appids=1893810\n",
      "Failed to fetch data for None: 429 Client Error: Too Many Requests for url: https://store.steampowered.com/api/appdetails?appids=2394350\n",
      "Failed to fetch data for None: 429 Client Error: Too Many Requests for url: https://store.steampowered.com/api/appdetails?appids=1556100\n",
      "Failed to fetch data for None: 429 Client Error: Too Many Requests for url: https://store.steampowered.com/api/appdetails?appids=648410\n",
      "Failed to fetch data for None: 429 Client Error: Too Many Requests for url: https://store.steampowered.com/api/appdetails?appids=2027330\n",
      "Failed to fetch data for None: 429 Client Error: Too Many Requests for url: https://store.steampowered.com/api/appdetails?appids=1160920\n",
      "Failed to fetch data for None: 429 Client Error: Too Many Requests for url: https://store.steampowered.com/api/appdetails?appids=1016600\n",
      "Failed to fetch data for None: 429 Client Error: Too Many Requests for url: https://store.steampowered.com/api/appdetails?appids=1430760\n",
      "Failed to fetch data for None: 429 Client Error: Too Many Requests for url: https://store.steampowered.com/api/appdetails?appids=1644940\n",
      "Failed to fetch data for None: 429 Client Error: Too Many Requests for url: https://store.steampowered.com/api/appdetails?appids=1390350\n",
      "Failed to fetch data for None: 429 Client Error: Too Many Requests for url: https://store.steampowered.com/api/appdetails?appids=42910\n",
      "Failed to fetch data for None: 429 Client Error: Too Many Requests for url: https://store.steampowered.com/api/appdetails?appids=1669980\n",
      "Failed to fetch data for None: 429 Client Error: Too Many Requests for url: https://store.steampowered.com/api/appdetails?appids=2510720\n",
      "Failed to fetch data for None: 429 Client Error: Too Many Requests for url: https://store.steampowered.com/api/appdetails?appids=2077590\n",
      "Failed to fetch data for None: 429 Client Error: Too Many Requests for url: https://store.steampowered.com/api/appdetails?appids=1489410\n",
      "Failed to fetch data for None: 429 Client Error: Too Many Requests for url: https://store.steampowered.com/api/appdetails?appids=480490\n",
      "Failed to fetch data for None: 429 Client Error: Too Many Requests for url: https://store.steampowered.com/api/appdetails?appids=837470\n",
      "Failed to fetch data for None: 429 Client Error: Too Many Requests for url: https://store.steampowered.com/api/appdetails?appids=1203710\n",
      "Failed to fetch data for None: 429 Client Error: Too Many Requests for url: https://store.steampowered.com/api/appdetails?appids=860510\n",
      "Failed to fetch data for None: 429 Client Error: Too Many Requests for url: https://store.steampowered.com/api/appdetails?appids=8000\n",
      "Failed to fetch data for None: 429 Client Error: Too Many Requests for url: https://store.steampowered.com/api/appdetails?appids=397900\n",
      "Failed to fetch data for None: 429 Client Error: Too Many Requests for url: https://store.steampowered.com/api/appdetails?appids=1679510\n",
      "Failed to fetch data for None: 429 Client Error: Too Many Requests for url: https://store.steampowered.com/api/appdetails?appids=960170\n",
      "Failed to fetch data for None: 429 Client Error: Too Many Requests for url: https://store.steampowered.com/api/appdetails?appids=310060\n",
      "Failed to fetch data for None: 429 Client Error: Too Many Requests for url: https://store.steampowered.com/api/appdetails?appids=254700\n",
      "Failed to fetch data for None: 429 Client Error: Too Many Requests for url: https://store.steampowered.com/api/appdetails?appids=16900\n",
      "Failed to fetch data for None: 429 Client Error: Too Many Requests for url: https://store.steampowered.com/api/appdetails?appids=1705180\n",
      "Failed to fetch data for None: 429 Client Error: Too Many Requests for url: https://store.steampowered.com/api/appdetails?appids=1139900\n",
      "Failed to fetch data for None: 429 Client Error: Too Many Requests for url: https://store.steampowered.com/api/appdetails?appids=895870\n",
      "Failed to fetch data for None: 429 Client Error: Too Many Requests for url: https://store.steampowered.com/api/appdetails?appids=1676840\n",
      "Failed to fetch data for None: 429 Client Error: Too Many Requests for url: https://store.steampowered.com/api/appdetails?appids=780290\n",
      "Failed to fetch data for None: 429 Client Error: Too Many Requests for url: https://store.steampowered.com/api/appdetails?appids=1571100\n",
      "Failed to fetch data for None: 429 Client Error: Too Many Requests for url: https://store.steampowered.com/api/appdetails?appids=884660\n",
      "Failed to fetch data for None: 429 Client Error: Too Many Requests for url: https://store.steampowered.com/api/appdetails?appids=1071870\n",
      "Failed to fetch data for None: 429 Client Error: Too Many Requests for url: https://store.steampowered.com/api/appdetails?appids=816340\n",
      "Failed to fetch data for None: 429 Client Error: Too Many Requests for url: https://store.steampowered.com/api/appdetails?appids=861540\n",
      "Failed to fetch data for None: 429 Client Error: Too Many Requests for url: https://store.steampowered.com/api/appdetails?appids=562860\n",
      "Failed to fetch data for None: 429 Client Error: Too Many Requests for url: https://store.steampowered.com/api/appdetails?appids=324080\n",
      "Failed to fetch data for None: 429 Client Error: Too Many Requests for url: https://store.steampowered.com/api/appdetails?appids=1519490\n",
      "Failed to fetch data for None: 429 Client Error: Too Many Requests for url: https://store.steampowered.com/api/appdetails?appids=1641700\n",
      "Failed to fetch data for None: 429 Client Error: Too Many Requests for url: https://store.steampowered.com/api/appdetails?appids=471660\n",
      "Failed to fetch data for None: 429 Client Error: Too Many Requests for url: https://store.steampowered.com/api/appdetails?appids=1057640\n",
      "Failed to fetch data for None: 429 Client Error: Too Many Requests for url: https://store.steampowered.com/api/appdetails?appids=590380\n",
      "Failed to fetch data for None: 429 Client Error: Too Many Requests for url: https://store.steampowered.com/api/appdetails?appids=814370\n",
      "Failed to fetch data for None: 429 Client Error: Too Many Requests for url: https://store.steampowered.com/api/appdetails?appids=1276390\n",
      "Failed to fetch data for None: 429 Client Error: Too Many Requests for url: https://store.steampowered.com/api/appdetails?appids=1225580\n",
      "Failed to fetch data for None: 429 Client Error: Too Many Requests for url: https://store.steampowered.com/api/appdetails?appids=219780\n",
      "Failed to fetch data for None: 429 Client Error: Too Many Requests for url: https://store.steampowered.com/api/appdetails?appids=572410\n",
      "Failed to fetch data for None: 429 Client Error: Too Many Requests for url: https://store.steampowered.com/api/appdetails?appids=771580\n",
      "Failed to fetch data for None: 429 Client Error: Too Many Requests for url: https://store.steampowered.com/api/appdetails?appids=551170\n",
      "Failed to fetch data for None: 429 Client Error: Too Many Requests for url: https://store.steampowered.com/api/appdetails?appids=846470\n",
      "Failed to fetch data for None: 429 Client Error: Too Many Requests for url: https://store.steampowered.com/api/appdetails?appids=359510\n",
      "Failed to fetch data for None: 429 Client Error: Too Many Requests for url: https://store.steampowered.com/api/appdetails?appids=1411740\n",
      "Failed to fetch data for None: 429 Client Error: Too Many Requests for url: https://store.steampowered.com/api/appdetails?appids=477160\n",
      "Failed to fetch data for None: 429 Client Error: Too Many Requests for url: https://store.steampowered.com/api/appdetails?appids=105450\n",
      "Failed to fetch data for None: 429 Client Error: Too Many Requests for url: https://store.steampowered.com/api/appdetails?appids=1544020\n",
      "Failed to fetch data for None: 429 Client Error: Too Many Requests for url: https://store.steampowered.com/api/appdetails?appids=1286710\n",
      "Failed to fetch data for None: 429 Client Error: Too Many Requests for url: https://store.steampowered.com/api/appdetails?appids=2075720\n",
      "Failed to fetch data for None: 429 Client Error: Too Many Requests for url: https://store.steampowered.com/api/appdetails?appids=2236070\n",
      "Failed to fetch data for None: 429 Client Error: Too Many Requests for url: https://store.steampowered.com/api/appdetails?appids=1309950\n",
      "Failed to fetch data for None: 429 Client Error: Too Many Requests for url: https://store.steampowered.com/api/appdetails?appids=377900\n",
      "Failed to fetch data for None: 429 Client Error: Too Many Requests for url: https://store.steampowered.com/api/appdetails?appids=1191580\n",
      "Failed to fetch data for None: 429 Client Error: Too Many Requests for url: https://store.steampowered.com/api/appdetails?appids=287980\n",
      "Failed to fetch data for None: 429 Client Error: Too Many Requests for url: https://store.steampowered.com/api/appdetails?appids=792300\n",
      "Failed to fetch data for None: 429 Client Error: Too Many Requests for url: https://store.steampowered.com/api/appdetails?appids=1504500\n",
      "Failed to fetch data for None: 429 Client Error: Too Many Requests for url: https://store.steampowered.com/api/appdetails?appids=2529170\n",
      "Failed to fetch data for None: 429 Client Error: Too Many Requests for url: https://store.steampowered.com/api/appdetails?appids=2562730\n",
      "Failed to fetch data for None: 429 Client Error: Too Many Requests for url: https://store.steampowered.com/api/appdetails?appids=8140\n",
      "Failed to fetch data for None: 429 Client Error: Too Many Requests for url: https://store.steampowered.com/api/appdetails?appids=1573280\n",
      "Failed to fetch data for None: 429 Client Error: Too Many Requests for url: https://store.steampowered.com/api/appdetails?appids=1147330\n",
      "Failed to fetch data for None: 429 Client Error: Too Many Requests for url: https://store.steampowered.com/api/appdetails?appids=1709730\n",
      "Failed to fetch data for None: 429 Client Error: Too Many Requests for url: https://store.steampowered.com/api/appdetails?appids=1265820\n",
      "Failed to fetch data for None: 429 Client Error: Too Many Requests for url: https://store.steampowered.com/api/appdetails?appids=2059670\n",
      "Failed to fetch data for None: 429 Client Error: Too Many Requests for url: https://store.steampowered.com/api/appdetails?appids=381990\n",
      "Failed to fetch data for None: 429 Client Error: Too Many Requests for url: https://store.steampowered.com/api/appdetails?appids=531510\n",
      "Failed to fetch data for None: 429 Client Error: Too Many Requests for url: https://store.steampowered.com/api/appdetails?appids=1490340\n",
      "Failed to fetch data for None: 429 Client Error: Too Many Requests for url: https://store.steampowered.com/api/appdetails?appids=604540\n",
      "Failed to fetch data for None: 429 Client Error: Too Many Requests for url: https://store.steampowered.com/api/appdetails?appids=2104880\n",
      "Failed to fetch data for None: 429 Client Error: Too Many Requests for url: https://store.steampowered.com/api/appdetails?appids=2121980\n",
      "Failed to fetch data for None: 429 Client Error: Too Many Requests for url: https://store.steampowered.com/api/appdetails?appids=2101890\n",
      "Failed to fetch data for None: 429 Client Error: Too Many Requests for url: https://store.steampowered.com/api/appdetails?appids=493490\n",
      "Failed to fetch data for None: 429 Client Error: Too Many Requests for url: https://store.steampowered.com/api/appdetails?appids=1735700\n",
      "Failed to fetch data for None: 429 Client Error: Too Many Requests for url: https://store.steampowered.com/api/appdetails?appids=253880\n",
      "Failed to fetch data for None: 429 Client Error: Too Many Requests for url: https://store.steampowered.com/api/appdetails?appids=2453360\n",
      "Failed to fetch data for None: 429 Client Error: Too Many Requests for url: https://store.steampowered.com/api/appdetails?appids=1022450\n",
      "Failed to fetch data for None: 429 Client Error: Too Many Requests for url: https://store.steampowered.com/api/appdetails?appids=2141730\n",
      "Failed to fetch data for None: 429 Client Error: Too Many Requests for url: https://store.steampowered.com/api/appdetails?appids=1988550\n",
      "Failed to fetch data for None: 429 Client Error: Too Many Requests for url: https://store.steampowered.com/api/appdetails?appids=2187290\n",
      "Failed to fetch data for None: 429 Client Error: Too Many Requests for url: https://store.steampowered.com/api/appdetails?appids=2800770\n",
      "Failed to fetch data for None: 429 Client Error: Too Many Requests for url: https://store.steampowered.com/api/appdetails?appids=742420\n",
      "Processed 210 games so far.\n",
      "Processed 220 games so far.\n",
      "Processed 230 games so far.\n",
      "Processed 240 games so far.\n",
      "Processed 250 games so far.\n",
      "Processed 260 games so far.\n",
      "Processed 270 games so far.\n",
      "Processed 280 games so far.\n",
      "Processed 290 games so far.\n",
      "Processed 300 games so far.\n",
      "Processed 310 games so far.\n",
      "Processed 320 games so far.\n",
      "Processed 330 games so far.\n",
      "Processed 340 games so far.\n",
      "Processed 350 games so far.\n",
      "Processed 360 games so far.\n",
      "Processed 370 games so far.\n",
      "Processed 380 games so far.\n",
      "Processed 390 games so far.\n",
      "Processed 400 games so far.\n",
      "Failed to fetch data for None: 429 Client Error: Too Many Requests for url: https://store.steampowered.com/api/appdetails?appids=1114950\n",
      "Failed to fetch data for None: 429 Client Error: Too Many Requests for url: https://store.steampowered.com/api/appdetails?appids=420530\n",
      "Failed to fetch data for None: 429 Client Error: Too Many Requests for url: https://store.steampowered.com/api/appdetails?appids=2701350\n",
      "Failed to fetch data for None: 429 Client Error: Too Many Requests for url: https://store.steampowered.com/api/appdetails?appids=331160\n",
      "Failed to fetch data for None: 429 Client Error: Too Many Requests for url: https://store.steampowered.com/api/appdetails?appids=2186700\n",
      "Failed to fetch data for None: 429 Client Error: Too Many Requests for url: https://store.steampowered.com/api/appdetails?appids=230190\n",
      "Failed to fetch data for None: 429 Client Error: Too Many Requests for url: https://store.steampowered.com/api/appdetails?appids=1603640\n",
      "Failed to fetch data for None: 429 Client Error: Too Many Requests for url: https://store.steampowered.com/api/appdetails?appids=528550\n",
      "Failed to fetch data for None: 429 Client Error: Too Many Requests for url: https://store.steampowered.com/api/appdetails?appids=677340\n",
      "Failed to fetch data for None: 429 Client Error: Too Many Requests for url: https://store.steampowered.com/api/appdetails?appids=1859290\n",
      "Failed to fetch data for None: 429 Client Error: Too Many Requests for url: https://store.steampowered.com/api/appdetails?appids=768520\n",
      "Failed to fetch data for None: 429 Client Error: Too Many Requests for url: https://store.steampowered.com/api/appdetails?appids=1182310\n",
      "Failed to fetch data for None: 429 Client Error: Too Many Requests for url: https://store.steampowered.com/api/appdetails?appids=782660\n",
      "Failed to fetch data for None: 429 Client Error: Too Many Requests for url: https://store.steampowered.com/api/appdetails?appids=2209680\n"
     ]
    },
    {
     "ename": "KeyboardInterrupt",
     "evalue": "",
     "output_type": "error",
     "traceback": [
      "\u001b[1;31m---------------------------------------------------------------------------\u001b[0m",
      "\u001b[1;31mKeyboardInterrupt\u001b[0m                         Traceback (most recent call last)",
      "Cell \u001b[1;32mIn[19], line 12\u001b[0m\n\u001b[0;32m      9\u001b[0m     processed_games \u001b[38;5;241m=\u001b[39m []\n\u001b[0;32m     11\u001b[0m \u001b[38;5;66;03m# Begin fetching additional data\u001b[39;00m\n\u001b[1;32m---> 12\u001b[0m \u001b[43mfetch_recommendations\u001b[49m\u001b[43m(\u001b[49m\u001b[43mgame_list\u001b[49m\u001b[43m)\u001b[49m\n",
      "Cell \u001b[1;32mIn[17], line 16\u001b[0m, in \u001b[0;36mfetch_recommendations\u001b[1;34m(game_list)\u001b[0m\n\u001b[0;32m     14\u001b[0m \u001b[38;5;66;03m# Make the API request\u001b[39;00m\n\u001b[0;32m     15\u001b[0m \u001b[38;5;28;01mtry\u001b[39;00m:\n\u001b[1;32m---> 16\u001b[0m     response \u001b[38;5;241m=\u001b[39m \u001b[43mrequests\u001b[49m\u001b[38;5;241;43m.\u001b[39;49m\u001b[43mget\u001b[49m\u001b[43m(\u001b[49m\u001b[43mbase_url\u001b[49m\u001b[43m,\u001b[49m\u001b[43m \u001b[49m\u001b[43mparams\u001b[49m\u001b[38;5;241;43m=\u001b[39;49m\u001b[43mparams\u001b[49m\u001b[43m)\u001b[49m\n\u001b[0;32m     17\u001b[0m     response\u001b[38;5;241m.\u001b[39mraise_for_status()  \u001b[38;5;66;03m# Raises an HTTPError for bad responses\u001b[39;00m\n\u001b[0;32m     18\u001b[0m     data \u001b[38;5;241m=\u001b[39m response\u001b[38;5;241m.\u001b[39mjson()\n",
      "File \u001b[1;32mc:\\Users\\ivano\\AppData\\Local\\Programs\\Python\\Python312\\Lib\\site-packages\\requests\\api.py:73\u001b[0m, in \u001b[0;36mget\u001b[1;34m(url, params, **kwargs)\u001b[0m\n\u001b[0;32m     62\u001b[0m \u001b[38;5;28;01mdef\u001b[39;00m \u001b[38;5;21mget\u001b[39m(url, params\u001b[38;5;241m=\u001b[39m\u001b[38;5;28;01mNone\u001b[39;00m, \u001b[38;5;241m*\u001b[39m\u001b[38;5;241m*\u001b[39mkwargs):\n\u001b[0;32m     63\u001b[0m \u001b[38;5;250m    \u001b[39m\u001b[38;5;124mr\u001b[39m\u001b[38;5;124;03m\"\"\"Sends a GET request.\u001b[39;00m\n\u001b[0;32m     64\u001b[0m \n\u001b[0;32m     65\u001b[0m \u001b[38;5;124;03m    :param url: URL for the new :class:`Request` object.\u001b[39;00m\n\u001b[1;32m   (...)\u001b[0m\n\u001b[0;32m     70\u001b[0m \u001b[38;5;124;03m    :rtype: requests.Response\u001b[39;00m\n\u001b[0;32m     71\u001b[0m \u001b[38;5;124;03m    \"\"\"\u001b[39;00m\n\u001b[1;32m---> 73\u001b[0m     \u001b[38;5;28;01mreturn\u001b[39;00m \u001b[43mrequest\u001b[49m\u001b[43m(\u001b[49m\u001b[38;5;124;43m\"\u001b[39;49m\u001b[38;5;124;43mget\u001b[39;49m\u001b[38;5;124;43m\"\u001b[39;49m\u001b[43m,\u001b[49m\u001b[43m \u001b[49m\u001b[43murl\u001b[49m\u001b[43m,\u001b[49m\u001b[43m \u001b[49m\u001b[43mparams\u001b[49m\u001b[38;5;241;43m=\u001b[39;49m\u001b[43mparams\u001b[49m\u001b[43m,\u001b[49m\u001b[43m \u001b[49m\u001b[38;5;241;43m*\u001b[39;49m\u001b[38;5;241;43m*\u001b[39;49m\u001b[43mkwargs\u001b[49m\u001b[43m)\u001b[49m\n",
      "File \u001b[1;32mc:\\Users\\ivano\\AppData\\Local\\Programs\\Python\\Python312\\Lib\\site-packages\\requests\\api.py:59\u001b[0m, in \u001b[0;36mrequest\u001b[1;34m(method, url, **kwargs)\u001b[0m\n\u001b[0;32m     55\u001b[0m \u001b[38;5;66;03m# By using the 'with' statement we are sure the session is closed, thus we\u001b[39;00m\n\u001b[0;32m     56\u001b[0m \u001b[38;5;66;03m# avoid leaving sockets open which can trigger a ResourceWarning in some\u001b[39;00m\n\u001b[0;32m     57\u001b[0m \u001b[38;5;66;03m# cases, and look like a memory leak in others.\u001b[39;00m\n\u001b[0;32m     58\u001b[0m \u001b[38;5;28;01mwith\u001b[39;00m sessions\u001b[38;5;241m.\u001b[39mSession() \u001b[38;5;28;01mas\u001b[39;00m session:\n\u001b[1;32m---> 59\u001b[0m     \u001b[38;5;28;01mreturn\u001b[39;00m \u001b[43msession\u001b[49m\u001b[38;5;241;43m.\u001b[39;49m\u001b[43mrequest\u001b[49m\u001b[43m(\u001b[49m\u001b[43mmethod\u001b[49m\u001b[38;5;241;43m=\u001b[39;49m\u001b[43mmethod\u001b[49m\u001b[43m,\u001b[49m\u001b[43m \u001b[49m\u001b[43murl\u001b[49m\u001b[38;5;241;43m=\u001b[39;49m\u001b[43murl\u001b[49m\u001b[43m,\u001b[49m\u001b[43m \u001b[49m\u001b[38;5;241;43m*\u001b[39;49m\u001b[38;5;241;43m*\u001b[39;49m\u001b[43mkwargs\u001b[49m\u001b[43m)\u001b[49m\n",
      "File \u001b[1;32mc:\\Users\\ivano\\AppData\\Local\\Programs\\Python\\Python312\\Lib\\site-packages\\requests\\sessions.py:589\u001b[0m, in \u001b[0;36mSession.request\u001b[1;34m(self, method, url, params, data, headers, cookies, files, auth, timeout, allow_redirects, proxies, hooks, stream, verify, cert, json)\u001b[0m\n\u001b[0;32m    584\u001b[0m send_kwargs \u001b[38;5;241m=\u001b[39m {\n\u001b[0;32m    585\u001b[0m     \u001b[38;5;124m\"\u001b[39m\u001b[38;5;124mtimeout\u001b[39m\u001b[38;5;124m\"\u001b[39m: timeout,\n\u001b[0;32m    586\u001b[0m     \u001b[38;5;124m\"\u001b[39m\u001b[38;5;124mallow_redirects\u001b[39m\u001b[38;5;124m\"\u001b[39m: allow_redirects,\n\u001b[0;32m    587\u001b[0m }\n\u001b[0;32m    588\u001b[0m send_kwargs\u001b[38;5;241m.\u001b[39mupdate(settings)\n\u001b[1;32m--> 589\u001b[0m resp \u001b[38;5;241m=\u001b[39m \u001b[38;5;28;43mself\u001b[39;49m\u001b[38;5;241;43m.\u001b[39;49m\u001b[43msend\u001b[49m\u001b[43m(\u001b[49m\u001b[43mprep\u001b[49m\u001b[43m,\u001b[49m\u001b[43m \u001b[49m\u001b[38;5;241;43m*\u001b[39;49m\u001b[38;5;241;43m*\u001b[39;49m\u001b[43msend_kwargs\u001b[49m\u001b[43m)\u001b[49m\n\u001b[0;32m    591\u001b[0m \u001b[38;5;28;01mreturn\u001b[39;00m resp\n",
      "File \u001b[1;32mc:\\Users\\ivano\\AppData\\Local\\Programs\\Python\\Python312\\Lib\\site-packages\\requests\\sessions.py:703\u001b[0m, in \u001b[0;36mSession.send\u001b[1;34m(self, request, **kwargs)\u001b[0m\n\u001b[0;32m    700\u001b[0m start \u001b[38;5;241m=\u001b[39m preferred_clock()\n\u001b[0;32m    702\u001b[0m \u001b[38;5;66;03m# Send the request\u001b[39;00m\n\u001b[1;32m--> 703\u001b[0m r \u001b[38;5;241m=\u001b[39m \u001b[43madapter\u001b[49m\u001b[38;5;241;43m.\u001b[39;49m\u001b[43msend\u001b[49m\u001b[43m(\u001b[49m\u001b[43mrequest\u001b[49m\u001b[43m,\u001b[49m\u001b[43m \u001b[49m\u001b[38;5;241;43m*\u001b[39;49m\u001b[38;5;241;43m*\u001b[39;49m\u001b[43mkwargs\u001b[49m\u001b[43m)\u001b[49m\n\u001b[0;32m    705\u001b[0m \u001b[38;5;66;03m# Total elapsed time of the request (approximately)\u001b[39;00m\n\u001b[0;32m    706\u001b[0m elapsed \u001b[38;5;241m=\u001b[39m preferred_clock() \u001b[38;5;241m-\u001b[39m start\n",
      "File \u001b[1;32mc:\\Users\\ivano\\AppData\\Local\\Programs\\Python\\Python312\\Lib\\site-packages\\requests\\adapters.py:486\u001b[0m, in \u001b[0;36mHTTPAdapter.send\u001b[1;34m(self, request, stream, timeout, verify, cert, proxies)\u001b[0m\n\u001b[0;32m    483\u001b[0m     timeout \u001b[38;5;241m=\u001b[39m TimeoutSauce(connect\u001b[38;5;241m=\u001b[39mtimeout, read\u001b[38;5;241m=\u001b[39mtimeout)\n\u001b[0;32m    485\u001b[0m \u001b[38;5;28;01mtry\u001b[39;00m:\n\u001b[1;32m--> 486\u001b[0m     resp \u001b[38;5;241m=\u001b[39m \u001b[43mconn\u001b[49m\u001b[38;5;241;43m.\u001b[39;49m\u001b[43murlopen\u001b[49m\u001b[43m(\u001b[49m\n\u001b[0;32m    487\u001b[0m \u001b[43m        \u001b[49m\u001b[43mmethod\u001b[49m\u001b[38;5;241;43m=\u001b[39;49m\u001b[43mrequest\u001b[49m\u001b[38;5;241;43m.\u001b[39;49m\u001b[43mmethod\u001b[49m\u001b[43m,\u001b[49m\n\u001b[0;32m    488\u001b[0m \u001b[43m        \u001b[49m\u001b[43murl\u001b[49m\u001b[38;5;241;43m=\u001b[39;49m\u001b[43murl\u001b[49m\u001b[43m,\u001b[49m\n\u001b[0;32m    489\u001b[0m \u001b[43m        \u001b[49m\u001b[43mbody\u001b[49m\u001b[38;5;241;43m=\u001b[39;49m\u001b[43mrequest\u001b[49m\u001b[38;5;241;43m.\u001b[39;49m\u001b[43mbody\u001b[49m\u001b[43m,\u001b[49m\n\u001b[0;32m    490\u001b[0m \u001b[43m        \u001b[49m\u001b[43mheaders\u001b[49m\u001b[38;5;241;43m=\u001b[39;49m\u001b[43mrequest\u001b[49m\u001b[38;5;241;43m.\u001b[39;49m\u001b[43mheaders\u001b[49m\u001b[43m,\u001b[49m\n\u001b[0;32m    491\u001b[0m \u001b[43m        \u001b[49m\u001b[43mredirect\u001b[49m\u001b[38;5;241;43m=\u001b[39;49m\u001b[38;5;28;43;01mFalse\u001b[39;49;00m\u001b[43m,\u001b[49m\n\u001b[0;32m    492\u001b[0m \u001b[43m        \u001b[49m\u001b[43massert_same_host\u001b[49m\u001b[38;5;241;43m=\u001b[39;49m\u001b[38;5;28;43;01mFalse\u001b[39;49;00m\u001b[43m,\u001b[49m\n\u001b[0;32m    493\u001b[0m \u001b[43m        \u001b[49m\u001b[43mpreload_content\u001b[49m\u001b[38;5;241;43m=\u001b[39;49m\u001b[38;5;28;43;01mFalse\u001b[39;49;00m\u001b[43m,\u001b[49m\n\u001b[0;32m    494\u001b[0m \u001b[43m        \u001b[49m\u001b[43mdecode_content\u001b[49m\u001b[38;5;241;43m=\u001b[39;49m\u001b[38;5;28;43;01mFalse\u001b[39;49;00m\u001b[43m,\u001b[49m\n\u001b[0;32m    495\u001b[0m \u001b[43m        \u001b[49m\u001b[43mretries\u001b[49m\u001b[38;5;241;43m=\u001b[39;49m\u001b[38;5;28;43mself\u001b[39;49m\u001b[38;5;241;43m.\u001b[39;49m\u001b[43mmax_retries\u001b[49m\u001b[43m,\u001b[49m\n\u001b[0;32m    496\u001b[0m \u001b[43m        \u001b[49m\u001b[43mtimeout\u001b[49m\u001b[38;5;241;43m=\u001b[39;49m\u001b[43mtimeout\u001b[49m\u001b[43m,\u001b[49m\n\u001b[0;32m    497\u001b[0m \u001b[43m        \u001b[49m\u001b[43mchunked\u001b[49m\u001b[38;5;241;43m=\u001b[39;49m\u001b[43mchunked\u001b[49m\u001b[43m,\u001b[49m\n\u001b[0;32m    498\u001b[0m \u001b[43m    \u001b[49m\u001b[43m)\u001b[49m\n\u001b[0;32m    500\u001b[0m \u001b[38;5;28;01mexcept\u001b[39;00m (ProtocolError, \u001b[38;5;167;01mOSError\u001b[39;00m) \u001b[38;5;28;01mas\u001b[39;00m err:\n\u001b[0;32m    501\u001b[0m     \u001b[38;5;28;01mraise\u001b[39;00m \u001b[38;5;167;01mConnectionError\u001b[39;00m(err, request\u001b[38;5;241m=\u001b[39mrequest)\n",
      "File \u001b[1;32mc:\\Users\\ivano\\AppData\\Local\\Programs\\Python\\Python312\\Lib\\site-packages\\urllib3\\connectionpool.py:793\u001b[0m, in \u001b[0;36mHTTPConnectionPool.urlopen\u001b[1;34m(self, method, url, body, headers, retries, redirect, assert_same_host, timeout, pool_timeout, release_conn, chunked, body_pos, preload_content, decode_content, **response_kw)\u001b[0m\n\u001b[0;32m    790\u001b[0m response_conn \u001b[38;5;241m=\u001b[39m conn \u001b[38;5;28;01mif\u001b[39;00m \u001b[38;5;129;01mnot\u001b[39;00m release_conn \u001b[38;5;28;01melse\u001b[39;00m \u001b[38;5;28;01mNone\u001b[39;00m\n\u001b[0;32m    792\u001b[0m \u001b[38;5;66;03m# Make the request on the HTTPConnection object\u001b[39;00m\n\u001b[1;32m--> 793\u001b[0m response \u001b[38;5;241m=\u001b[39m \u001b[38;5;28;43mself\u001b[39;49m\u001b[38;5;241;43m.\u001b[39;49m\u001b[43m_make_request\u001b[49m\u001b[43m(\u001b[49m\n\u001b[0;32m    794\u001b[0m \u001b[43m    \u001b[49m\u001b[43mconn\u001b[49m\u001b[43m,\u001b[49m\n\u001b[0;32m    795\u001b[0m \u001b[43m    \u001b[49m\u001b[43mmethod\u001b[49m\u001b[43m,\u001b[49m\n\u001b[0;32m    796\u001b[0m \u001b[43m    \u001b[49m\u001b[43murl\u001b[49m\u001b[43m,\u001b[49m\n\u001b[0;32m    797\u001b[0m \u001b[43m    \u001b[49m\u001b[43mtimeout\u001b[49m\u001b[38;5;241;43m=\u001b[39;49m\u001b[43mtimeout_obj\u001b[49m\u001b[43m,\u001b[49m\n\u001b[0;32m    798\u001b[0m \u001b[43m    \u001b[49m\u001b[43mbody\u001b[49m\u001b[38;5;241;43m=\u001b[39;49m\u001b[43mbody\u001b[49m\u001b[43m,\u001b[49m\n\u001b[0;32m    799\u001b[0m \u001b[43m    \u001b[49m\u001b[43mheaders\u001b[49m\u001b[38;5;241;43m=\u001b[39;49m\u001b[43mheaders\u001b[49m\u001b[43m,\u001b[49m\n\u001b[0;32m    800\u001b[0m \u001b[43m    \u001b[49m\u001b[43mchunked\u001b[49m\u001b[38;5;241;43m=\u001b[39;49m\u001b[43mchunked\u001b[49m\u001b[43m,\u001b[49m\n\u001b[0;32m    801\u001b[0m \u001b[43m    \u001b[49m\u001b[43mretries\u001b[49m\u001b[38;5;241;43m=\u001b[39;49m\u001b[43mretries\u001b[49m\u001b[43m,\u001b[49m\n\u001b[0;32m    802\u001b[0m \u001b[43m    \u001b[49m\u001b[43mresponse_conn\u001b[49m\u001b[38;5;241;43m=\u001b[39;49m\u001b[43mresponse_conn\u001b[49m\u001b[43m,\u001b[49m\n\u001b[0;32m    803\u001b[0m \u001b[43m    \u001b[49m\u001b[43mpreload_content\u001b[49m\u001b[38;5;241;43m=\u001b[39;49m\u001b[43mpreload_content\u001b[49m\u001b[43m,\u001b[49m\n\u001b[0;32m    804\u001b[0m \u001b[43m    \u001b[49m\u001b[43mdecode_content\u001b[49m\u001b[38;5;241;43m=\u001b[39;49m\u001b[43mdecode_content\u001b[49m\u001b[43m,\u001b[49m\n\u001b[0;32m    805\u001b[0m \u001b[43m    \u001b[49m\u001b[38;5;241;43m*\u001b[39;49m\u001b[38;5;241;43m*\u001b[39;49m\u001b[43mresponse_kw\u001b[49m\u001b[43m,\u001b[49m\n\u001b[0;32m    806\u001b[0m \u001b[43m\u001b[49m\u001b[43m)\u001b[49m\n\u001b[0;32m    808\u001b[0m \u001b[38;5;66;03m# Everything went great!\u001b[39;00m\n\u001b[0;32m    809\u001b[0m clean_exit \u001b[38;5;241m=\u001b[39m \u001b[38;5;28;01mTrue\u001b[39;00m\n",
      "File \u001b[1;32mc:\\Users\\ivano\\AppData\\Local\\Programs\\Python\\Python312\\Lib\\site-packages\\urllib3\\connectionpool.py:467\u001b[0m, in \u001b[0;36mHTTPConnectionPool._make_request\u001b[1;34m(self, conn, method, url, body, headers, retries, timeout, chunked, response_conn, preload_content, decode_content, enforce_content_length)\u001b[0m\n\u001b[0;32m    464\u001b[0m \u001b[38;5;28;01mtry\u001b[39;00m:\n\u001b[0;32m    465\u001b[0m     \u001b[38;5;66;03m# Trigger any extra validation we need to do.\u001b[39;00m\n\u001b[0;32m    466\u001b[0m     \u001b[38;5;28;01mtry\u001b[39;00m:\n\u001b[1;32m--> 467\u001b[0m         \u001b[38;5;28;43mself\u001b[39;49m\u001b[38;5;241;43m.\u001b[39;49m\u001b[43m_validate_conn\u001b[49m\u001b[43m(\u001b[49m\u001b[43mconn\u001b[49m\u001b[43m)\u001b[49m\n\u001b[0;32m    468\u001b[0m     \u001b[38;5;28;01mexcept\u001b[39;00m (SocketTimeout, BaseSSLError) \u001b[38;5;28;01mas\u001b[39;00m e:\n\u001b[0;32m    469\u001b[0m         \u001b[38;5;28mself\u001b[39m\u001b[38;5;241m.\u001b[39m_raise_timeout(err\u001b[38;5;241m=\u001b[39me, url\u001b[38;5;241m=\u001b[39murl, timeout_value\u001b[38;5;241m=\u001b[39mconn\u001b[38;5;241m.\u001b[39mtimeout)\n",
      "File \u001b[1;32mc:\\Users\\ivano\\AppData\\Local\\Programs\\Python\\Python312\\Lib\\site-packages\\urllib3\\connectionpool.py:1099\u001b[0m, in \u001b[0;36mHTTPSConnectionPool._validate_conn\u001b[1;34m(self, conn)\u001b[0m\n\u001b[0;32m   1097\u001b[0m \u001b[38;5;66;03m# Force connect early to allow us to validate the connection.\u001b[39;00m\n\u001b[0;32m   1098\u001b[0m \u001b[38;5;28;01mif\u001b[39;00m conn\u001b[38;5;241m.\u001b[39mis_closed:\n\u001b[1;32m-> 1099\u001b[0m     \u001b[43mconn\u001b[49m\u001b[38;5;241;43m.\u001b[39;49m\u001b[43mconnect\u001b[49m\u001b[43m(\u001b[49m\u001b[43m)\u001b[49m\n\u001b[0;32m   1101\u001b[0m \u001b[38;5;66;03m# TODO revise this, see https://github.com/urllib3/urllib3/issues/2791\u001b[39;00m\n\u001b[0;32m   1102\u001b[0m \u001b[38;5;28;01mif\u001b[39;00m \u001b[38;5;129;01mnot\u001b[39;00m conn\u001b[38;5;241m.\u001b[39mis_verified \u001b[38;5;129;01mand\u001b[39;00m \u001b[38;5;129;01mnot\u001b[39;00m conn\u001b[38;5;241m.\u001b[39mproxy_is_verified:\n",
      "File \u001b[1;32mc:\\Users\\ivano\\AppData\\Local\\Programs\\Python\\Python312\\Lib\\site-packages\\urllib3\\connection.py:653\u001b[0m, in \u001b[0;36mHTTPSConnection.connect\u001b[1;34m(self)\u001b[0m\n\u001b[0;32m    650\u001b[0m \u001b[38;5;66;03m# Remove trailing '.' from fqdn hostnames to allow certificate validation\u001b[39;00m\n\u001b[0;32m    651\u001b[0m server_hostname_rm_dot \u001b[38;5;241m=\u001b[39m server_hostname\u001b[38;5;241m.\u001b[39mrstrip(\u001b[38;5;124m\"\u001b[39m\u001b[38;5;124m.\u001b[39m\u001b[38;5;124m\"\u001b[39m)\n\u001b[1;32m--> 653\u001b[0m sock_and_verified \u001b[38;5;241m=\u001b[39m \u001b[43m_ssl_wrap_socket_and_match_hostname\u001b[49m\u001b[43m(\u001b[49m\n\u001b[0;32m    654\u001b[0m \u001b[43m    \u001b[49m\u001b[43msock\u001b[49m\u001b[38;5;241;43m=\u001b[39;49m\u001b[43msock\u001b[49m\u001b[43m,\u001b[49m\n\u001b[0;32m    655\u001b[0m \u001b[43m    \u001b[49m\u001b[43mcert_reqs\u001b[49m\u001b[38;5;241;43m=\u001b[39;49m\u001b[38;5;28;43mself\u001b[39;49m\u001b[38;5;241;43m.\u001b[39;49m\u001b[43mcert_reqs\u001b[49m\u001b[43m,\u001b[49m\n\u001b[0;32m    656\u001b[0m \u001b[43m    \u001b[49m\u001b[43mssl_version\u001b[49m\u001b[38;5;241;43m=\u001b[39;49m\u001b[38;5;28;43mself\u001b[39;49m\u001b[38;5;241;43m.\u001b[39;49m\u001b[43mssl_version\u001b[49m\u001b[43m,\u001b[49m\n\u001b[0;32m    657\u001b[0m \u001b[43m    \u001b[49m\u001b[43mssl_minimum_version\u001b[49m\u001b[38;5;241;43m=\u001b[39;49m\u001b[38;5;28;43mself\u001b[39;49m\u001b[38;5;241;43m.\u001b[39;49m\u001b[43mssl_minimum_version\u001b[49m\u001b[43m,\u001b[49m\n\u001b[0;32m    658\u001b[0m \u001b[43m    \u001b[49m\u001b[43mssl_maximum_version\u001b[49m\u001b[38;5;241;43m=\u001b[39;49m\u001b[38;5;28;43mself\u001b[39;49m\u001b[38;5;241;43m.\u001b[39;49m\u001b[43mssl_maximum_version\u001b[49m\u001b[43m,\u001b[49m\n\u001b[0;32m    659\u001b[0m \u001b[43m    \u001b[49m\u001b[43mca_certs\u001b[49m\u001b[38;5;241;43m=\u001b[39;49m\u001b[38;5;28;43mself\u001b[39;49m\u001b[38;5;241;43m.\u001b[39;49m\u001b[43mca_certs\u001b[49m\u001b[43m,\u001b[49m\n\u001b[0;32m    660\u001b[0m \u001b[43m    \u001b[49m\u001b[43mca_cert_dir\u001b[49m\u001b[38;5;241;43m=\u001b[39;49m\u001b[38;5;28;43mself\u001b[39;49m\u001b[38;5;241;43m.\u001b[39;49m\u001b[43mca_cert_dir\u001b[49m\u001b[43m,\u001b[49m\n\u001b[0;32m    661\u001b[0m \u001b[43m    \u001b[49m\u001b[43mca_cert_data\u001b[49m\u001b[38;5;241;43m=\u001b[39;49m\u001b[38;5;28;43mself\u001b[39;49m\u001b[38;5;241;43m.\u001b[39;49m\u001b[43mca_cert_data\u001b[49m\u001b[43m,\u001b[49m\n\u001b[0;32m    662\u001b[0m \u001b[43m    \u001b[49m\u001b[43mcert_file\u001b[49m\u001b[38;5;241;43m=\u001b[39;49m\u001b[38;5;28;43mself\u001b[39;49m\u001b[38;5;241;43m.\u001b[39;49m\u001b[43mcert_file\u001b[49m\u001b[43m,\u001b[49m\n\u001b[0;32m    663\u001b[0m \u001b[43m    \u001b[49m\u001b[43mkey_file\u001b[49m\u001b[38;5;241;43m=\u001b[39;49m\u001b[38;5;28;43mself\u001b[39;49m\u001b[38;5;241;43m.\u001b[39;49m\u001b[43mkey_file\u001b[49m\u001b[43m,\u001b[49m\n\u001b[0;32m    664\u001b[0m \u001b[43m    \u001b[49m\u001b[43mkey_password\u001b[49m\u001b[38;5;241;43m=\u001b[39;49m\u001b[38;5;28;43mself\u001b[39;49m\u001b[38;5;241;43m.\u001b[39;49m\u001b[43mkey_password\u001b[49m\u001b[43m,\u001b[49m\n\u001b[0;32m    665\u001b[0m \u001b[43m    \u001b[49m\u001b[43mserver_hostname\u001b[49m\u001b[38;5;241;43m=\u001b[39;49m\u001b[43mserver_hostname_rm_dot\u001b[49m\u001b[43m,\u001b[49m\n\u001b[0;32m    666\u001b[0m \u001b[43m    \u001b[49m\u001b[43mssl_context\u001b[49m\u001b[38;5;241;43m=\u001b[39;49m\u001b[38;5;28;43mself\u001b[39;49m\u001b[38;5;241;43m.\u001b[39;49m\u001b[43mssl_context\u001b[49m\u001b[43m,\u001b[49m\n\u001b[0;32m    667\u001b[0m \u001b[43m    \u001b[49m\u001b[43mtls_in_tls\u001b[49m\u001b[38;5;241;43m=\u001b[39;49m\u001b[43mtls_in_tls\u001b[49m\u001b[43m,\u001b[49m\n\u001b[0;32m    668\u001b[0m \u001b[43m    \u001b[49m\u001b[43massert_hostname\u001b[49m\u001b[38;5;241;43m=\u001b[39;49m\u001b[38;5;28;43mself\u001b[39;49m\u001b[38;5;241;43m.\u001b[39;49m\u001b[43massert_hostname\u001b[49m\u001b[43m,\u001b[49m\n\u001b[0;32m    669\u001b[0m \u001b[43m    \u001b[49m\u001b[43massert_fingerprint\u001b[49m\u001b[38;5;241;43m=\u001b[39;49m\u001b[38;5;28;43mself\u001b[39;49m\u001b[38;5;241;43m.\u001b[39;49m\u001b[43massert_fingerprint\u001b[49m\u001b[43m,\u001b[49m\n\u001b[0;32m    670\u001b[0m \u001b[43m\u001b[49m\u001b[43m)\u001b[49m\n\u001b[0;32m    671\u001b[0m \u001b[38;5;28mself\u001b[39m\u001b[38;5;241m.\u001b[39msock \u001b[38;5;241m=\u001b[39m sock_and_verified\u001b[38;5;241m.\u001b[39msocket\n\u001b[0;32m    673\u001b[0m \u001b[38;5;66;03m# Forwarding proxies can never have a verified target since\u001b[39;00m\n\u001b[0;32m    674\u001b[0m \u001b[38;5;66;03m# the proxy is the one doing the verification. Should instead\u001b[39;00m\n\u001b[0;32m    675\u001b[0m \u001b[38;5;66;03m# use a CONNECT tunnel in order to verify the target.\u001b[39;00m\n\u001b[0;32m    676\u001b[0m \u001b[38;5;66;03m# See: https://github.com/urllib3/urllib3/issues/3267.\u001b[39;00m\n",
      "File \u001b[1;32mc:\\Users\\ivano\\AppData\\Local\\Programs\\Python\\Python312\\Lib\\site-packages\\urllib3\\connection.py:806\u001b[0m, in \u001b[0;36m_ssl_wrap_socket_and_match_hostname\u001b[1;34m(sock, cert_reqs, ssl_version, ssl_minimum_version, ssl_maximum_version, cert_file, key_file, key_password, ca_certs, ca_cert_dir, ca_cert_data, assert_hostname, assert_fingerprint, server_hostname, ssl_context, tls_in_tls)\u001b[0m\n\u001b[0;32m    803\u001b[0m     \u001b[38;5;28;01mif\u001b[39;00m is_ipaddress(normalized):\n\u001b[0;32m    804\u001b[0m         server_hostname \u001b[38;5;241m=\u001b[39m normalized\n\u001b[1;32m--> 806\u001b[0m ssl_sock \u001b[38;5;241m=\u001b[39m \u001b[43mssl_wrap_socket\u001b[49m\u001b[43m(\u001b[49m\n\u001b[0;32m    807\u001b[0m \u001b[43m    \u001b[49m\u001b[43msock\u001b[49m\u001b[38;5;241;43m=\u001b[39;49m\u001b[43msock\u001b[49m\u001b[43m,\u001b[49m\n\u001b[0;32m    808\u001b[0m \u001b[43m    \u001b[49m\u001b[43mkeyfile\u001b[49m\u001b[38;5;241;43m=\u001b[39;49m\u001b[43mkey_file\u001b[49m\u001b[43m,\u001b[49m\n\u001b[0;32m    809\u001b[0m \u001b[43m    \u001b[49m\u001b[43mcertfile\u001b[49m\u001b[38;5;241;43m=\u001b[39;49m\u001b[43mcert_file\u001b[49m\u001b[43m,\u001b[49m\n\u001b[0;32m    810\u001b[0m \u001b[43m    \u001b[49m\u001b[43mkey_password\u001b[49m\u001b[38;5;241;43m=\u001b[39;49m\u001b[43mkey_password\u001b[49m\u001b[43m,\u001b[49m\n\u001b[0;32m    811\u001b[0m \u001b[43m    \u001b[49m\u001b[43mca_certs\u001b[49m\u001b[38;5;241;43m=\u001b[39;49m\u001b[43mca_certs\u001b[49m\u001b[43m,\u001b[49m\n\u001b[0;32m    812\u001b[0m \u001b[43m    \u001b[49m\u001b[43mca_cert_dir\u001b[49m\u001b[38;5;241;43m=\u001b[39;49m\u001b[43mca_cert_dir\u001b[49m\u001b[43m,\u001b[49m\n\u001b[0;32m    813\u001b[0m \u001b[43m    \u001b[49m\u001b[43mca_cert_data\u001b[49m\u001b[38;5;241;43m=\u001b[39;49m\u001b[43mca_cert_data\u001b[49m\u001b[43m,\u001b[49m\n\u001b[0;32m    814\u001b[0m \u001b[43m    \u001b[49m\u001b[43mserver_hostname\u001b[49m\u001b[38;5;241;43m=\u001b[39;49m\u001b[43mserver_hostname\u001b[49m\u001b[43m,\u001b[49m\n\u001b[0;32m    815\u001b[0m \u001b[43m    \u001b[49m\u001b[43mssl_context\u001b[49m\u001b[38;5;241;43m=\u001b[39;49m\u001b[43mcontext\u001b[49m\u001b[43m,\u001b[49m\n\u001b[0;32m    816\u001b[0m \u001b[43m    \u001b[49m\u001b[43mtls_in_tls\u001b[49m\u001b[38;5;241;43m=\u001b[39;49m\u001b[43mtls_in_tls\u001b[49m\u001b[43m,\u001b[49m\n\u001b[0;32m    817\u001b[0m \u001b[43m\u001b[49m\u001b[43m)\u001b[49m\n\u001b[0;32m    819\u001b[0m \u001b[38;5;28;01mtry\u001b[39;00m:\n\u001b[0;32m    820\u001b[0m     \u001b[38;5;28;01mif\u001b[39;00m assert_fingerprint:\n",
      "File \u001b[1;32mc:\\Users\\ivano\\AppData\\Local\\Programs\\Python\\Python312\\Lib\\site-packages\\urllib3\\util\\ssl_.py:440\u001b[0m, in \u001b[0;36mssl_wrap_socket\u001b[1;34m(sock, keyfile, certfile, cert_reqs, ca_certs, server_hostname, ssl_version, ciphers, ssl_context, ca_cert_dir, key_password, ca_cert_data, tls_in_tls)\u001b[0m\n\u001b[0;32m    438\u001b[0m \u001b[38;5;28;01mif\u001b[39;00m ca_certs \u001b[38;5;129;01mor\u001b[39;00m ca_cert_dir \u001b[38;5;129;01mor\u001b[39;00m ca_cert_data:\n\u001b[0;32m    439\u001b[0m     \u001b[38;5;28;01mtry\u001b[39;00m:\n\u001b[1;32m--> 440\u001b[0m         \u001b[43mcontext\u001b[49m\u001b[38;5;241;43m.\u001b[39;49m\u001b[43mload_verify_locations\u001b[49m\u001b[43m(\u001b[49m\u001b[43mca_certs\u001b[49m\u001b[43m,\u001b[49m\u001b[43m \u001b[49m\u001b[43mca_cert_dir\u001b[49m\u001b[43m,\u001b[49m\u001b[43m \u001b[49m\u001b[43mca_cert_data\u001b[49m\u001b[43m)\u001b[49m\n\u001b[0;32m    441\u001b[0m     \u001b[38;5;28;01mexcept\u001b[39;00m \u001b[38;5;167;01mOSError\u001b[39;00m \u001b[38;5;28;01mas\u001b[39;00m e:\n\u001b[0;32m    442\u001b[0m         \u001b[38;5;28;01mraise\u001b[39;00m SSLError(e) \u001b[38;5;28;01mfrom\u001b[39;00m \u001b[38;5;21;01me\u001b[39;00m\n",
      "\u001b[1;31mKeyboardInterrupt\u001b[0m: "
     ]
    },
    {
     "ename": "",
     "evalue": "",
     "output_type": "error",
     "traceback": [
      "\u001b[1;31mThe Kernel crashed while executing code in the current cell or a previous cell. \n",
      "\u001b[1;31mPlease review the code in the cell(s) to identify a possible cause of the failure. \n",
      "\u001b[1;31mClick <a href='https://aka.ms/vscodeJupyterKernelCrash'>here</a> for more info. \n",
      "\u001b[1;31mView Jupyter <a href='command:jupyter.viewOutput'>log</a> for further details."
     ]
    }
   ],
   "source": [
    "# Start of the script execution\n",
    "saved_data = load_progress()\n",
    "if saved_data:\n",
    "    game_list = saved_data['remaining_games']\n",
    "    processed_games = saved_data['processed_details']\n",
    "else:\n",
    "    # Define your initial list of games, replace with actual game list\n",
    "    game_list = topseller  # Ensure 'filtered_games' is defined elsewhere in your project\n",
    "    processed_games = []\n",
    "\n",
    "# Begin fetching additional data\n",
    "fetch_recommendations(game_list)"
   ]
  },
  {
   "cell_type": "code",
   "execution_count": null,
   "id": "73ae444a-a8b4-4381-9fae-1e57fb3751bc",
   "metadata": {},
   "outputs": [],
   "source": []
  },
  {
   "cell_type": "code",
   "execution_count": null,
   "id": "22a51d4a-ed6d-478f-bd3b-a805b9ec4bfd",
   "metadata": {},
   "outputs": [],
   "source": []
  }
 ],
 "metadata": {
  "kernelspec": {
   "display_name": "Python 3 (ipykernel)",
   "language": "python",
   "name": "python3"
  },
  "language_info": {
   "codemirror_mode": {
    "name": "ipython",
    "version": 3
   },
   "file_extension": ".py",
   "mimetype": "text/x-python",
   "name": "python",
   "nbconvert_exporter": "python",
   "pygments_lexer": "ipython3",
   "version": "3.12.3"
  }
 },
 "nbformat": 4,
 "nbformat_minor": 5
}
