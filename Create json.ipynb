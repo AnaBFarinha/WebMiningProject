{
 "cells": [
  {
   "cell_type": "code",
   "execution_count": 1,
   "id": "b361b8b1-d419-4771-823d-04d57f68c297",
   "metadata": {},
   "outputs": [],
   "source": [
    "from selenium import webdriver\n",
    "from selenium.webdriver.common.by import By\n",
    "from selenium.webdriver.chrome.service import Service\n",
    "from webdriver_manager.chrome import ChromeDriverManager\n",
    "import time\n",
    "from utils import save_data_to_json"
   ]
  },
  {
   "cell_type": "code",
   "execution_count": null,
   "id": "1d822143-7217-496a-a5cf-b7f8b745e315",
   "metadata": {},
   "outputs": [],
   "source": [
    "def scrape_steam_topsellers():\n",
    "    driver = webdriver.Chrome(service=Service(ChromeDriverManager().install()))\n",
    "\n",
    "    url = 'https://store.steampowered.com/search/?category1=998&filter=topsellers&ndl=1'\n",
    "\n",
    "    driver.get(url)\n",
    "    \n",
    "    time.sleep(3)\n",
    "    \n",
    "    last_height = driver.execute_script(\"return document.body.scrollHeight\")\n",
    "    while True:\n",
    "        driver.execute_script(\"window.scrollTo(0, document.body.scrollHeight);\")\n",
    "        \n",
    "        time.sleep(0.5)\n",
    "        \n",
    "        new_height = driver.execute_script(\"return document.body.scrollHeight\")\n",
    "        if new_height == last_height:\n",
    "            break\n",
    "        last_height = new_height\n",
    "    \n",
    "    game_links = driver.find_elements(By.CSS_SELECTOR, 'a.search_result_row')\n",
    "    \n",
    "    app_ids = []\n",
    "    for link in game_links:\n",
    "        href = link.get_attribute('href')\n",
    "        parts = href.split('/')\n",
    "        if 'app' in parts:\n",
    "            app_id_index = parts.index('app') + 1\n",
    "            app_id = parts[app_id_index]\n",
    "            app_ids.append(app_id)\n",
    "    \n",
    "    driver.quit()\n",
    "\n",
    "    topseller_games = \n",
    "    \n",
    "    return topseller_games"
   ]
  },
  {
   "cell_type": "code",
   "execution_count": null,
   "id": "d19a7903-608a-4174-ab8c-0c5c18c748d7",
   "metadata": {},
   "outputs": [],
   "source": [
    "topseller_games = scrape_steam_topsellers()\n",
    "len(topseller_games)"
   ]
  },
  {
   "cell_type": "code",
   "execution_count": null,
   "id": "075a7aba",
   "metadata": {},
   "outputs": [],
   "source": [
    "file_path = 'data/SteamTopSellers.json'\n",
    "save_data_to_json(topseller_games, file_path)"
   ]
  },
  {
   "cell_type": "code",
   "execution_count": 17,
   "id": "9a08c1c8-da8e-43d4-9e4c-9ac054315650",
   "metadata": {},
   "outputs": [],
   "source": [
    "def scrape_steam_mostplayed():\n",
    "    driver = webdriver.Chrome(service=Service(ChromeDriverManager().install()))\n",
    "\n",
    "    url = 'https://store.steampowered.com/charts/mostplayed'\n",
    "    driver.get(url)\n",
    "    time.sleep(2)  # Give extra time for any late content to load\n",
    "\n",
    "    # Scroll to the bottom of the page to ensure all content is loaded\n",
    "    last_height = driver.execute_script(\"return document.body.scrollHeight\")\n",
    "    while True:\n",
    "        driver.execute_script(\"window.scrollTo(0, document.body.scrollHeight);\")\n",
    "        time.sleep(0.5)\n",
    "        new_height = driver.execute_script(\"return document.body.scrollHeight\")\n",
    "        if new_height == last_height:\n",
    "            break\n",
    "        last_height = new_height\n",
    "\n",
    "    games_data = []\n",
    "\n",
    "    # Find the only table on the page\n",
    "    table = driver.find_element(By.TAG_NAME, 'table')\n",
    "\n",
    "    # Iterate through the table rows\n",
    "    rows = table.find_elements(By.TAG_NAME, 'tr')\n",
    "\n",
    "    for row in rows[1:]:  # Skip the header row\n",
    "        columns = row.find_elements(By.TAG_NAME, 'td')\n",
    "\n",
    "        if len(columns) < 6:\n",
    "            continue\n",
    "\n",
    "        rank = columns[1].text\n",
    "        app_link_element = columns[2].find_element(By.TAG_NAME, 'a')\n",
    "        app_link = app_link_element.get_attribute('href')\n",
    "        name_element = app_link_element.find_element(By.XPATH, \".//div[last()]\")\n",
    "        name = name_element.text\n",
    "        max_players_today = columns[4].text\n",
    "\n",
    "        app_id = app_link.split('/')[4]\n",
    "\n",
    "        game_info = {\n",
    "            'rank': rank,\n",
    "            'appid': app_id,\n",
    "            'name': name,\n",
    "            'max_players_today': max_players_today\n",
    "        }\n",
    "        games_data.append(game_info)\n",
    "\n",
    "    driver.quit()\n",
    "\n",
    "    return games_data"
   ]
  },
  {
   "cell_type": "code",
   "execution_count": 18,
   "id": "7a1cf12d-60c6-4175-94fc-2e3175cfe6cc",
   "metadata": {},
   "outputs": [
    {
     "data": {
      "text/plain": [
       "100"
      ]
     },
     "execution_count": 18,
     "metadata": {},
     "output_type": "execute_result"
    }
   ],
   "source": [
    "mostplayed_games = scrape_steam_mostplayed()\n",
    "len(mostplayed_games)"
   ]
  },
  {
   "cell_type": "code",
   "execution_count": 19,
   "id": "24525a61-91ce-4c67-9e2a-8f1e17a6f3af",
   "metadata": {},
   "outputs": [
    {
     "data": {
      "text/plain": [
       "'data/jsons/SteamMostPlayed.json'"
      ]
     },
     "execution_count": 19,
     "metadata": {},
     "output_type": "execute_result"
    }
   ],
   "source": [
    "file_path = 'data/jsons/SteamMostPlayed.json'\n",
    "save_data_to_json(mostplayed_gamess, file_path)"
   ]
  },
  {
   "cell_type": "code",
   "execution_count": null,
   "id": "9657018d-3a44-481e-8fe2-00bde5a79f4d",
   "metadata": {},
   "outputs": [],
   "source": []
  }
 ],
 "metadata": {
  "kernelspec": {
   "display_name": "Python 3 (ipykernel)",
   "language": "python",
   "name": "python3"
  },
  "language_info": {
   "codemirror_mode": {
    "name": "ipython",
    "version": 3
   },
   "file_extension": ".py",
   "mimetype": "text/x-python",
   "name": "python",
   "nbconvert_exporter": "python",
   "pygments_lexer": "ipython3",
   "version": "3.12.2"
  }
 },
 "nbformat": 4,
 "nbformat_minor": 5
}
