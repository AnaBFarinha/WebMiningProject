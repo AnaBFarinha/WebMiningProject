{
 "cells": [
  {
   "cell_type": "code",
   "execution_count": 1,
   "id": "b361b8b1-d419-4771-823d-04d57f68c297",
   "metadata": {},
   "outputs": [],
   "source": [
    "from selenium import webdriver\n",
    "from selenium.webdriver.common.by import By\n",
    "from selenium.webdriver.chrome.service import Service\n",
    "from webdriver_manager.chrome import ChromeDriverManager\n",
    "import time\n",
    "import requests\n",
    "import re\n",
    "import json\n",
    "import polars as pl"
   ]
  },
  {
   "cell_type": "code",
   "execution_count": 2,
   "id": "d5503e70-2472-4258-88f6-bf140a7108f7",
   "metadata": {},
   "outputs": [],
   "source": [
    "def save_data_to_json(data, file_path):\n",
    "    with open(file_path, 'w') as file:\n",
    "        json.dump(data, file)\n",
    "    return file_path"
   ]
  },
  {
   "cell_type": "code",
   "execution_count": 3,
   "id": "14b86e76-c400-483e-bf16-bfa7ce8238ef",
   "metadata": {},
   "outputs": [],
   "source": [
    "def get_steam_gamesIDs():\n",
    "    url = f\"http://api.steampowered.com/ISteamApps/GetAppList/v2/\"\n",
    "    response = requests.get(url)\n",
    "    data = response.json()\n",
    "    return data['applist'][\"apps\"]  # This is a list of dictionaries with 'appid' and 'name'"
   ]
  },
  {
   "cell_type": "code",
   "execution_count": 4,
   "id": "c43991e4-9535-4a60-81e2-e653cbc66ab1",
   "metadata": {},
   "outputs": [
    {
     "name": "stdout",
     "output_type": "stream",
     "text": [
      "198645\n"
     ]
    }
   ],
   "source": [
    "games_list = get_steam_gamesIDs()\n",
    "print(len(games_list))"
   ]
  },
  {
   "cell_type": "code",
   "execution_count": 5,
   "id": "65c1d793-f11c-4c2c-86d5-8aaca85c59ca",
   "metadata": {},
   "outputs": [],
   "source": [
    "def clean_games_list(games_list):\n",
    "    # List of keywords to exclude\n",
    "    excluded = ['test', 'client', 'server', 'soundtrack', 'demo']\n",
    "    \n",
    "    # RegEx pattern for checking European characters\n",
    "    european_chars_pattern = re.compile(r'^[a-zA-Z0-9 \\-\\'!@#$%^&*()_+={}[\\]|\\\\:;\"<>,.?/~`€£±§]+$')\n",
    "    \n",
    "    # Filter the list by removing dictionaries whose 'name' is empty,\n",
    "    # contains 'test', 'client', 'server', 'soundtrack', or non-European characters.\n",
    "    filtered_games = [\n",
    "        game for game in games_list \n",
    "        if game['name'] and all(exclude not in game['name'].lower() for exclude in excluded)\n",
    "        and european_chars_pattern.match(game['name'])\n",
    "    ]\n",
    "    return filtered_games"
   ]
  },
  {
   "cell_type": "code",
   "execution_count": 6,
   "id": "c477cf0f-ad33-4198-aadb-127b335f8434",
   "metadata": {},
   "outputs": [
    {
     "name": "stdout",
     "output_type": "stream",
     "text": [
      "152331\n"
     ]
    }
   ],
   "source": [
    "filtered_games = clean_games_list(games_list)\n",
    "print(len(filtered_games))"
   ]
  },
  {
   "cell_type": "code",
   "execution_count": 7,
   "id": "558e953b-6c23-4de5-9ded-1c39a4d91b17",
   "metadata": {},
   "outputs": [],
   "source": [
    "filtered_games = sorted(filtered_games, key=lambda x: x['appid'])"
   ]
  },
  {
   "cell_type": "code",
   "execution_count": 8,
   "id": "549283ac-33a0-4fc8-8e1f-b325e7975fe8",
   "metadata": {},
   "outputs": [
    {
     "data": {
      "text/plain": [
       "'data/jsons/SteamGames.json'"
      ]
     },
     "execution_count": 8,
     "metadata": {},
     "output_type": "execute_result"
    }
   ],
   "source": [
    "file_path = 'data/jsons/SteamGames.json'\n",
    "save_data_to_json(filtered_games, file_path)"
   ]
  },
  {
   "cell_type": "code",
   "execution_count": 9,
   "id": "1d822143-7217-496a-a5cf-b7f8b745e315",
   "metadata": {},
   "outputs": [],
   "source": [
    "def scrape_steam_topsellers():\n",
    "    driver = webdriver.Chrome(service=Service(ChromeDriverManager().install()))\n",
    "\n",
    "    url = 'https://store.steampowered.com/search/?category1=998&filter=topsellers&ndl=1'\n",
    "\n",
    "    driver.get(url)\n",
    "    \n",
    "    time.sleep(3)\n",
    "    \n",
    "    last_height = driver.execute_script(\"return document.body.scrollHeight\")\n",
    "    while True:\n",
    "        driver.execute_script(\"window.scrollTo(0, document.body.scrollHeight);\")\n",
    "        \n",
    "        time.sleep(0.5)\n",
    "        \n",
    "        new_height = driver.execute_script(\"return document.body.scrollHeight\")\n",
    "        if new_height == last_height:\n",
    "            break\n",
    "        last_height = new_height\n",
    "    \n",
    "    game_links = driver.find_elements(By.CSS_SELECTOR, 'a.search_result_row')\n",
    "    \n",
    "    appids = []\n",
    "    for link in game_links:\n",
    "        href = link.get_attribute('href')\n",
    "        parts = href.split('/')\n",
    "        if 'app' in parts:\n",
    "            appid_index = parts.index('app') + 1\n",
    "            appid = parts[appid_index]\n",
    "            appids.append(appid)\n",
    "    \n",
    "    driver.quit()\n",
    "\n",
    "    # Path to the JSON file\n",
    "    steam_games_path = 'data/jsons/SteamGames.json'\n",
    "\n",
    "    # Load the SteamGames.json file\n",
    "    with open(steam_games_path, 'r') as file:\n",
    "        steam_games = json.load(file)\n",
    "\n",
    "    # Convert the list of dictionaries to a Polars DataFrame\n",
    "    steam_games_df = pl.DataFrame(steam_games)\n",
    "    \n",
    "    # Convert the DataFrame to a dictionary for fast lookups\n",
    "    appid_to_name = steam_games_df.select(['appid', 'name']).to_dict(as_series=False)\n",
    "    \n",
    "    # Create a lookup dictionary\n",
    "    lookup = dict(zip(appid_to_name['appid'], appid_to_name['name']))\n",
    "    \n",
    "    # Create the output list\n",
    "    topseller_games = [{\"appid\": appid, \"name\": lookup[int(appid)]} for appid in appids if int(appid) in lookup]    \n",
    "    return topseller_games"
   ]
  },
  {
   "cell_type": "code",
   "execution_count": 10,
   "id": "d19a7903-608a-4174-ab8c-0c5c18c748d7",
   "metadata": {},
   "outputs": [
    {
     "data": {
      "text/plain": [
       "5228"
      ]
     },
     "execution_count": 10,
     "metadata": {},
     "output_type": "execute_result"
    }
   ],
   "source": [
    "topseller_games = scrape_steam_topsellers()\n",
    "len(topseller_games)"
   ]
  },
  {
   "cell_type": "code",
   "execution_count": 11,
   "id": "075a7aba",
   "metadata": {},
   "outputs": [
    {
     "data": {
      "text/plain": [
       "'data/jsons/SteamTopSellers.json'"
      ]
     },
     "execution_count": 11,
     "metadata": {},
     "output_type": "execute_result"
    }
   ],
   "source": [
    "file_path = 'data/jsons/SteamTopSellers.json'\n",
    "save_data_to_json(topseller_games, file_path)"
   ]
  },
  {
   "cell_type": "code",
   "execution_count": 12,
   "id": "9a08c1c8-da8e-43d4-9e4c-9ac054315650",
   "metadata": {},
   "outputs": [],
   "source": [
    "def scrape_steam_mostplayed():\n",
    "    driver = webdriver.Chrome(service=Service(ChromeDriverManager().install()))\n",
    "\n",
    "    url = 'https://store.steampowered.com/charts/mostplayed'\n",
    "    driver.get(url)\n",
    "    time.sleep(2)  # Give extra time for any late content to load\n",
    "\n",
    "    # Scroll to the bottom of the page to ensure all content is loaded\n",
    "    last_height = driver.execute_script(\"return document.body.scrollHeight\")\n",
    "    while True:\n",
    "        driver.execute_script(\"window.scrollTo(0, document.body.scrollHeight);\")\n",
    "        time.sleep(0.5)\n",
    "        new_height = driver.execute_script(\"return document.body.scrollHeight\")\n",
    "        if new_height == last_height:\n",
    "            break\n",
    "        last_height = new_height\n",
    "\n",
    "    games_data = []\n",
    "\n",
    "    # Find the only table on the page\n",
    "    table = driver.find_element(By.TAG_NAME, 'table')\n",
    "\n",
    "    # Iterate through the table rows\n",
    "    rows = table.find_elements(By.TAG_NAME, 'tr')\n",
    "\n",
    "    for row in rows[1:]:  # Skip the header row\n",
    "        columns = row.find_elements(By.TAG_NAME, 'td')\n",
    "\n",
    "        if len(columns) < 6:\n",
    "            continue\n",
    "\n",
    "        rank = columns[1].text\n",
    "        app_link_element = columns[2].find_element(By.TAG_NAME, 'a')\n",
    "        app_link = app_link_element.get_attribute('href')\n",
    "        name_element = app_link_element.find_element(By.XPATH, \".//div[last()]\")\n",
    "        name = name_element.text\n",
    "        max_players_today = columns[4].text\n",
    "\n",
    "        app_id = app_link.split('/')[4]\n",
    "\n",
    "        game_info = {\n",
    "            'rank': rank,\n",
    "            'appid': app_id,\n",
    "            'name': name,\n",
    "            'max_players_today': max_players_today\n",
    "        }\n",
    "        games_data.append(game_info)\n",
    "\n",
    "    driver.quit()\n",
    "\n",
    "    return games_data"
   ]
  },
  {
   "cell_type": "code",
   "execution_count": 13,
   "id": "7a1cf12d-60c6-4175-94fc-2e3175cfe6cc",
   "metadata": {},
   "outputs": [
    {
     "data": {
      "text/plain": [
       "100"
      ]
     },
     "execution_count": 13,
     "metadata": {},
     "output_type": "execute_result"
    }
   ],
   "source": [
    "mostplayed_games = scrape_steam_mostplayed()\n",
    "len(mostplayed_games)"
   ]
  },
  {
   "cell_type": "code",
   "execution_count": 14,
   "id": "24525a61-91ce-4c67-9e2a-8f1e17a6f3af",
   "metadata": {},
   "outputs": [
    {
     "data": {
      "text/plain": [
       "'data/jsons/SteamMostPlayed.json'"
      ]
     },
     "execution_count": 14,
     "metadata": {},
     "output_type": "execute_result"
    }
   ],
   "source": [
    "file_path = 'data/jsons/SteamMostPlayed.json'\n",
    "save_data_to_json(mostplayed_games, file_path)"
   ]
  },
  {
   "cell_type": "code",
   "execution_count": null,
   "id": "9657018d-3a44-481e-8fe2-00bde5a79f4d",
   "metadata": {},
   "outputs": [],
   "source": []
  }
 ],
 "metadata": {
  "kernelspec": {
   "display_name": "Python 3 (ipykernel)",
   "language": "python",
   "name": "python3"
  },
  "language_info": {
   "codemirror_mode": {
    "name": "ipython",
    "version": 3
   },
   "file_extension": ".py",
   "mimetype": "text/x-python",
   "name": "python",
   "nbconvert_exporter": "python",
   "pygments_lexer": "ipython3",
   "version": "3.12.2"
  }
 },
 "nbformat": 4,
 "nbformat_minor": 5
}
