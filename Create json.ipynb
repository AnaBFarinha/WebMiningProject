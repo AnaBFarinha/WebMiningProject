{
 "cells": [
  {
   "cell_type": "code",
   "execution_count": null,
   "id": "a79981b1-a0d4-44a5-983e-4750dda4adca",
   "metadata": {},
   "outputs": [],
   "source": [
    "from selenium import webdriver\n",
    "from selenium.webdriver.common.by import By\n",
    "from selenium.webdriver.chrome.service import Service\n",
    "from webdriver_manager.chrome import ChromeDriverManager\n",
    "import time\n",
    "from utils import save_data_to_json\n",
    "\n",
    "def scrape_steam_topsellers():\n",
    "    driver = webdriver.Chrome(service=Service(ChromeDriverManager().install()))\n",
    "\n",
    "    url = 'https://store.steampowered.com/search/?category1=998&filter=topsellers&ndl=1'\n",
    "\n",
    "    driver.get(url)\n",
    "    \n",
    "    time.sleep(3)\n",
    "    \n",
    "    last_height = driver.execute_script(\"return document.body.scrollHeight\")\n",
    "    while True:\n",
    "        driver.execute_script(\"window.scrollTo(0, document.body.scrollHeight);\")\n",
    "        \n",
    "        time.sleep(0.5)\n",
    "        \n",
    "        new_height = driver.execute_script(\"return document.body.scrollHeight\")\n",
    "        if new_height == last_height:\n",
    "            break\n",
    "        last_height = new_height\n",
    "    \n",
    "    game_links = driver.find_elements(By.CSS_SELECTOR, 'a.search_result_row')\n",
    "    \n",
    "    app_ids = []\n",
    "    for link in game_links:\n",
    "        href = link.get_attribute('href')\n",
    "        parts = href.split('/')\n",
    "        if 'app' in parts:\n",
    "            app_id_index = parts.index('app') + 1\n",
    "            app_id = parts[app_id_index]\n",
    "            app_ids.append(app_id)\n",
    "    \n",
    "    driver.quit()\n",
    "    \n",
    "    return app_ids"
   ]
  },
  {
   "cell_type": "code",
   "execution_count": null,
   "id": "d19a7903-608a-4174-ab8c-0c5c18c748d7",
   "metadata": {},
   "outputs": [],
   "source": [
    "topseller_app_ids = scrape_steam_topsellers()\n",
    "formatted_list = [{\"appid\": number} for number in topseller_app_ids]\n",
    "len(topseller_app_ids)"
   ]
  },
  {
   "cell_type": "code",
   "execution_count": null,
   "id": "075a7aba",
   "metadata": {},
   "outputs": [],
   "source": [
    "file_path = 'data/SteamTopSellers.json'\n",
    "file_path = save_data_to_json(formatted_list)\n",
    "file_path"
   ]
  },
  {
   "cell_type": "code",
   "execution_count": null,
   "id": "d7f15787",
   "metadata": {},
   "outputs": [],
   "source": [
    "# Adapt for the other 4 jsons "
   ]
  }
 ],
 "metadata": {
  "kernelspec": {
   "display_name": "Python 3 (ipykernel)",
   "language": "python",
   "name": "python3"
  },
  "language_info": {
   "codemirror_mode": {
    "name": "ipython",
    "version": 3
   },
   "file_extension": ".py",
   "mimetype": "text/x-python",
   "name": "python",
   "nbconvert_exporter": "python",
   "pygments_lexer": "ipython3",
   "version": "3.12.2"
  }
 },
 "nbformat": 4,
 "nbformat_minor": 5
}
