{
 "cells": [
  {
   "cell_type": "code",
   "execution_count": 4,
   "id": "4436439d-3707-497c-83a3-e32241b893f8",
   "metadata": {},
   "outputs": [],
   "source": [
    "import requests\n",
    "import polars as pl\n",
    "import os\n",
    "import time\n",
    "from urllib.parse import quote"
   ]
  },
  {
   "cell_type": "code",
   "execution_count": 5,
   "id": "0f8338c1-0eda-498e-ad90-5e0a7ace8656",
   "metadata": {},
   "outputs": [],
   "source": [
    "def get_steam_reviews(app_id, cursor='*'):\n",
    "    url = f\"https://store.steampowered.com/appreviews/{app_id}?json=1&filter=recent&language=english&cursor={cursor}&num_per_page=100\"\n",
    "    response = requests.get(url)\n",
    "    if response.status_code == 200:\n",
    "        data = response.json()\n",
    "        if data['success'] == 1:\n",
    "            return data\n",
    "        else:\n",
    "            print(f\"Failed to get valid reviews for app ID {app_id}.\")\n",
    "            print(data)\n",
    "            return data\n",
    "    else:\n",
    "        print(f\"Failed to get reviews for app ID {app_id}. Status code: {response.status_code}\")\n",
    "        return None\n",
    "\n",
    "def fetch_all_reviews(app_id):\n",
    "    cursor = '*'\n",
    "    all_reviews = []\n",
    "    \n",
    "    while True:\n",
    "        data = get_steam_reviews(app_id, cursor)\n",
    "        if data is None or data['query_summary']['num_reviews'] == 0:\n",
    "            break\n",
    "        \n",
    "        # Collect reviews\n",
    "        reviews = data['reviews']\n",
    "        all_reviews.extend(reviews)\n",
    "        \n",
    "        # Update cursor\n",
    "        cursor = quote(data['cursor'])\n",
    "    \n",
    "    # Create a DataFrame from reviews\n",
    "    reviews_df = pl.DataFrame(all_reviews)\n",
    "    num_entries = len(reviews_df)\n",
    "\n",
    "    # Specify the directory and file name for the parquet file\n",
    "    directory = \"data\\\\parquets\"\n",
    "    file_name = f\"{app_id}_reviews_{num_entries}.parquet\"\n",
    "    file_path = os.path.join(directory, file_name)\n",
    "    \n",
    "    # Save to parquet\n",
    "    reviews_df.write_parquet(file_path)\n",
    "\n",
    "    return num_entries"
   ]
  },
  {
   "cell_type": "code",
   "execution_count": 8,
   "id": "dc1aedd3-dc44-4306-b19a-fba1ef5919b7",
   "metadata": {},
   "outputs": [],
   "source": [
    "start_time = time.time()\n",
    "num_entries = fetch_all_reviews(553850)\n",
    "elapsed_time = time.time() - start_time\n",
    "\n",
    "print(f\"Die Ausführungszeit betrug {elapsed_time:.2f} Sekunden.\")\n",
    "print(f\"Anzahl Einträge:{num_entries}\")"
   ]
  },
  {
   "cell_type": "code",
   "execution_count": null,
   "id": "d5a4ec8d-7b01-445b-b451-e8a453d2b45b",
   "metadata": {},
   "outputs": [],
   "source": []
  }
 ],
 "metadata": {
  "kernelspec": {
   "display_name": "Python 3 (ipykernel)",
   "language": "python",
   "name": "python3"
  },
  "language_info": {
   "codemirror_mode": {
    "name": "ipython",
    "version": 3
   },
   "file_extension": ".py",
   "mimetype": "text/x-python",
   "name": "python",
   "nbconvert_exporter": "python",
   "pygments_lexer": "ipython3",
   "version": "3.12.3"
  }
 },
 "nbformat": 4,
 "nbformat_minor": 5
}
