{
 "cells": [
  {
   "cell_type": "markdown",
   "id": "c030440c",
   "metadata": {},
   "source": [
    "# Data Preparation - Game Details <a id='top'></a>\n",
    "\n",
    "After extrcating all the necessary data, the next step is to prepare the data by converting each variable to the correct datatype. In this notebook, we start preparing the data that contains information about games details. Here we convert dates to timestamps, lists to boolean columns and ensure that the boolean features have the correct format.\n",
    "\n",
    "The structure of this notebook is as follows:\n",
    "\n",
    "[0. Import Libraries](#libraries) <br>\n",
    "[1. Function Creation](#function) <br>\n",
    "[2. Data Preparation](#prepare) <br>"
   ]
  },
  {
   "cell_type": "markdown",
   "id": "dac0d973",
   "metadata": {},
   "source": [
    "# 0. Import Libraries<a id='libraries'></a>\n",
    "[to the top](#top)  \n",
    "\n",
    "The first step is to import the necessary libraries."
   ]
  },
  {
   "cell_type": "code",
   "execution_count": null,
   "id": "4675d306",
   "metadata": {},
   "outputs": [],
   "source": [
    "import os\n",
    "from datetime import datetime\n",
    "from helper_functions import save_data_to_json, load_json"
   ]
  },
  {
   "cell_type": "markdown",
   "id": "3922f4ef",
   "metadata": {},
   "source": [
    "# 1. Function Creation<a id='function'></a>\n",
    "[to the top](#top)  \n",
    "\n",
    "In the next cell, we define the function used to prepare the data to facilitate its use. It ensures that the output directory exists, reads each JSON file in the input directory, and prepares the data. Key functionalities include converting release dates to timestamps, transforming lists of platforms and genres into boolean columns, and handling potential errors or missing data gracefully. Additionally, it extracts relevant data such as app ID, price, number of reviews, and ratings, converts dates into a uniform format, and dynamically processes lists into individual boolean attributes. Each processed row is compiled into a new JSON structure, which is then saved to the specified output directory. This approach ensures a clean and structured format for further analysis or use."
   ]
  },
  {
   "cell_type": "code",
   "execution_count": 2,
   "id": "b6e64c8b-dfa3-472f-895f-1f4356ec2b55",
   "metadata": {},
   "outputs": [],
   "source": [
    "def preprocess_game_details(input_folder, output_folder):\n",
    "    # Ensure the output directory exists\n",
    "    os.makedirs(output_folder, exist_ok=True)\n",
    "    \n",
    "    # Helper function to convert date to timestamp\n",
    "    def convert_date_to_timestamp(date_str):\n",
    "        try:\n",
    "            return int(datetime.strptime(date_str, \"%d %b, %Y\").timestamp())\n",
    "        except ValueError:\n",
    "            return None\n",
    "    \n",
    "    # Helper function to convert list to boolean columns\n",
    "    def convert_list_to_bool_columns(data, key):\n",
    "        items = data.get(key, [])\n",
    "        return {f\"{key}_{item.replace(' ', '_').lower()}\": True for item in items}\n",
    "    \n",
    "    # Iterate over all .json files in the input directory\n",
    "    for filename in os.listdir(input_folder):\n",
    "        if filename.endswith(\".json\"):\n",
    "            input_path = os.path.join(input_folder, filename)\n",
    "            \n",
    "            # Read JSON file\n",
    "            df = load_json(input_path)\n",
    "            \n",
    "            preprocessed_rows = []\n",
    "            \n",
    "            # Iterate over each row in the DataFrame\n",
    "            for data in df.to_dicts():\n",
    "                # Extract and process relevant data\n",
    "                preprocessed_data = {\n",
    "                    \"appid\": data.get(\"appid\"),\n",
    "                    \"is_free\": bool(data.get(\"is_free\")),\n",
    "                    \"price\": data.get(\"price\"),\n",
    "                    \"release_date\": convert_date_to_timestamp(data.get(\"release_date\")),\n",
    "                    \"number_of_reviews\": data.get(\"number_of_reviews\"),\n",
    "                    \"metacritic_score\": data.get(\"metacritic_score\"),\n",
    "                    \"usk_rating\": data.get(\"usk_rating\"),\n",
    "                    \"required_age\": data.get(\"required_age\"),\n",
    "                }\n",
    "                \n",
    "                # Dynamic conversion of lists to boolean columns\n",
    "                preprocessed_data.update(convert_list_to_bool_columns(data, \"platforms\"))\n",
    "                preprocessed_data.update(convert_list_to_bool_columns(data, \"genres\"))\n",
    "                \n",
    "                preprocessed_rows.append(preprocessed_data)\n",
    "            \n",
    "            # Path for the processed file\n",
    "            output_path = os.path.join(output_folder, filename)\n",
    "            \n",
    "            # Write processed data to a new .json file\n",
    "            save_data_to_json(preprocessed_rows, output_path)"
   ]
  },
  {
   "cell_type": "markdown",
   "id": "bc4f366d",
   "metadata": {},
   "source": [
    "# 2. Data Preparation<a id='prepare'></a>\n",
    "[to the top](#top)  \n",
    "\n",
    "Finally, we can start preparing the data using the function."
   ]
  },
  {
   "cell_type": "markdown",
   "id": "18ab28c2",
   "metadata": {},
   "source": [
    "Before calling the function, we need to define the input and output folders."
   ]
  },
  {
   "cell_type": "code",
   "execution_count": null,
   "id": "a232169e",
   "metadata": {},
   "outputs": [],
   "source": [
    "# Input and output directories\n",
    "input_folder = 'data/game_details'\n",
    "output_folder = 'data/game_details_preprocessed'"
   ]
  },
  {
   "cell_type": "markdown",
   "id": "33131674",
   "metadata": {},
   "source": [
    "Here, we use our newly created function"
   ]
  },
  {
   "cell_type": "code",
   "execution_count": null,
   "id": "ae598e9e",
   "metadata": {},
   "outputs": [],
   "source": [
    "# Perform preprocessing\n",
    "preprocess_game_details(input_folder, output_folder)"
   ]
  }
 ],
 "metadata": {
  "kernelspec": {
   "display_name": "Python 3 (ipykernel)",
   "language": "python",
   "name": "python3"
  },
  "language_info": {
   "codemirror_mode": {
    "name": "ipython",
    "version": 3
   },
   "file_extension": ".py",
   "mimetype": "text/x-python",
   "name": "python",
   "nbconvert_exporter": "python",
   "pygments_lexer": "ipython3",
   "version": "3.12.2"
  }
 },
 "nbformat": 4,
 "nbformat_minor": 5
}
