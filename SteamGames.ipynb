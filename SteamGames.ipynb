{
 "cells": [
  {
   "cell_type": "code",
   "execution_count": 43,
   "id": "4708fd5b-0ddf_games-4b12-b754-2a9438e5a478",
   "metadata": {},
   "outputs": [],
   "source": [
    "import requests\n",
    "import polars as pl\n",
    "import re"
   ]
  },
  {
   "cell_type": "code",
   "execution_count": 44,
   "id": "c9ced547-99ec-4f3d-9cd7-6ef03d470290",
   "metadata": {},
   "outputs": [],
   "source": [
    "def get_steam_gamesIDs():\n",
    "    url = f\"http://api.steampowered.com/ISteamApps/GetAppList/v2/\"\n",
    "    response = requests.get(url)\n",
    "    data = response.json()\n",
    "    return data['applist']['apps']  # This is a list of dictionaries with 'appid' and 'name'"
   ]
  },
  {
   "cell_type": "code",
   "execution_count": 45,
   "id": "56b79b32-f094-4066-b19a-079356e325ff",
   "metadata": {},
   "outputs": [],
   "source": [
    "games_list = get_steam_gamesIDs()"
   ]
  },
  {
   "cell_type": "code",
   "execution_count": 46,
   "id": "c0c5ff58-0ae8-4da4-9d56-4519e54b318d",
   "metadata": {},
   "outputs": [
    {
     "name": "stdout",
     "output_type": "stream",
     "text": [
      "198468\n"
     ]
    }
   ],
   "source": [
    "print(len(games_list))"
   ]
  },
  {
   "cell_type": "code",
   "execution_count": 54,
   "id": "08ab1024-c640-4353-a933-b064fa28edbf",
   "metadata": {},
   "outputs": [],
   "source": [
    "def clean_app_list(games_list):\n",
    "    # List of keywords to exclude\n",
    "    excluded = ['test', 'client', 'server', 'soundtrack', 'demo']\n",
    "    \n",
    "    # RegEx pattern for checking European characters\n",
    "    european_chars_pattern = re.compile(r'^[a-zA-Z0-9 \\-\\'!@#$%^&*()_+={}[\\]|\\\\:;\"<>,.?/~`€£±§]+$')\n",
    "    \n",
    "    # Filter the list by removing dictionaries whose 'name' is empty,\n",
    "    # contains 'test', 'client', 'server', 'soundtrack', or non-European characters.\n",
    "    filtered_games = [\n",
    "        app for app in games_list \n",
    "        if app['name'] and all(exclude not in app['name'].lower() for exclude in excluded)\n",
    "        and european_chars_pattern.match(app['name'])\n",
    "    ]\n",
    "    return filtered_games"
   ]
  },
  {
   "cell_type": "code",
   "execution_count": 55,
   "id": "2f985949-df_gamesf5-4d9a-a497-20c9bf58de38",
   "metadata": {},
   "outputs": [],
   "source": [
    "filtered_games = clean_app_list(games_list)"
   ]
  },
  {
   "cell_type": "code",
   "execution_count": 57,
   "id": "07969e5b-de96-4a24-ae36-d340de90d01e",
   "metadata": {},
   "outputs": [
    {
     "name": "stdout",
     "output_type": "stream",
     "text": [
      "152214\n"
     ]
    }
   ],
   "source": [
    "print(len(filtered_games))"
   ]
  },
  {
   "cell_type": "code",
   "execution_count": 60,
   "id": "aa3a315b-a420-41f2-9656-bac6cb0014b0",
   "metadata": {},
   "outputs": [
    {
     "data": {
      "text/plain": [
       "[{'appid': 2971390, 'name': 'Roll Five'},\n",
       " {'appid': 1392860, 'name': 'Little Nightmares III'},\n",
       " {'appid': 1372660, 'name': 'An Amazing Wizard'},\n",
       " {'appid': 2945100, 'name': 'Idle Taoist Mage Warrior 2'},\n",
       " {'appid': 1734320, 'name': 'Brutal Orchestra'},\n",
       " {'appid': 2850810, 'name': 'Sticky Clicker!'},\n",
       " {'appid': 1640370, 'name': 'The Court Of Wanderers'},\n",
       " {'appid': 2588990, 'name': 'Survive It: Frozen'},\n",
       " {'appid': 1592750, 'name': 'Anode Heart'},\n",
       " {'appid': 2085000, 'name': 'SaGa Emerald Beyond '}]"
      ]
     },
     "execution_count": 60,
     "metadata": {},
     "output_type": "execute_result"
    }
   ],
   "source": [
    "filtered_games[-10:]"
   ]
  },
  {
   "cell_type": "code",
   "execution_count": 61,
   "id": "f39b064d-c0ff-4ff3-9eb8-adcbb7c85909",
   "metadata": {},
   "outputs": [],
   "source": [
    "df_games = pl.DataFrame(filtered_games)\n",
    "sorted_df_games = df_games.sort(\"appid\")\n",
    "sorted_df_games.write_csv('SteamGames.csv')"
   ]
  },
  {
   "cell_type": "code",
   "execution_count": 63,
   "id": "ebf55119-df_games3e-4bcf-94a2-48fdd92cdd43",
   "metadata": {},
   "outputs": [
    {
     "data": {
      "text/html": [
       "<div><style>\n",
       ".dataframe > thead > tr,\n",
       ".dataframe > tbody > tr {\n",
       "  text-align: right;\n",
       "  white-space: pre-wrap;\n",
       "}\n",
       "</style>\n",
       "<small>shape: (20, 2)</small><table border=\"1\" class=\"dataframe\"><thead><tr><th>appid</th><th>name</th></tr><tr><td>i64</td><td>str</td></tr></thead><tbody><tr><td>8</td><td>&quot;winui2&quot;</td></tr><tr><td>10</td><td>&quot;Counter-Strike&quot;</td></tr><tr><td>20</td><td>&quot;Team Fortress Classic&quot;</td></tr><tr><td>30</td><td>&quot;Day of Defeat&quot;</td></tr><tr><td>40</td><td>&quot;Deathmatch Classic&quot;</td></tr><tr><td>&hellip;</td><td>&hellip;</td></tr><tr><td>218</td><td>&quot;Source SDK Base 2007&quot;</td></tr><tr><td>220</td><td>&quot;Half-Life 2&quot;</td></tr><tr><td>240</td><td>&quot;Counter-Strike: Source&quot;</td></tr><tr><td>260</td><td>&quot;Counter-Strike: Source Beta&quot;</td></tr><tr><td>280</td><td>&quot;Half-Life: Source&quot;</td></tr></tbody></table></div>"
      ],
      "text/plain": [
       "shape: (20, 2)\n",
       "┌───────┬─────────────────────────────┐\n",
       "│ appid ┆ name                        │\n",
       "│ ---   ┆ ---                         │\n",
       "│ i64   ┆ str                         │\n",
       "╞═══════╪═════════════════════════════╡\n",
       "│ 8     ┆ winui2                      │\n",
       "│ 10    ┆ Counter-Strike              │\n",
       "│ 20    ┆ Team Fortress Classic       │\n",
       "│ 30    ┆ Day of Defeat               │\n",
       "│ 40    ┆ Deathmatch Classic          │\n",
       "│ …     ┆ …                           │\n",
       "│ 218   ┆ Source SDK Base 2007        │\n",
       "│ 220   ┆ Half-Life 2                 │\n",
       "│ 240   ┆ Counter-Strike: Source      │\n",
       "│ 260   ┆ Counter-Strike: Source Beta │\n",
       "│ 280   ┆ Half-Life: Source           │\n",
       "└───────┴─────────────────────────────┘"
      ]
     },
     "execution_count": 63,
     "metadata": {},
     "output_type": "execute_result"
    }
   ],
   "source": [
    "sorted_df_games.head(20)"
   ]
  },
  {
   "cell_type": "code",
   "execution_count": 21,
   "id": "c4d13953-65c7-47fd-9b29-dbeae08a75b5",
   "metadata": {},
   "outputs": [],
   "source": [
    "def find_apps_by_term(apps, term):\n",
    "    # Überprüfe, ob der Begriff im 'name' jedes Dictionaries enthalten ist. Ignoriere dabei Groß- und Kleinschreibung.\n",
    "    matching_apps = [app for app in apps if term.lower() in app['name'].lower()]\n",
    "    return matching_apps"
   ]
  },
  {
   "cell_type": "code",
   "execution_count": 64,
   "id": "092c3b86-90a4-47f8-aa41-18df_gamescdae5b4b",
   "metadata": {},
   "outputs": [
    {
     "data": {
      "text/plain": [
       "[{'appid': 2744840, 'name': 'Road Toad'},\n",
       " {'appid': 2744860, 'name': 'Coloring Pixels - Space 2 Pack'},\n",
       " {'appid': 2744900, 'name': 'Detective Kiwi'},\n",
       " {'appid': 2744930, 'name': 'Flee or Be'},\n",
       " {'appid': 2744950, 'name': \"Dad's Coming Demo\"}]"
      ]
     },
     "execution_count": 64,
     "metadata": {},
     "output_type": "execute_result"
    }
   ],
   "source": [
    "search = find_apps_by_term(filtered_apps, \" \")\n",
    "search[:5]"
   ]
  },
  {
   "cell_type": "code",
   "execution_count": 67,
   "id": "5998a6c8-5524-41ad-8f9a-518ed53a63c2",
   "metadata": {},
   "outputs": [],
   "source": [
    "def find_game_name(games, appid):\n",
    "    for game in games:\n",
    "        if game['appid'] == appid:\n",
    "            return game['name']\n",
    "    return \"Spiel mit dieser AppID nicht gefunden.\""
   ]
  },
  {
   "cell_type": "code",
   "execution_count": 68,
   "id": "d363d3bb-5ab4-462d-9ff4-e589c6555528",
   "metadata": {},
   "outputs": [
    {
     "data": {
      "text/plain": [
       "'Counter-Strike'"
      ]
     },
     "execution_count": 68,
     "metadata": {},
     "output_type": "execute_result"
    }
   ],
   "source": [
    "appid = 10\n",
    "find_game_name(filtered_apps, appid)"
   ]
  },
  {
   "cell_type": "code",
   "execution_count": null,
   "id": "b04e1aa2-34a3-437b-ad16-accecd4d93ae",
   "metadata": {},
   "outputs": [],
   "source": []
  }
 ],
 "metadata": {
  "kernelspec": {
   "display_name": "Python 3 (ipykernel)",
   "language": "python",
   "name": "python3"
  },
  "language_info": {
   "codemirror_mode": {
    "name": "ipython",
    "version": 3
   },
   "file_extension": ".py",
   "mimetype": "text/x-python",
   "name": "python",
   "nbconvert_exporter": "python",
   "pygments_lexer": "ipython3",
   "version": "3.12.2"
  }
 },
 "nbformat": 4,
 "nbformat_minor": 5
}
