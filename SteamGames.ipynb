{
 "cells": [
  {
   "cell_type": "code",
   "execution_count": 1,
   "id": "4708fd5b-0ddf-4b12-b754-2a9438e5a478",
   "metadata": {},
   "outputs": [],
   "source": [
    "import requests\n",
    "import polars as pl"
   ]
  },
  {
   "cell_type": "code",
   "execution_count": 4,
   "id": "1d1eabb1-8e4c-4d96-a73f-7f744d8ad5a6",
   "metadata": {},
   "outputs": [],
   "source": [
    "API_KEY = \"D6D1CE08CB30226CDC\""
   ]
  },
  {
   "cell_type": "code",
   "execution_count": 3,
   "id": "c9ced547-99ec-4f3d-9cd7-6ef03d470290",
   "metadata": {},
   "outputs": [],
   "source": [
    "def get_steam_gamesIDs():\n",
    "    url = f\"http://api.steampowered.com/ISteamApps/GetAppList/v2/\"\n",
    "    response = requests.get(url)\n",
    "    data = response.json()\n",
    "    return data['applist']['apps']  # This is a list of dictionaries with 'appid' and 'name'"
   ]
  },
  {
   "cell_type": "code",
   "execution_count": 5,
   "id": "56b79b32-f094-4066-b19a-079356e325ff",
   "metadata": {},
   "outputs": [],
   "source": [
    "games_list = get_steam_gamesIDs()"
   ]
  },
  {
   "cell_type": "code",
   "execution_count": 8,
   "id": "c0c5ff58-0ae8-4da4-9d56-4519e54b318d",
   "metadata": {},
   "outputs": [
    {
     "name": "stdout",
     "output_type": "stream",
     "text": [
      "198462\n"
     ]
    }
   ],
   "source": [
    "print(len(games_list))"
   ]
  },
  {
   "cell_type": "code",
   "execution_count": 14,
   "id": "08ab1024-c640-4353-a933-b064fa28edbf",
   "metadata": {},
   "outputs": [],
   "source": [
    "def clean_app_list(games_list):\n",
    "    # Filtere die Liste, indem du alle Dictionaries entfernst, deren 'name' leer ist oder 'test' enthält.\n",
    "    filtered_apps = [app for app in games_list if app['name'] and 'test' not in app['name'].lower()]\n",
    "    return filtered_apps"
   ]
  },
  {
   "cell_type": "code",
   "execution_count": 15,
   "id": "2f985949-dff5-4d9a-a497-20c9bf58de38",
   "metadata": {},
   "outputs": [],
   "source": [
    "filtered_apps = clean_app_list(games_list)"
   ]
  },
  {
   "cell_type": "code",
   "execution_count": 17,
   "id": "07969e5b-de96-4a24-ae36-d340de90d01e",
   "metadata": {},
   "outputs": [
    {
     "name": "stdout",
     "output_type": "stream",
     "text": [
      "194441\n"
     ]
    }
   ],
   "source": [
    "print(len(filtered_apps))"
   ]
  },
  {
   "cell_type": "code",
   "execution_count": 21,
   "id": "c4d13953-65c7-47fd-9b29-dbeae08a75b5",
   "metadata": {},
   "outputs": [],
   "source": [
    "def find_apps_by_term(apps, term):\n",
    "    # Überprüfe, ob der Begriff im 'name' jedes Dictionaries enthalten ist. Ignoriere dabei Groß- und Kleinschreibung.\n",
    "    matching_apps = [app for app in apps if term.lower() in app['name'].lower()]\n",
    "    return matching_apps"
   ]
  },
  {
   "cell_type": "code",
   "execution_count": 24,
   "id": "092c3b86-90a4-47f8-aa41-18dfcdae5b4b",
   "metadata": {},
   "outputs": [
    {
     "data": {
      "text/plain": [
       "[{'appid': 2593820, 'name': 'dotAGE OST'},\n",
       " {'appid': 1360210,\n",
       "  'name': 'Artificial Life 2061: Cybersys - Diva Of The VRworld, Babel Project: \"Kodota Komori 1416\" [Made by: Joseph Sanz]'},\n",
       " {'appid': 318940, 'name': 'Dota 2 - Premium DLC'},\n",
       " {'appid': 316570, 'name': 'Dota 2 Workshop Tools Alpha'},\n",
       " {'appid': 575, 'name': 'Dota 2 - English Depot'},\n",
       " {'appid': 576, 'name': 'Dota 2 - SteelSeries DLC '},\n",
       " {'appid': 581, 'name': 'Dota 2 - Murrissey the Smeevil'},\n",
       " {'appid': 582, 'name': 'Dota 2 - Lockjaw the Boxhound'},\n",
       " {'appid': 583, 'name': 'Dota 2 - Drodo the Druffin'},\n",
       " {'appid': 584, 'name': 'Dota 2 - Inflatable Donkey Courier'},\n",
       " {'appid': 585, 'name': 'Dota 2 - Plush Donkey Courier'},\n",
       " {'appid': 586, 'name': 'Dota 2 - International Axe'},\n",
       " {'appid': 318940, 'name': 'Dota 2 - Premium DLC'},\n",
       " {'appid': 316570, 'name': 'Dota 2 Workshop Tools Alpha'},\n",
       " {'appid': 1046930, 'name': 'Dota Underlords'},\n",
       " {'appid': 575, 'name': 'Dota 2 - English Depot'},\n",
       " {'appid': 576, 'name': 'Dota 2 - SteelSeries DLC '},\n",
       " {'appid': 581, 'name': 'Dota 2 - Murrissey the Smeevil'},\n",
       " {'appid': 582, 'name': 'Dota 2 - Lockjaw the Boxhound'},\n",
       " {'appid': 583, 'name': 'Dota 2 - Drodo the Druffin'},\n",
       " {'appid': 584, 'name': 'Dota 2 - Inflatable Donkey Courier'},\n",
       " {'appid': 585, 'name': 'Dota 2 - Plush Donkey Courier'},\n",
       " {'appid': 586, 'name': 'Dota 2 - International Axe'},\n",
       " {'appid': 1090070, 'name': 'Dota 2 - Short Film 2019'},\n",
       " {'appid': 647770, 'name': 'Dota 2 - Short Film 2017'},\n",
       " {'appid': 420090, 'name': 'Dota 2 Player Profiles: EG Champions of TI5'},\n",
       " {'appid': 419910,\n",
       "  'name': \"Dota 2 Player Profiles: CDEC's Journey to The Majors\"},\n",
       " {'appid': 534613,\n",
       "  'name': 'Steam Dev Days: In-Game Economies in Team Fortress 2 and Dota 2'},\n",
       " {'appid': 523480, 'name': 'Dota 2 Player Profiles: Vici Gaming Reborn - END'},\n",
       " {'appid': 523481, 'name': 'Dota 2 Player Profiles: OG - Fly'},\n",
       " {'appid': 523482, 'name': 'Dota 2 Player Profiles: EHOME - iceiceice'},\n",
       " {'appid': 523483, 'name': 'Dota 2 Player Profiles: Team Liquid - MATUMBAMAN'},\n",
       " {'appid': 523484, 'name': 'Dota 2 Player Profiles: LGD - Maybe'},\n",
       " {'appid': 523485, 'name': 'Dota 2 Player Profiles: MVP Phoenix - QO'},\n",
       " {'appid': 523486,\n",
       "  'name': 'Dota 2 Player Profiles: Not Playing Dota with Complexity'},\n",
       " {'appid': 523487,\n",
       "  'name': 'Dota 2 Player Profiles: Not Playing Dota with Dendi'},\n",
       " {'appid': 523488,\n",
       "  'name': 'Dota 2 Player Profiles: Not Playing Dota with END'},\n",
       " {'appid': 523489,\n",
       "  'name': 'Dota 2 Player Profiles: Not Playing Dota With MATUMBAMAN'},\n",
       " {'appid': 523490, 'name': 'Dota 2 Player Profiles: Not Playing Dota With QO'},\n",
       " {'appid': 875860, 'name': 'Dota 2 - Short Film 2018'},\n",
       " {'appid': 702690, 'name': 'Dota 2 Player Profiles: OG - ANA'},\n",
       " {'appid': 702691,\n",
       "  'name': 'Dota 2 Player Profiles: Invictus Gaming -  BurNIng'},\n",
       " {'appid': 702692, 'name': 'Dota 2 Player Profiles: Team Liquid - Miracle-'},\n",
       " {'appid': 702693, 'name': 'Dota 2 Player Profiles: Virtus.Pro'},\n",
       " {'appid': 702694,\n",
       "  'name': 'Dota 2 Player Profiles: Not Playing Dota With ANA'},\n",
       " {'appid': 702695,\n",
       "  'name': 'Dota 2 Player Profiles: Not Playing Dota with Universe and Zai'},\n",
       " {'appid': 702696,\n",
       "  'name': 'Dota 2 Player Profiles: Not Playing Dota With Virtus.Pro'},\n",
       " {'appid': 1997180, 'name': 'dotAGE Demo'},\n",
       " {'appid': 570, 'name': 'Dota 2'},\n",
       " {'appid': 638510, 'name': 'dotAGE'}]"
      ]
     },
     "execution_count": 24,
     "metadata": {},
     "output_type": "execute_result"
    }
   ],
   "source": [
    "search = find_apps_by_term(filtered_apps, \"Dota\")\n",
    "search"
   ]
  },
  {
   "cell_type": "code",
   "execution_count": 26,
   "id": "8752750b-9558-43b4-a812-a8c3f4273af9",
   "metadata": {},
   "outputs": [],
   "source": [
    "result = get_steam_reviews(570)"
   ]
  },
  {
   "cell_type": "code",
   "execution_count": 30,
   "id": "da9c20ae-78a1-4227-a560-32f65b5b9ea3",
   "metadata": {},
   "outputs": [
    {
     "data": {
      "text/plain": [
       "[{'recommendationid': '163411344',\n",
       "  'author': {'steamid': '76561198079079664',\n",
       "   'num_games_owned': 0,\n",
       "   'num_reviews': 22,\n",
       "   'playtime_forever': 17549,\n",
       "   'playtime_last_two_weeks': 0,\n",
       "   'playtime_at_review': 17549,\n",
       "   'last_played': 1713792772},\n",
       "  'language': 'english',\n",
       "  'review': \"fun with friends in customs or against bots but the community is way too toxic. you'd have more fun drinking poison than being screamed at by these addicts. cool game toxic community and no real way to circumvent that other than to go do literally anything else\",\n",
       "  'timestamp_created': 1713830427,\n",
       "  'timestamp_updated': 1713830427,\n",
       "  'voted_up': False,\n",
       "  'votes_up': 4,\n",
       "  'votes_funny': 0,\n",
       "  'weighted_vote_score': '0.532019674777984619',\n",
       "  'comment_count': 0,\n",
       "  'steam_purchase': True,\n",
       "  'received_for_free': False,\n",
       "  'written_during_early_access': False,\n",
       "  'hidden_in_steam_china': True,\n",
       "  'steam_china_location': ''},\n",
       " {'recommendationid': '163713586',\n",
       "  'author': {'steamid': '76561198043355760',\n",
       "   'num_games_owned': 195,\n",
       "   'num_reviews': 15,\n",
       "   'playtime_forever': 29217,\n",
       "   'playtime_last_two_weeks': 2464,\n",
       "   'playtime_at_review': 26712,\n",
       "   'last_played': 1715491969},\n",
       "  'language': 'english',\n",
       "  'review': 'Ah, Dota 2, the game where toxicity flows like a never-ending river and the community is as welcoming as a pack of hungry wolves. Strap in, folks, because this rollercoaster of emotional distress is about to make you question your life choices.\\n\\nLet\\'s start with the community, shall we? A lovely bunch, really, if your idea of lovely involves getting flamed for daring to pick a hero someone else wanted. And don\\'t even get me started on the joy of encountering smurfs who stomp around like they own the place, leaving a trail of shattered dreams in their wake.\\n\\nBut wait, there\\'s more! Ever wanted to experience the thrill of spending an hour in a match, only to have your hopes dashed by a single misstep? Congratulations, Dota 2 has got you covered. And let\\'s not forget the joy of watching your teammates rage quit faster than you can say \"GG.\"\\n\\nAnd don\\'t even think about trying to improve. Sure, you could watch tutorials, read guides, and practice till your fingers bleed, but why bother when you can just blame your losses on everyone else? It\\'s the Dota 2 way!\\n\\nBut overall, despite the salt mines and the occasional dumpster fire of a match, I would still recommend this game. Because beneath all the toxicity lies a surprisingly addictive experience that somehow keeps you coming back for more punishment. So, if you\\'re ready to dive headfirst into a cesspool of salt, frustration, and occasional glimpses of actual gameplay, welcome to Dota 2. Just remember to bring a hazmat suit and a healthy dose of sarcasm. You\\'re gonna need it.',\n",
       "  'timestamp_created': 1714238422,\n",
       "  'timestamp_updated': 1714238422,\n",
       "  'voted_up': True,\n",
       "  'votes_up': 2,\n",
       "  'votes_funny': 0,\n",
       "  'weighted_vote_score': '0.53125',\n",
       "  'comment_count': 0,\n",
       "  'steam_purchase': True,\n",
       "  'received_for_free': False,\n",
       "  'written_during_early_access': False,\n",
       "  'hidden_in_steam_china': True,\n",
       "  'steam_china_location': ''}]"
      ]
     },
     "execution_count": 30,
     "metadata": {},
     "output_type": "execute_result"
    }
   ],
   "source": [
    "result[\"reviews\"]"
   ]
  },
  {
   "cell_type": "code",
   "execution_count": null,
   "id": "5998a6c8-5524-41ad-8f9a-518ed53a63c2",
   "metadata": {},
   "outputs": [],
   "source": []
  }
 ],
 "metadata": {
  "kernelspec": {
   "display_name": "Python 3 (ipykernel)",
   "language": "python",
   "name": "python3"
  },
  "language_info": {
   "codemirror_mode": {
    "name": "ipython",
    "version": 3
   },
   "file_extension": ".py",
   "mimetype": "text/x-python",
   "name": "python",
   "nbconvert_exporter": "python",
   "pygments_lexer": "ipython3",
   "version": "3.12.2"
  }
 },
 "nbformat": 4,
 "nbformat_minor": 5
}
